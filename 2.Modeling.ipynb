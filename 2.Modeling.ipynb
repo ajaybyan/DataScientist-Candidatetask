{
 "cells": [
  {
   "cell_type": "markdown",
   "id": "f781abcc",
   "metadata": {},
   "source": [
    "# MODELING  \n",
    "- Modeling a multi-layer perceptron neural network with tensoflow-keras"
   ]
  },
  {
   "cell_type": "code",
   "execution_count": 1,
   "id": "ca9f088f",
   "metadata": {},
   "outputs": [],
   "source": [
    "import pandas as pd"
   ]
  },
  {
   "cell_type": "code",
   "execution_count": 2,
   "id": "1fac5087",
   "metadata": {},
   "outputs": [
    {
     "data": {
      "text/plain": [
       "(317369, 11)"
      ]
     },
     "execution_count": 2,
     "metadata": {},
     "output_type": "execute_result"
    }
   ],
   "source": [
    "## load the data\n",
    "\n",
    "df = pd.read_csv('data_modeling.csv')\n",
    "\n",
    "df.shape"
   ]
  },
  {
   "cell_type": "code",
   "execution_count": 3,
   "id": "a08550a9",
   "metadata": {},
   "outputs": [
    {
     "data": {
      "text/plain": [
       "KUNTA                         object\n",
       "Toimittajan nimi              object\n",
       "Toimittajan maakoodi          object\n",
       "Laskun summa ilman ALV:tä    float64\n",
       "TILI                           int64\n",
       "Kokonaissumma                float64\n",
       "ALV-KOODI                    float64\n",
       "RIVIN OSUUS VERO             float64\n",
       "Kustannuspaikka               object\n",
       "Tositepäivämäärä_month         int64\n",
       "Tositepäivämäärä_day           int64\n",
       "dtype: object"
      ]
     },
     "execution_count": 3,
     "metadata": {},
     "output_type": "execute_result"
    }
   ],
   "source": [
    "# check data types\n",
    "df.dtypes"
   ]
  },
  {
   "cell_type": "code",
   "execution_count": 4,
   "id": "25c1b1a7",
   "metadata": {},
   "outputs": [],
   "source": [
    "# convert data types for the target features into categorical\n",
    "df['TILI'] = df['TILI'].astype(object)\n",
    "df['ALV-KOODI'] = df['ALV-KOODI'].astype(object)"
   ]
  },
  {
   "cell_type": "code",
   "execution_count": null,
   "id": "df82491b",
   "metadata": {},
   "outputs": [],
   "source": []
  },
  {
   "cell_type": "code",
   "execution_count": null,
   "id": "6564612e",
   "metadata": {},
   "outputs": [],
   "source": []
  },
  {
   "cell_type": "markdown",
   "id": "c6647a57",
   "metadata": {},
   "source": [
    "## DATA PREPARATION  \n",
    "- drop missing values\n",
    "    - As we discovered in the data understanding, there were some features with missing values. So, here we will simply drop the records that have missing values.\n",
    "- convert categorical features to numeric\n",
    "    - For machine learning modeling we need to have categorical features as numeric. For the baseline modeling we can simply use ordinal encoding for encoding categorical features as numeric."
   ]
  },
  {
   "cell_type": "code",
   "execution_count": 5,
   "id": "421f7c8a",
   "metadata": {},
   "outputs": [],
   "source": [
    "from feature_engine.imputation import DropMissingData\n",
    "from feature_engine.encoding import OrdinalEncoder\n",
    "from feature_engine.wrappers import SklearnTransformerWrapper\n",
    "from sklearn.preprocessing import MinMaxScaler\n",
    "from sklearn.pipeline import Pipeline\n"
   ]
  },
  {
   "cell_type": "code",
   "execution_count": 6,
   "id": "b883611d",
   "metadata": {},
   "outputs": [
    {
     "name": "stdout",
     "output_type": "stream",
     "text": [
      "['KUNTA', 'Toimittajan nimi', 'Toimittajan maakoodi', 'Kustannuspaikka']\n"
     ]
    }
   ],
   "source": [
    "# list categorical input features\n",
    "cat_features = [feat for feat in df.columns if df[feat].dtype=='O' and feat not in ['TILI', 'ALV-KOODI']]\n",
    "\n",
    "print(cat_features)\n"
   ]
  },
  {
   "cell_type": "code",
   "execution_count": 7,
   "id": "0040960f",
   "metadata": {},
   "outputs": [],
   "source": [
    "# create pipeline for data pre-processing\n",
    "preprocessing_pipeline = Pipeline(steps=[\n",
    "    \n",
    "    # drop records with missing values\n",
    "    ('Missing', DropMissingData()),\n",
    "    \n",
    "    # ordinal encoding for categorical features\n",
    "    ('Ordinal_Encoding', OrdinalEncoder(encoding_method='arbitrary', variables = cat_features))\n",
    "    \n",
    "    ] \n",
    ")\n",
    "\n",
    "# minmax scaling the features - excluding the targets\n",
    "#    ('MinMax_Scaling', SklearnTransformerWrapper(transformer=MinMaxScaler(),\n",
    "#                                                 variables = [var for var in df.columns if var not in ['TILI', 'ALV-KOODI']]))"
   ]
  },
  {
   "cell_type": "code",
   "execution_count": 8,
   "id": "a559f2e3",
   "metadata": {},
   "outputs": [],
   "source": [
    "# fit the pipeline and transform the data\n",
    "\n",
    "df_transformed = preprocessing_pipeline.fit_transform(df)"
   ]
  },
  {
   "cell_type": "code",
   "execution_count": 9,
   "id": "f8cb1f90",
   "metadata": {},
   "outputs": [
    {
     "data": {
      "text/plain": [
       "KUNTA                        0\n",
       "Toimittajan nimi             0\n",
       "Toimittajan maakoodi         0\n",
       "Laskun summa ilman ALV:tä    0\n",
       "TILI                         0\n",
       "Kokonaissumma                0\n",
       "ALV-KOODI                    0\n",
       "RIVIN OSUUS VERO             0\n",
       "Kustannuspaikka              0\n",
       "Tositepäivämäärä_month       0\n",
       "Tositepäivämäärä_day         0\n",
       "dtype: int64"
      ]
     },
     "execution_count": 9,
     "metadata": {},
     "output_type": "execute_result"
    }
   ],
   "source": [
    "# check if any missing values\n",
    "df_transformed.isnull().sum()"
   ]
  },
  {
   "cell_type": "code",
   "execution_count": 10,
   "id": "00f1d84b",
   "metadata": {},
   "outputs": [
    {
     "data": {
      "text/html": [
       "<div>\n",
       "<style scoped>\n",
       "    .dataframe tbody tr th:only-of-type {\n",
       "        vertical-align: middle;\n",
       "    }\n",
       "\n",
       "    .dataframe tbody tr th {\n",
       "        vertical-align: top;\n",
       "    }\n",
       "\n",
       "    .dataframe thead th {\n",
       "        text-align: right;\n",
       "    }\n",
       "</style>\n",
       "<table border=\"1\" class=\"dataframe\">\n",
       "  <thead>\n",
       "    <tr style=\"text-align: right;\">\n",
       "      <th></th>\n",
       "      <th>KUNTA</th>\n",
       "      <th>Toimittajan nimi</th>\n",
       "      <th>Toimittajan maakoodi</th>\n",
       "      <th>Kustannuspaikka</th>\n",
       "    </tr>\n",
       "  </thead>\n",
       "  <tbody>\n",
       "    <tr>\n",
       "      <th>0</th>\n",
       "      <td>0</td>\n",
       "      <td>0</td>\n",
       "      <td>0</td>\n",
       "      <td>0</td>\n",
       "    </tr>\n",
       "    <tr>\n",
       "      <th>1</th>\n",
       "      <td>0</td>\n",
       "      <td>0</td>\n",
       "      <td>0</td>\n",
       "      <td>1</td>\n",
       "    </tr>\n",
       "    <tr>\n",
       "      <th>2</th>\n",
       "      <td>0</td>\n",
       "      <td>0</td>\n",
       "      <td>0</td>\n",
       "      <td>2</td>\n",
       "    </tr>\n",
       "    <tr>\n",
       "      <th>3</th>\n",
       "      <td>0</td>\n",
       "      <td>0</td>\n",
       "      <td>0</td>\n",
       "      <td>3</td>\n",
       "    </tr>\n",
       "    <tr>\n",
       "      <th>4</th>\n",
       "      <td>0</td>\n",
       "      <td>0</td>\n",
       "      <td>0</td>\n",
       "      <td>4</td>\n",
       "    </tr>\n",
       "  </tbody>\n",
       "</table>\n",
       "</div>"
      ],
      "text/plain": [
       "   KUNTA  Toimittajan nimi  Toimittajan maakoodi  Kustannuspaikka\n",
       "0      0                 0                     0                0\n",
       "1      0                 0                     0                1\n",
       "2      0                 0                     0                2\n",
       "3      0                 0                     0                3\n",
       "4      0                 0                     0                4"
      ]
     },
     "execution_count": 10,
     "metadata": {},
     "output_type": "execute_result"
    }
   ],
   "source": [
    "# check data for categorical features\n",
    "df_transformed[cat_features].head()"
   ]
  },
  {
   "cell_type": "code",
   "execution_count": 11,
   "id": "9d89d8ba",
   "metadata": {},
   "outputs": [
    {
     "data": {
      "text/html": [
       "<div>\n",
       "<style scoped>\n",
       "    .dataframe tbody tr th:only-of-type {\n",
       "        vertical-align: middle;\n",
       "    }\n",
       "\n",
       "    .dataframe tbody tr th {\n",
       "        vertical-align: top;\n",
       "    }\n",
       "\n",
       "    .dataframe thead th {\n",
       "        text-align: right;\n",
       "    }\n",
       "</style>\n",
       "<table border=\"1\" class=\"dataframe\">\n",
       "  <thead>\n",
       "    <tr style=\"text-align: right;\">\n",
       "      <th></th>\n",
       "      <th>KUNTA</th>\n",
       "      <th>Toimittajan nimi</th>\n",
       "      <th>Toimittajan maakoodi</th>\n",
       "      <th>Laskun summa ilman ALV:tä</th>\n",
       "      <th>TILI</th>\n",
       "      <th>Kokonaissumma</th>\n",
       "      <th>ALV-KOODI</th>\n",
       "      <th>RIVIN OSUUS VERO</th>\n",
       "      <th>Kustannuspaikka</th>\n",
       "      <th>Tositepäivämäärä_month</th>\n",
       "      <th>Tositepäivämäärä_day</th>\n",
       "    </tr>\n",
       "  </thead>\n",
       "  <tbody>\n",
       "    <tr>\n",
       "      <th>0</th>\n",
       "      <td>0</td>\n",
       "      <td>0</td>\n",
       "      <td>0</td>\n",
       "      <td>116.23</td>\n",
       "      <td>4520</td>\n",
       "      <td>132.50</td>\n",
       "      <td>114.0</td>\n",
       "      <td>16.27</td>\n",
       "      <td>0</td>\n",
       "      <td>1</td>\n",
       "      <td>8</td>\n",
       "    </tr>\n",
       "    <tr>\n",
       "      <th>1</th>\n",
       "      <td>0</td>\n",
       "      <td>0</td>\n",
       "      <td>0</td>\n",
       "      <td>89.78</td>\n",
       "      <td>4300</td>\n",
       "      <td>94.50</td>\n",
       "      <td>105.0</td>\n",
       "      <td>4.72</td>\n",
       "      <td>1</td>\n",
       "      <td>1</td>\n",
       "      <td>11</td>\n",
       "    </tr>\n",
       "    <tr>\n",
       "      <th>2</th>\n",
       "      <td>0</td>\n",
       "      <td>0</td>\n",
       "      <td>0</td>\n",
       "      <td>135.00</td>\n",
       "      <td>4340</td>\n",
       "      <td>167.40</td>\n",
       "      <td>124.0</td>\n",
       "      <td>32.40</td>\n",
       "      <td>2</td>\n",
       "      <td>1</td>\n",
       "      <td>11</td>\n",
       "    </tr>\n",
       "    <tr>\n",
       "      <th>3</th>\n",
       "      <td>0</td>\n",
       "      <td>0</td>\n",
       "      <td>0</td>\n",
       "      <td>149.00</td>\n",
       "      <td>4510</td>\n",
       "      <td>184.76</td>\n",
       "      <td>124.0</td>\n",
       "      <td>35.76</td>\n",
       "      <td>3</td>\n",
       "      <td>1</td>\n",
       "      <td>11</td>\n",
       "    </tr>\n",
       "    <tr>\n",
       "      <th>4</th>\n",
       "      <td>0</td>\n",
       "      <td>0</td>\n",
       "      <td>0</td>\n",
       "      <td>189.11</td>\n",
       "      <td>4520</td>\n",
       "      <td>215.59</td>\n",
       "      <td>114.0</td>\n",
       "      <td>26.48</td>\n",
       "      <td>4</td>\n",
       "      <td>1</td>\n",
       "      <td>12</td>\n",
       "    </tr>\n",
       "  </tbody>\n",
       "</table>\n",
       "</div>"
      ],
      "text/plain": [
       "   KUNTA  Toimittajan nimi  Toimittajan maakoodi  Laskun summa ilman ALV:tä  \\\n",
       "0      0                 0                     0                     116.23   \n",
       "1      0                 0                     0                      89.78   \n",
       "2      0                 0                     0                     135.00   \n",
       "3      0                 0                     0                     149.00   \n",
       "4      0                 0                     0                     189.11   \n",
       "\n",
       "   TILI  Kokonaissumma ALV-KOODI  RIVIN OSUUS VERO  Kustannuspaikka  \\\n",
       "0  4520         132.50     114.0             16.27                0   \n",
       "1  4300          94.50     105.0              4.72                1   \n",
       "2  4340         167.40     124.0             32.40                2   \n",
       "3  4510         184.76     124.0             35.76                3   \n",
       "4  4520         215.59     114.0             26.48                4   \n",
       "\n",
       "   Tositepäivämäärä_month  Tositepäivämäärä_day  \n",
       "0                       1                     8  \n",
       "1                       1                    11  \n",
       "2                       1                    11  \n",
       "3                       1                    11  \n",
       "4                       1                    12  "
      ]
     },
     "execution_count": 11,
     "metadata": {},
     "output_type": "execute_result"
    }
   ],
   "source": [
    "df_transformed.head()"
   ]
  },
  {
   "cell_type": "code",
   "execution_count": null,
   "id": "253d8b4a",
   "metadata": {},
   "outputs": [],
   "source": []
  },
  {
   "cell_type": "code",
   "execution_count": 12,
   "id": "c0e7d013",
   "metadata": {},
   "outputs": [
    {
     "data": {
      "text/plain": [
       "68"
      ]
     },
     "execution_count": 12,
     "metadata": {},
     "output_type": "execute_result"
    }
   ],
   "source": [
    "# number of categories in the target feature 'TILI'\n",
    "df_transformed['TILI'].nunique()"
   ]
  },
  {
   "cell_type": "code",
   "execution_count": 13,
   "id": "79e75264",
   "metadata": {},
   "outputs": [
    {
     "data": {
      "text/plain": [
       "21"
      ]
     },
     "execution_count": 13,
     "metadata": {},
     "output_type": "execute_result"
    }
   ],
   "source": [
    "# number of categories in the target feature 'AlV-KOODI'\n",
    "df_transformed['ALV-KOODI'].nunique()"
   ]
  },
  {
   "cell_type": "code",
   "execution_count": null,
   "id": "0363b5f8",
   "metadata": {},
   "outputs": [],
   "source": []
  },
  {
   "cell_type": "markdown",
   "id": "74b275ea",
   "metadata": {},
   "source": [
    "### Tensorflow Dataset Preparation"
   ]
  },
  {
   "cell_type": "code",
   "execution_count": 14,
   "id": "7e3c7eb6",
   "metadata": {},
   "outputs": [],
   "source": [
    "from sklearn.model_selection import train_test_split\n",
    "from sklearn.preprocessing import LabelEncoder\n",
    "from tensorflow.keras.utils import to_categorical\n",
    "from tensorflow.data import Dataset, AUTOTUNE"
   ]
  },
  {
   "cell_type": "code",
   "execution_count": 15,
   "id": "cef875aa",
   "metadata": {},
   "outputs": [
    {
     "data": {
      "text/plain": [
       "((249052, 11), (62263, 11))"
      ]
     },
     "execution_count": 15,
     "metadata": {},
     "output_type": "execute_result"
    }
   ],
   "source": [
    "# create train and test split\n",
    "train, test = train_test_split(df_transformed, test_size=0.2, random_state = 123)\n",
    "\n",
    "train.shape, test.shape"
   ]
  },
  {
   "cell_type": "code",
   "execution_count": 16,
   "id": "50c951e1",
   "metadata": {},
   "outputs": [
    {
     "data": {
      "text/plain": [
       "((249052, 9), (249052,), (249052,))"
      ]
     },
     "execution_count": 16,
     "metadata": {},
     "output_type": "execute_result"
    }
   ],
   "source": [
    "# seprate input features and target for the train data\n",
    "\n",
    "train_features = train.drop(['TILI', 'ALV-KOODI'], axis = 1)\n",
    "train_target_tili = train['TILI']  # target feature TILI\n",
    "train_target_alvi = train['ALV-KOODI']  # target feature alvi-koodi\n",
    "\n",
    "train_features.shape,  train_target_tili.shape, train_target_alvi.shape\n"
   ]
  },
  {
   "cell_type": "code",
   "execution_count": 17,
   "id": "9e2d14ea",
   "metadata": {},
   "outputs": [
    {
     "data": {
      "text/plain": [
       "((62263, 9), (62263,), (62263,))"
      ]
     },
     "execution_count": 17,
     "metadata": {},
     "output_type": "execute_result"
    }
   ],
   "source": [
    "# seprate input features and target for the test data\n",
    "\n",
    "test_features = test.drop(['TILI', 'ALV-KOODI'], axis = 1)\n",
    "test_target_tili = test['TILI']  # target feature TILI\n",
    "test_target_alvi = test['ALV-KOODI']  # target feature alvi-koodi\n",
    "\n",
    "test_features.shape, test_target_tili.shape, test_target_alvi.shape"
   ]
  },
  {
   "cell_type": "code",
   "execution_count": 18,
   "id": "f59d5315",
   "metadata": {},
   "outputs": [],
   "source": [
    "## label endcoding the targets\n",
    "\n",
    "# label encode train and test targets for target feature tili\n",
    "le_tili = LabelEncoder()\n",
    "train_target_tili_le = le_tili.fit_transform(train_target_tili)\n",
    "test_target_tili_le = le_tili.transform(test_target_tili)\n",
    "\n",
    "# label encode train and test targets for target feature alv-koodi\n",
    "le_alvi = LabelEncoder()\n",
    "train_target_alvi_le = le_alvi.fit_transform(train_target_alvi)\n",
    "test_target_alvi_le = le_alvi.transform(test_target_alvi)\n"
   ]
  },
  {
   "cell_type": "code",
   "execution_count": null,
   "id": "09cfcd33",
   "metadata": {},
   "outputs": [],
   "source": []
  },
  {
   "cell_type": "code",
   "execution_count": 52,
   "id": "bf3768c8",
   "metadata": {},
   "outputs": [],
   "source": [
    "# create tensorflow dataset - train data\n",
    "\n",
    "train_tf_dataset = Dataset.from_tensor_slices((train_features.values, (train_target_tili_le, train_target_alvi_le)))\n",
    "\n",
    "# create tensorflow dataset - test data\n",
    "test_tf_dataset = Dataset.from_tensor_slices((test_features.values, (test_target_tili_le, test_target_alvi_le)))"
   ]
  },
  {
   "cell_type": "code",
   "execution_count": 53,
   "id": "2f843fa6",
   "metadata": {},
   "outputs": [],
   "source": [
    "# mapping function to indicate the targets in the tensorflow datasets\n",
    "def map_target(features, targets):\n",
    "    return features, {\"TILI\":targets[0], \"ALV-KOODI\":targets[1]}"
   ]
  },
  {
   "cell_type": "code",
   "execution_count": 54,
   "id": "e43ef530",
   "metadata": {},
   "outputs": [],
   "source": [
    "# map the function to indicate the targets\n",
    "train_tf_dataset = train_tf_dataset.map(map_target)\n",
    "test_tf_dataset = test_tf_dataset.map(map_target)"
   ]
  },
  {
   "cell_type": "code",
   "execution_count": 55,
   "id": "e04b1619",
   "metadata": {},
   "outputs": [
    {
     "data": {
      "text/plain": [
       "<TakeDataset element_spec=(TensorSpec(shape=(9,), dtype=tf.float64, name=None), {'TILI': TensorSpec(shape=(), dtype=tf.int32, name=None), 'ALV-KOODI': TensorSpec(shape=(), dtype=tf.int32, name=None)})>"
      ]
     },
     "execution_count": 55,
     "metadata": {},
     "output_type": "execute_result"
    }
   ],
   "source": [
    "train_tf_dataset.take(1)"
   ]
  },
  {
   "cell_type": "code",
   "execution_count": 56,
   "id": "f56285f3",
   "metadata": {},
   "outputs": [],
   "source": [
    "# prepare the batches of data\n",
    "train_data = train_tf_dataset.shuffle(len(train)).batch(1024).prefetch(AUTOTUNE)\n",
    "\n",
    "test_data = test_tf_dataset.batch(1024).prefetch(AUTOTUNE)"
   ]
  },
  {
   "cell_type": "code",
   "execution_count": null,
   "id": "c21e9a5c",
   "metadata": {},
   "outputs": [],
   "source": []
  },
  {
   "cell_type": "code",
   "execution_count": null,
   "id": "f5a904d1",
   "metadata": {},
   "outputs": [],
   "source": []
  },
  {
   "cell_type": "markdown",
   "id": "32288897",
   "metadata": {},
   "source": [
    "## Tensorflow - Keras Modeling"
   ]
  },
  {
   "cell_type": "code",
   "execution_count": 57,
   "id": "7afb29e6",
   "metadata": {},
   "outputs": [],
   "source": [
    "import tensorflow as tf\n",
    "from tensorflow.keras.layers import Input, Dense, Normalization"
   ]
  },
  {
   "cell_type": "code",
   "execution_count": 58,
   "id": "c9b36869",
   "metadata": {},
   "outputs": [],
   "source": [
    "def base_model():\n",
    "    \n",
    "    model = tf.keras.Sequential()\n",
    "\n",
    "    input_layer = Input(shape=(9,))\n",
    "\n",
    "    model.add(input_layer)\n",
    "\n",
    "    model.add(Dense(32, activation = 'relu'))\n",
    "\n",
    "    model.add(Dense(64, activation = 'relu'))\n",
    "\n",
    "    model.add(Dense(128, activation = 'relu'))\n",
    "\n",
    "    return model \n"
   ]
  },
  {
   "cell_type": "code",
   "execution_count": 59,
   "id": "eb5710b4",
   "metadata": {},
   "outputs": [],
   "source": [
    "base_model = base_model()"
   ]
  },
  {
   "cell_type": "code",
   "execution_count": 60,
   "id": "3c88b196",
   "metadata": {},
   "outputs": [
    {
     "name": "stdout",
     "output_type": "stream",
     "text": [
      "Model: \"sequential_1\"\n",
      "_________________________________________________________________\n",
      " Layer (type)                Output Shape              Param #   \n",
      "=================================================================\n",
      " dense_3 (Dense)             (None, 32)                320       \n",
      "                                                                 \n",
      " dense_4 (Dense)             (None, 64)                2112      \n",
      "                                                                 \n",
      " dense_5 (Dense)             (None, 128)               8320      \n",
      "                                                                 \n",
      "=================================================================\n",
      "Total params: 10,752\n",
      "Trainable params: 10,752\n",
      "Non-trainable params: 0\n",
      "_________________________________________________________________\n"
     ]
    }
   ],
   "source": [
    "base_model.summary()"
   ]
  },
  {
   "cell_type": "code",
   "execution_count": null,
   "id": "793f185a",
   "metadata": {},
   "outputs": [],
   "source": []
  },
  {
   "cell_type": "code",
   "execution_count": 61,
   "id": "d89833eb",
   "metadata": {},
   "outputs": [],
   "source": [
    "## output layer for TILI\n",
    "TILI_output = Dense(68, activation='softmax', name = 'TILI')(base_model.output)"
   ]
  },
  {
   "cell_type": "code",
   "execution_count": 62,
   "id": "006c7d3d",
   "metadata": {},
   "outputs": [],
   "source": [
    "## output for ALV-KOODI\n",
    "ALV_output = Dense(21, activation='softmax', name = 'ALV-KOODI')(base_model.output)"
   ]
  },
  {
   "cell_type": "code",
   "execution_count": null,
   "id": "e33b7e80",
   "metadata": {},
   "outputs": [],
   "source": []
  },
  {
   "cell_type": "code",
   "execution_count": 63,
   "id": "329b19be",
   "metadata": {},
   "outputs": [],
   "source": [
    "final_model = tf.keras.Model(inputs = base_model.input,\n",
    "                             outputs = (TILI_output, ALV_output) )"
   ]
  },
  {
   "cell_type": "code",
   "execution_count": 64,
   "id": "2c40db79",
   "metadata": {},
   "outputs": [
    {
     "name": "stdout",
     "output_type": "stream",
     "text": [
      "Model: \"model_1\"\n",
      "__________________________________________________________________________________________________\n",
      " Layer (type)                   Output Shape         Param #     Connected to                     \n",
      "==================================================================================================\n",
      " input_2 (InputLayer)           [(None, 9)]          0           []                               \n",
      "                                                                                                  \n",
      " dense_3 (Dense)                (None, 32)           320         ['input_2[0][0]']                \n",
      "                                                                                                  \n",
      " dense_4 (Dense)                (None, 64)           2112        ['dense_3[0][0]']                \n",
      "                                                                                                  \n",
      " dense_5 (Dense)                (None, 128)          8320        ['dense_4[0][0]']                \n",
      "                                                                                                  \n",
      " TILI (Dense)                   (None, 68)           8772        ['dense_5[0][0]']                \n",
      "                                                                                                  \n",
      " ALV-KOODI (Dense)              (None, 21)           2709        ['dense_5[0][0]']                \n",
      "                                                                                                  \n",
      "==================================================================================================\n",
      "Total params: 22,233\n",
      "Trainable params: 22,233\n",
      "Non-trainable params: 0\n",
      "__________________________________________________________________________________________________\n"
     ]
    }
   ],
   "source": [
    "final_model.summary()"
   ]
  },
  {
   "cell_type": "code",
   "execution_count": 65,
   "id": "2dae0ccc",
   "metadata": {},
   "outputs": [],
   "source": [
    "# define the losses for each of the target outputs\n",
    "losses = {\n",
    "    \"TILI\": tf.keras.losses.SparseCategoricalCrossentropy(from_logits=True),\n",
    "    \"ALV-KOODI\": tf.keras.losses.SparseCategoricalCrossentropy(from_logits=True),\n",
    "}\n"
   ]
  },
  {
   "cell_type": "code",
   "execution_count": 66,
   "id": "06b25ca5",
   "metadata": {},
   "outputs": [],
   "source": [
    "# compile the model\n",
    "final_model.compile(loss=losses, optimizer = tf.keras.optimizers.Adam(learning_rate =  0.003), metrics = ['accuracy'])"
   ]
  },
  {
   "cell_type": "code",
   "execution_count": 67,
   "id": "6d883ac3",
   "metadata": {},
   "outputs": [],
   "source": [
    "# callbacks\n",
    "from tensorflow.keras.callbacks import ModelCheckpoint, EarlyStopping\n",
    "\n",
    "\n",
    "best_model = ModelCheckpoint(filepath='./best_model', save_best_only=True)\n",
    "\n",
    "es = EarlyStopping(patience=20, min_delta=0.001, monitor = \"val_loss\", mode = 'min')"
   ]
  },
  {
   "cell_type": "code",
   "execution_count": 68,
   "id": "1dc5adff",
   "metadata": {},
   "outputs": [
    {
     "name": "stdout",
     "output_type": "stream",
     "text": [
      "Epoch 1/100\n"
     ]
    },
    {
     "name": "stderr",
     "output_type": "stream",
     "text": [
      "C:\\Users\\ajay.byanjankar\\Anaconda3\\envs\\mltask\\lib\\site-packages\\keras\\backend.py:5582: UserWarning: \"`sparse_categorical_crossentropy` received `from_logits=True`, but the `output` argument was produced by a Softmax activation and thus does not represent logits. Was this intended?\n",
      "  output, from_logits = _get_logits(\n"
     ]
    },
    {
     "name": "stdout",
     "output_type": "stream",
     "text": [
      "242/244 [============================>.] - ETA: 0s - loss: 44.7942 - TILI_loss: 28.3615 - ALV-KOODI_loss: 16.4327 - TILI_accuracy: 0.1240 - ALV-KOODI_accuracy: 0.6493INFO:tensorflow:Assets written to: .\\best_model\\assets\n",
      "244/244 [==============================] - 11s 37ms/step - loss: 44.5920 - TILI_loss: 28.2363 - ALV-KOODI_loss: 16.3557 - TILI_accuracy: 0.1243 - ALV-KOODI_accuracy: 0.6495 - val_loss: 5.3664 - val_TILI_loss: 4.1095 - val_ALV-KOODI_loss: 1.2569 - val_TILI_accuracy: 0.1992 - val_ALV-KOODI_accuracy: 0.7006\n",
      "Epoch 2/100\n",
      "240/244 [============================>.] - ETA: 0s - loss: 4.5270 - TILI_loss: 3.3852 - ALV-KOODI_loss: 1.1418 - TILI_accuracy: 0.2472 - ALV-KOODI_accuracy: 0.7292INFO:tensorflow:Assets written to: .\\best_model\\assets\n",
      "244/244 [==============================] - 9s 33ms/step - loss: 4.5158 - TILI_loss: 3.3783 - ALV-KOODI_loss: 1.1376 - TILI_accuracy: 0.2473 - ALV-KOODI_accuracy: 0.7289 - val_loss: 3.9695 - val_TILI_loss: 3.0768 - val_ALV-KOODI_loss: 0.8927 - val_TILI_accuracy: 0.2620 - val_ALV-KOODI_accuracy: 0.7176\n",
      "Epoch 3/100\n",
      "242/244 [============================>.] - ETA: 0s - loss: 3.8364 - TILI_loss: 2.8926 - ALV-KOODI_loss: 0.9437 - TILI_accuracy: 0.2796 - ALV-KOODI_accuracy: 0.7511INFO:tensorflow:Assets written to: .\\best_model\\assets\n",
      "244/244 [==============================] - 8s 30ms/step - loss: 3.8340 - TILI_loss: 2.8916 - ALV-KOODI_loss: 0.9424 - TILI_accuracy: 0.2797 - ALV-KOODI_accuracy: 0.7512 - val_loss: 3.5599 - val_TILI_loss: 2.7914 - val_ALV-KOODI_loss: 0.7685 - val_TILI_accuracy: 0.2963 - val_ALV-KOODI_accuracy: 0.7555\n",
      "Epoch 4/100\n",
      "243/244 [============================>.] - ETA: 0s - loss: 3.1950 - TILI_loss: 2.6090 - ALV-KOODI_loss: 0.5860 - TILI_accuracy: 0.3103 - ALV-KOODI_accuracy: 0.8057INFO:tensorflow:Assets written to: .\\best_model\\assets\n",
      "244/244 [==============================] - 9s 31ms/step - loss: 3.1950 - TILI_loss: 2.6091 - ALV-KOODI_loss: 0.5859 - TILI_accuracy: 0.3104 - ALV-KOODI_accuracy: 0.8057 - val_loss: 3.0159 - val_TILI_loss: 2.5383 - val_ALV-KOODI_loss: 0.4776 - val_TILI_accuracy: 0.3300 - val_ALV-KOODI_accuracy: 0.8501\n",
      "Epoch 5/100\n",
      "244/244 [==============================] - 8s 28ms/step - loss: 3.2232 - TILI_loss: 2.5890 - ALV-KOODI_loss: 0.6342 - TILI_accuracy: 0.3130 - ALV-KOODI_accuracy: 0.8028 - val_loss: 3.0305 - val_TILI_loss: 2.4841 - val_ALV-KOODI_loss: 0.5464 - val_TILI_accuracy: 0.3318 - val_ALV-KOODI_accuracy: 0.8222\n",
      "Epoch 6/100\n",
      "243/244 [============================>.] - ETA: 0s - loss: 2.9185 - TILI_loss: 2.4195 - ALV-KOODI_loss: 0.4990 - TILI_accuracy: 0.3461 - ALV-KOODI_accuracy: 0.8353INFO:tensorflow:Assets written to: .\\best_model\\assets\n",
      "244/244 [==============================] - 9s 31ms/step - loss: 2.9184 - TILI_loss: 2.4194 - ALV-KOODI_loss: 0.4989 - TILI_accuracy: 0.3461 - ALV-KOODI_accuracy: 0.8353 - val_loss: 2.7607 - val_TILI_loss: 2.3305 - val_ALV-KOODI_loss: 0.4302 - val_TILI_accuracy: 0.3638 - val_ALV-KOODI_accuracy: 0.8615\n",
      "Epoch 7/100\n",
      "244/244 [==============================] - 4s 11ms/step - loss: 2.7613 - TILI_loss: 2.3282 - ALV-KOODI_loss: 0.4331 - TILI_accuracy: 0.3641 - ALV-KOODI_accuracy: 0.8595 - val_loss: 2.7971 - val_TILI_loss: 2.3513 - val_ALV-KOODI_loss: 0.4458 - val_TILI_accuracy: 0.3598 - val_ALV-KOODI_accuracy: 0.8551\n",
      "Epoch 8/100\n",
      "242/244 [============================>.] - ETA: 0s - loss: 2.6466 - TILI_loss: 2.2506 - ALV-KOODI_loss: 0.3959 - TILI_accuracy: 0.3797 - ALV-KOODI_accuracy: 0.8730INFO:tensorflow:Assets written to: .\\best_model\\assets\n",
      "244/244 [==============================] - 4s 14ms/step - loss: 2.6459 - TILI_loss: 2.2502 - ALV-KOODI_loss: 0.3957 - TILI_accuracy: 0.3798 - ALV-KOODI_accuracy: 0.8730 - val_loss: 2.5788 - val_TILI_loss: 2.2255 - val_ALV-KOODI_loss: 0.3533 - val_TILI_accuracy: 0.3928 - val_ALV-KOODI_accuracy: 0.8941\n",
      "Epoch 9/100\n",
      "244/244 [==============================] - 3s 10ms/step - loss: 3.1100 - TILI_loss: 2.5916 - ALV-KOODI_loss: 0.5184 - TILI_accuracy: 0.3340 - ALV-KOODI_accuracy: 0.8490 - val_loss: 2.8102 - val_TILI_loss: 2.3894 - val_ALV-KOODI_loss: 0.4208 - val_TILI_accuracy: 0.3451 - val_ALV-KOODI_accuracy: 0.8648\n",
      "Epoch 10/100\n",
      "244/244 [==============================] - 3s 8ms/step - loss: 2.7621 - TILI_loss: 2.3553 - ALV-KOODI_loss: 0.4068 - TILI_accuracy: 0.3541 - ALV-KOODI_accuracy: 0.8728 - val_loss: 2.6430 - val_TILI_loss: 2.2872 - val_ALV-KOODI_loss: 0.3558 - val_TILI_accuracy: 0.3669 - val_ALV-KOODI_accuracy: 0.8904\n",
      "Epoch 11/100\n",
      "244/244 [==============================] - 4s 11ms/step - loss: 2.6470 - TILI_loss: 2.2798 - ALV-KOODI_loss: 0.3672 - TILI_accuracy: 0.3747 - ALV-KOODI_accuracy: 0.8860 - val_loss: 2.6963 - val_TILI_loss: 2.3032 - val_ALV-KOODI_loss: 0.3931 - val_TILI_accuracy: 0.3618 - val_ALV-KOODI_accuracy: 0.8704\n",
      "Epoch 12/100\n",
      "244/244 [==============================] - 3s 6ms/step - loss: 2.6987 - TILI_loss: 2.3110 - ALV-KOODI_loss: 0.3877 - TILI_accuracy: 0.3670 - ALV-KOODI_accuracy: 0.8819 - val_loss: 2.8332 - val_TILI_loss: 2.4079 - val_ALV-KOODI_loss: 0.4253 - val_TILI_accuracy: 0.3403 - val_ALV-KOODI_accuracy: 0.8621\n",
      "Epoch 13/100\n",
      "244/244 [==============================] - 3s 10ms/step - loss: 2.7794 - TILI_loss: 2.3580 - ALV-KOODI_loss: 0.4215 - TILI_accuracy: 0.3582 - ALV-KOODI_accuracy: 0.8681 - val_loss: 2.7281 - val_TILI_loss: 2.3295 - val_ALV-KOODI_loss: 0.3986 - val_TILI_accuracy: 0.3689 - val_ALV-KOODI_accuracy: 0.8764\n",
      "Epoch 14/100\n",
      "244/244 [==============================] - 4s 14ms/step - loss: 2.7031 - TILI_loss: 2.3002 - ALV-KOODI_loss: 0.4028 - TILI_accuracy: 0.3711 - ALV-KOODI_accuracy: 0.8745 - val_loss: 2.6800 - val_TILI_loss: 2.2754 - val_ALV-KOODI_loss: 0.4046 - val_TILI_accuracy: 0.3735 - val_ALV-KOODI_accuracy: 0.8754\n",
      "Epoch 15/100\n",
      "244/244 [==============================] - 4s 12ms/step - loss: 2.6447 - TILI_loss: 2.2559 - ALV-KOODI_loss: 0.3888 - TILI_accuracy: 0.3837 - ALV-KOODI_accuracy: 0.8792 - val_loss: 2.7072 - val_TILI_loss: 2.2710 - val_ALV-KOODI_loss: 0.4361 - val_TILI_accuracy: 0.3779 - val_ALV-KOODI_accuracy: 0.8597\n",
      "Epoch 16/100\n",
      "242/244 [============================>.] - ETA: 0s - loss: 2.5911 - TILI_loss: 2.2205 - ALV-KOODI_loss: 0.3706 - TILI_accuracy: 0.3920 - ALV-KOODI_accuracy: 0.8845INFO:tensorflow:Assets written to: .\\best_model\\assets\n",
      "244/244 [==============================] - 5s 15ms/step - loss: 2.5910 - TILI_loss: 2.2206 - ALV-KOODI_loss: 0.3704 - TILI_accuracy: 0.3919 - ALV-KOODI_accuracy: 0.8845 - val_loss: 2.5427 - val_TILI_loss: 2.1913 - val_ALV-KOODI_loss: 0.3515 - val_TILI_accuracy: 0.3992 - val_ALV-KOODI_accuracy: 0.8889\n",
      "Epoch 17/100\n",
      "244/244 [==============================] - 4s 12ms/step - loss: 2.5017 - TILI_loss: 2.1732 - ALV-KOODI_loss: 0.3285 - TILI_accuracy: 0.4032 - ALV-KOODI_accuracy: 0.8986 - val_loss: 2.6099 - val_TILI_loss: 2.2007 - val_ALV-KOODI_loss: 0.4091 - val_TILI_accuracy: 0.3951 - val_ALV-KOODI_accuracy: 0.8725\n",
      "Epoch 18/100\n",
      "241/244 [============================>.] - ETA: 0s - loss: 2.4978 - TILI_loss: 2.1570 - ALV-KOODI_loss: 0.3407 - TILI_accuracy: 0.4060 - ALV-KOODI_accuracy: 0.8951INFO:tensorflow:Assets written to: .\\best_model\\assets\n",
      "244/244 [==============================] - 5s 16ms/step - loss: 2.4972 - TILI_loss: 2.1570 - ALV-KOODI_loss: 0.3403 - TILI_accuracy: 0.4062 - ALV-KOODI_accuracy: 0.8952 - val_loss: 2.4426 - val_TILI_loss: 2.1406 - val_ALV-KOODI_loss: 0.3020 - val_TILI_accuracy: 0.4054 - val_ALV-KOODI_accuracy: 0.9098\n",
      "Epoch 19/100\n",
      "244/244 [==============================] - 3s 10ms/step - loss: 2.6121 - TILI_loss: 2.2138 - ALV-KOODI_loss: 0.3984 - TILI_accuracy: 0.3933 - ALV-KOODI_accuracy: 0.8743 - val_loss: 2.8375 - val_TILI_loss: 2.3219 - val_ALV-KOODI_loss: 0.5155 - val_TILI_accuracy: 0.3614 - val_ALV-KOODI_accuracy: 0.8255\n",
      "Epoch 20/100\n",
      "244/244 [==============================] - 3s 7ms/step - loss: 2.7937 - TILI_loss: 2.3289 - ALV-KOODI_loss: 0.4648 - TILI_accuracy: 0.3726 - ALV-KOODI_accuracy: 0.8512 - val_loss: 2.8488 - val_TILI_loss: 2.4420 - val_ALV-KOODI_loss: 0.4068 - val_TILI_accuracy: 0.3742 - val_ALV-KOODI_accuracy: 0.8790\n",
      "Epoch 21/100\n"
     ]
    },
    {
     "name": "stdout",
     "output_type": "stream",
     "text": [
      "244/244 [==============================] - 4s 11ms/step - loss: 2.5951 - TILI_loss: 2.2221 - ALV-KOODI_loss: 0.3731 - TILI_accuracy: 0.3905 - ALV-KOODI_accuracy: 0.8780 - val_loss: 2.4958 - val_TILI_loss: 2.1929 - val_ALV-KOODI_loss: 0.3029 - val_TILI_accuracy: 0.4083 - val_ALV-KOODI_accuracy: 0.8951\n",
      "Epoch 22/100\n",
      "241/244 [============================>.] - ETA: 0s - loss: 2.5102 - TILI_loss: 2.1578 - ALV-KOODI_loss: 0.3524 - TILI_accuracy: 0.4083 - ALV-KOODI_accuracy: 0.8875INFO:tensorflow:Assets written to: .\\best_model\\assets\n",
      "244/244 [==============================] - 5s 15ms/step - loss: 2.5091 - TILI_loss: 2.1569 - ALV-KOODI_loss: 0.3522 - TILI_accuracy: 0.4085 - ALV-KOODI_accuracy: 0.8876 - val_loss: 2.3810 - val_TILI_loss: 2.0742 - val_ALV-KOODI_loss: 0.3068 - val_TILI_accuracy: 0.4230 - val_ALV-KOODI_accuracy: 0.9007\n",
      "Epoch 23/100\n",
      "241/244 [============================>.] - ETA: 0s - loss: 2.4104 - TILI_loss: 2.0812 - ALV-KOODI_loss: 0.3292 - TILI_accuracy: 0.4210 - ALV-KOODI_accuracy: 0.8922INFO:tensorflow:Assets written to: .\\best_model\\assets\n",
      "244/244 [==============================] - 6s 20ms/step - loss: 2.4094 - TILI_loss: 2.0807 - ALV-KOODI_loss: 0.3288 - TILI_accuracy: 0.4212 - ALV-KOODI_accuracy: 0.8923 - val_loss: 2.3491 - val_TILI_loss: 2.0452 - val_ALV-KOODI_loss: 0.3039 - val_TILI_accuracy: 0.4260 - val_ALV-KOODI_accuracy: 0.9001\n",
      "Epoch 24/100\n",
      "243/244 [============================>.] - ETA: 0s - loss: 2.3653 - TILI_loss: 2.0659 - ALV-KOODI_loss: 0.2995 - TILI_accuracy: 0.4284 - ALV-KOODI_accuracy: 0.9037INFO:tensorflow:Assets written to: .\\best_model\\assets\n",
      "244/244 [==============================] - 4s 13ms/step - loss: 2.3651 - TILI_loss: 2.0657 - ALV-KOODI_loss: 0.2994 - TILI_accuracy: 0.4284 - ALV-KOODI_accuracy: 0.9037 - val_loss: 2.2986 - val_TILI_loss: 2.0326 - val_ALV-KOODI_loss: 0.2660 - val_TILI_accuracy: 0.4310 - val_ALV-KOODI_accuracy: 0.9131\n",
      "Epoch 25/100\n",
      "244/244 [==============================] - 4s 12ms/step - loss: 2.3061 - TILI_loss: 2.0364 - ALV-KOODI_loss: 0.2697 - TILI_accuracy: 0.4355 - ALV-KOODI_accuracy: 0.9141 - val_loss: 2.3236 - val_TILI_loss: 2.0640 - val_ALV-KOODI_loss: 0.2596 - val_TILI_accuracy: 0.4362 - val_ALV-KOODI_accuracy: 0.9191\n",
      "Epoch 26/100\n",
      "240/244 [============================>.] - ETA: 0s - loss: 2.2993 - TILI_loss: 2.0291 - ALV-KOODI_loss: 0.2702 - TILI_accuracy: 0.4389 - ALV-KOODI_accuracy: 0.9148INFO:tensorflow:Assets written to: .\\best_model\\assets\n",
      "244/244 [==============================] - 5s 14ms/step - loss: 2.2990 - TILI_loss: 2.0289 - ALV-KOODI_loss: 0.2702 - TILI_accuracy: 0.4390 - ALV-KOODI_accuracy: 0.9148 - val_loss: 2.2371 - val_TILI_loss: 1.9909 - val_ALV-KOODI_loss: 0.2462 - val_TILI_accuracy: 0.4462 - val_ALV-KOODI_accuracy: 0.9221\n",
      "Epoch 27/100\n",
      "244/244 [==============================] - 4s 11ms/step - loss: 2.2660 - TILI_loss: 2.0067 - ALV-KOODI_loss: 0.2593 - TILI_accuracy: 0.4422 - ALV-KOODI_accuracy: 0.9175 - val_loss: 2.2860 - val_TILI_loss: 2.0329 - val_ALV-KOODI_loss: 0.2531 - val_TILI_accuracy: 0.4444 - val_ALV-KOODI_accuracy: 0.9226\n",
      "Epoch 28/100\n",
      "242/244 [============================>.] - ETA: 0s - loss: 2.2074 - TILI_loss: 1.9610 - ALV-KOODI_loss: 0.2465 - TILI_accuracy: 0.4500 - ALV-KOODI_accuracy: 0.9211INFO:tensorflow:Assets written to: .\\best_model\\assets\n",
      "244/244 [==============================] - 5s 18ms/step - loss: 2.2067 - TILI_loss: 1.9605 - ALV-KOODI_loss: 0.2463 - TILI_accuracy: 0.4501 - ALV-KOODI_accuracy: 0.9211 - val_loss: 2.2160 - val_TILI_loss: 1.9710 - val_ALV-KOODI_loss: 0.2450 - val_TILI_accuracy: 0.4512 - val_ALV-KOODI_accuracy: 0.9234\n",
      "Epoch 29/100\n",
      "244/244 [==============================] - 4s 13ms/step - loss: 2.2818 - TILI_loss: 2.0154 - ALV-KOODI_loss: 0.2664 - TILI_accuracy: 0.4385 - ALV-KOODI_accuracy: 0.9159 - val_loss: 2.3293 - val_TILI_loss: 2.0361 - val_ALV-KOODI_loss: 0.2932 - val_TILI_accuracy: 0.4329 - val_ALV-KOODI_accuracy: 0.9024\n",
      "Epoch 30/100\n",
      "244/244 [==============================] - 3s 7ms/step - loss: 2.1925 - TILI_loss: 1.9610 - ALV-KOODI_loss: 0.2315 - TILI_accuracy: 0.4506 - ALV-KOODI_accuracy: 0.9241 - val_loss: 2.2656 - val_TILI_loss: 1.9943 - val_ALV-KOODI_loss: 0.2713 - val_TILI_accuracy: 0.4451 - val_ALV-KOODI_accuracy: 0.9221\n",
      "Epoch 31/100\n",
      "244/244 [==============================] - 4s 10ms/step - loss: 2.6420 - TILI_loss: 2.1941 - ALV-KOODI_loss: 0.4479 - TILI_accuracy: 0.4102 - ALV-KOODI_accuracy: 0.8764 - val_loss: 2.5213 - val_TILI_loss: 2.1159 - val_ALV-KOODI_loss: 0.4054 - val_TILI_accuracy: 0.4186 - val_ALV-KOODI_accuracy: 0.8754\n",
      "Epoch 32/100\n",
      "244/244 [==============================] - 3s 7ms/step - loss: 2.4344 - TILI_loss: 2.1185 - ALV-KOODI_loss: 0.3159 - TILI_accuracy: 0.4269 - ALV-KOODI_accuracy: 0.8986 - val_loss: 2.3553 - val_TILI_loss: 2.0164 - val_ALV-KOODI_loss: 0.3389 - val_TILI_accuracy: 0.4387 - val_ALV-KOODI_accuracy: 0.8944\n",
      "Epoch 33/100\n",
      "244/244 [==============================] - 4s 10ms/step - loss: 2.4179 - TILI_loss: 2.1030 - ALV-KOODI_loss: 0.3149 - TILI_accuracy: 0.4290 - ALV-KOODI_accuracy: 0.9050 - val_loss: 2.3419 - val_TILI_loss: 2.0040 - val_ALV-KOODI_loss: 0.3380 - val_TILI_accuracy: 0.4377 - val_ALV-KOODI_accuracy: 0.8871\n",
      "Epoch 34/100\n",
      "244/244 [==============================] - 3s 7ms/step - loss: 2.1998 - TILI_loss: 1.9496 - ALV-KOODI_loss: 0.2502 - TILI_accuracy: 0.4536 - ALV-KOODI_accuracy: 0.9205 - val_loss: 2.3596 - val_TILI_loss: 2.0500 - val_ALV-KOODI_loss: 0.3096 - val_TILI_accuracy: 0.4378 - val_ALV-KOODI_accuracy: 0.9031\n",
      "Epoch 35/100\n",
      "239/244 [============================>.] - ETA: 0s - loss: 2.1600 - TILI_loss: 1.9281 - ALV-KOODI_loss: 0.2319 - TILI_accuracy: 0.4579 - ALV-KOODI_accuracy: 0.9288INFO:tensorflow:Assets written to: .\\best_model\\assets\n",
      "244/244 [==============================] - 5s 17ms/step - loss: 2.1584 - TILI_loss: 1.9276 - ALV-KOODI_loss: 0.2308 - TILI_accuracy: 0.4581 - ALV-KOODI_accuracy: 0.9291 - val_loss: 2.1599 - val_TILI_loss: 1.9408 - val_ALV-KOODI_loss: 0.2191 - val_TILI_accuracy: 0.4556 - val_ALV-KOODI_accuracy: 0.9289\n",
      "Epoch 36/100\n",
      "244/244 [==============================] - 3s 7ms/step - loss: 2.1818 - TILI_loss: 1.9349 - ALV-KOODI_loss: 0.2469 - TILI_accuracy: 0.4585 - ALV-KOODI_accuracy: 0.9279 - val_loss: 2.2128 - val_TILI_loss: 1.9918 - val_ALV-KOODI_loss: 0.2210 - val_TILI_accuracy: 0.4388 - val_ALV-KOODI_accuracy: 0.9349\n",
      "Epoch 37/100\n",
      "242/244 [============================>.] - ETA: 0s - loss: 2.0794 - TILI_loss: 1.8842 - ALV-KOODI_loss: 0.1952 - TILI_accuracy: 0.4643 - ALV-KOODI_accuracy: 0.9397INFO:tensorflow:Assets written to: .\\best_model\\assets\n",
      "244/244 [==============================] - 5s 18ms/step - loss: 2.0786 - TILI_loss: 1.8836 - ALV-KOODI_loss: 0.1950 - TILI_accuracy: 0.4644 - ALV-KOODI_accuracy: 0.9398 - val_loss: 2.0595 - val_TILI_loss: 1.8656 - val_ALV-KOODI_loss: 0.1939 - val_TILI_accuracy: 0.4788 - val_ALV-KOODI_accuracy: 0.9404\n",
      "Epoch 38/100\n",
      "242/244 [============================>.] - ETA: 0s - loss: 1.9923 - TILI_loss: 1.8171 - ALV-KOODI_loss: 0.1752 - TILI_accuracy: 0.4809 - ALV-KOODI_accuracy: 0.9464INFO:tensorflow:Assets written to: .\\best_model\\assets\n",
      "244/244 [==============================] - 5s 15ms/step - loss: 1.9918 - TILI_loss: 1.8168 - ALV-KOODI_loss: 0.1751 - TILI_accuracy: 0.4811 - ALV-KOODI_accuracy: 0.9464 - val_loss: 1.9789 - val_TILI_loss: 1.7910 - val_ALV-KOODI_loss: 0.1879 - val_TILI_accuracy: 0.4946 - val_ALV-KOODI_accuracy: 0.9439\n",
      "Epoch 39/100\n",
      "244/244 [==============================] - 4s 11ms/step - loss: 1.9999 - TILI_loss: 1.8160 - ALV-KOODI_loss: 0.1839 - TILI_accuracy: 0.4815 - ALV-KOODI_accuracy: 0.9439 - val_loss: 2.0535 - val_TILI_loss: 1.8567 - val_ALV-KOODI_loss: 0.1968 - val_TILI_accuracy: 0.4709 - val_ALV-KOODI_accuracy: 0.9324\n",
      "Epoch 40/100\n",
      "244/244 [==============================] - 3s 7ms/step - loss: 1.9846 - TILI_loss: 1.7994 - ALV-KOODI_loss: 0.1852 - TILI_accuracy: 0.4847 - ALV-KOODI_accuracy: 0.9427 - val_loss: 2.0055 - val_TILI_loss: 1.8127 - val_ALV-KOODI_loss: 0.1928 - val_TILI_accuracy: 0.4801 - val_ALV-KOODI_accuracy: 0.9409\n",
      "Epoch 41/100\n"
     ]
    },
    {
     "name": "stdout",
     "output_type": "stream",
     "text": [
      "244/244 [==============================] - 4s 10ms/step - loss: 1.9334 - TILI_loss: 1.7706 - ALV-KOODI_loss: 0.1628 - TILI_accuracy: 0.4914 - ALV-KOODI_accuracy: 0.9498 - val_loss: 2.0173 - val_TILI_loss: 1.7887 - val_ALV-KOODI_loss: 0.2286 - val_TILI_accuracy: 0.4873 - val_ALV-KOODI_accuracy: 0.9340\n",
      "Epoch 42/100\n",
      "244/244 [==============================] - 3s 7ms/step - loss: 2.0074 - TILI_loss: 1.8043 - ALV-KOODI_loss: 0.2031 - TILI_accuracy: 0.4851 - ALV-KOODI_accuracy: 0.9414 - val_loss: 2.4531 - val_TILI_loss: 2.0724 - val_ALV-KOODI_loss: 0.3807 - val_TILI_accuracy: 0.4343 - val_ALV-KOODI_accuracy: 0.8732\n",
      "Epoch 43/100\n",
      "240/244 [============================>.] - ETA: 0s - loss: 2.0117 - TILI_loss: 1.7967 - ALV-KOODI_loss: 0.2150 - TILI_accuracy: 0.4879 - ALV-KOODI_accuracy: 0.9288INFO:tensorflow:Assets written to: .\\best_model\\assets\n",
      "244/244 [==============================] - 5s 17ms/step - loss: 2.0110 - TILI_loss: 1.7961 - ALV-KOODI_loss: 0.2149 - TILI_accuracy: 0.4881 - ALV-KOODI_accuracy: 0.9290 - val_loss: 1.9602 - val_TILI_loss: 1.7591 - val_ALV-KOODI_loss: 0.2010 - val_TILI_accuracy: 0.5009 - val_ALV-KOODI_accuracy: 0.9404\n",
      "Epoch 44/100\n",
      "240/244 [============================>.] - ETA: 0s - loss: 1.9821 - TILI_loss: 1.7861 - ALV-KOODI_loss: 0.1959 - TILI_accuracy: 0.4901 - ALV-KOODI_accuracy: 0.9376INFO:tensorflow:Assets written to: .\\best_model\\assets\n",
      "244/244 [==============================] - 6s 19ms/step - loss: 1.9815 - TILI_loss: 1.7857 - ALV-KOODI_loss: 0.1958 - TILI_accuracy: 0.4902 - ALV-KOODI_accuracy: 0.9376 - val_loss: 1.9548 - val_TILI_loss: 1.7887 - val_ALV-KOODI_loss: 0.1662 - val_TILI_accuracy: 0.4968 - val_ALV-KOODI_accuracy: 0.9491\n",
      "Epoch 45/100\n",
      "243/244 [============================>.] - ETA: 0s - loss: 1.9327 - TILI_loss: 1.7596 - ALV-KOODI_loss: 0.1731 - TILI_accuracy: 0.4964 - ALV-KOODI_accuracy: 0.9462INFO:tensorflow:Assets written to: .\\best_model\\assets\n",
      "244/244 [==============================] - 6s 20ms/step - loss: 1.9326 - TILI_loss: 1.7596 - ALV-KOODI_loss: 0.1731 - TILI_accuracy: 0.4964 - ALV-KOODI_accuracy: 0.9462 - val_loss: 1.9451 - val_TILI_loss: 1.7657 - val_ALV-KOODI_loss: 0.1794 - val_TILI_accuracy: 0.4933 - val_ALV-KOODI_accuracy: 0.9449\n",
      "Epoch 46/100\n",
      "244/244 [==============================] - 4s 11ms/step - loss: 1.8811 - TILI_loss: 1.7224 - ALV-KOODI_loss: 0.1587 - TILI_accuracy: 0.5037 - ALV-KOODI_accuracy: 0.9514 - val_loss: 2.0948 - val_TILI_loss: 1.8671 - val_ALV-KOODI_loss: 0.2277 - val_TILI_accuracy: 0.4630 - val_ALV-KOODI_accuracy: 0.9276\n",
      "Epoch 47/100\n",
      "244/244 [==============================] - 4s 10ms/step - loss: 1.8896 - TILI_loss: 1.7298 - ALV-KOODI_loss: 0.1599 - TILI_accuracy: 0.5017 - ALV-KOODI_accuracy: 0.9510 - val_loss: 1.9751 - val_TILI_loss: 1.7591 - val_ALV-KOODI_loss: 0.2160 - val_TILI_accuracy: 0.4931 - val_ALV-KOODI_accuracy: 0.9398\n",
      "Epoch 48/100\n",
      "241/244 [============================>.] - ETA: 0s - loss: 1.8762 - TILI_loss: 1.7182 - ALV-KOODI_loss: 0.1580 - TILI_accuracy: 0.5036 - ALV-KOODI_accuracy: 0.9513INFO:tensorflow:Assets written to: .\\best_model\\assets\n",
      "244/244 [==============================] - 4s 14ms/step - loss: 1.8759 - TILI_loss: 1.7181 - ALV-KOODI_loss: 0.1578 - TILI_accuracy: 0.5037 - ALV-KOODI_accuracy: 0.9514 - val_loss: 1.8861 - val_TILI_loss: 1.7435 - val_ALV-KOODI_loss: 0.1426 - val_TILI_accuracy: 0.4994 - val_ALV-KOODI_accuracy: 0.9573\n",
      "Epoch 49/100\n",
      "244/244 [==============================] - 4s 12ms/step - loss: 1.8341 - TILI_loss: 1.6977 - ALV-KOODI_loss: 0.1364 - TILI_accuracy: 0.5088 - ALV-KOODI_accuracy: 0.9580 - val_loss: 2.0361 - val_TILI_loss: 1.8655 - val_ALV-KOODI_loss: 0.1706 - val_TILI_accuracy: 0.4770 - val_ALV-KOODI_accuracy: 0.9507\n",
      "Epoch 50/100\n",
      "244/244 [==============================] - 5s 14ms/step - loss: 1.8162 - TILI_loss: 1.6822 - ALV-KOODI_loss: 0.1340 - TILI_accuracy: 0.5118 - ALV-KOODI_accuracy: 0.9590 - val_loss: 2.1798 - val_TILI_loss: 1.8613 - val_ALV-KOODI_loss: 0.3186 - val_TILI_accuracy: 0.5054 - val_ALV-KOODI_accuracy: 0.9503\n",
      "Epoch 51/100\n",
      "244/244 [==============================] - 4s 14ms/step - loss: 2.2963 - TILI_loss: 2.0057 - ALV-KOODI_loss: 0.2907 - TILI_accuracy: 0.4455 - ALV-KOODI_accuracy: 0.9125 - val_loss: 2.0478 - val_TILI_loss: 1.8342 - val_ALV-KOODI_loss: 0.2136 - val_TILI_accuracy: 0.4894 - val_ALV-KOODI_accuracy: 0.9289\n",
      "Epoch 52/100\n",
      "244/244 [==============================] - 3s 6ms/step - loss: 1.9704 - TILI_loss: 1.7743 - ALV-KOODI_loss: 0.1961 - TILI_accuracy: 0.4944 - ALV-KOODI_accuracy: 0.9374 - val_loss: 1.9296 - val_TILI_loss: 1.7505 - val_ALV-KOODI_loss: 0.1791 - val_TILI_accuracy: 0.4978 - val_ALV-KOODI_accuracy: 0.9427\n",
      "Epoch 53/100\n",
      "235/244 [===========================>..] - ETA: 0s - loss: 1.8890 - TILI_loss: 1.7178 - ALV-KOODI_loss: 0.1713 - TILI_accuracy: 0.5043 - ALV-KOODI_accuracy: 0.9461INFO:tensorflow:Assets written to: .\\best_model\\assets\n",
      "244/244 [==============================] - 6s 19ms/step - loss: 1.8880 - TILI_loss: 1.7167 - ALV-KOODI_loss: 0.1713 - TILI_accuracy: 0.5044 - ALV-KOODI_accuracy: 0.9463 - val_loss: 1.8787 - val_TILI_loss: 1.7210 - val_ALV-KOODI_loss: 0.1577 - val_TILI_accuracy: 0.5066 - val_ALV-KOODI_accuracy: 0.9564\n",
      "Epoch 54/100\n",
      "244/244 [==============================] - 3s 7ms/step - loss: 1.8669 - TILI_loss: 1.7027 - ALV-KOODI_loss: 0.1642 - TILI_accuracy: 0.5093 - ALV-KOODI_accuracy: 0.9489 - val_loss: 1.9912 - val_TILI_loss: 1.8171 - val_ALV-KOODI_loss: 0.1741 - val_TILI_accuracy: 0.4844 - val_ALV-KOODI_accuracy: 0.9418\n",
      "Epoch 55/100\n",
      "244/244 [==============================] - 4s 10ms/step - loss: 1.8289 - TILI_loss: 1.6744 - ALV-KOODI_loss: 0.1545 - TILI_accuracy: 0.5148 - ALV-KOODI_accuracy: 0.9513 - val_loss: 1.9191 - val_TILI_loss: 1.7597 - val_ALV-KOODI_loss: 0.1594 - val_TILI_accuracy: 0.4958 - val_ALV-KOODI_accuracy: 0.9497\n",
      "Epoch 56/100\n",
      "244/244 [==============================] - 3s 7ms/step - loss: 1.8342 - TILI_loss: 1.6873 - ALV-KOODI_loss: 0.1469 - TILI_accuracy: 0.5122 - ALV-KOODI_accuracy: 0.9538 - val_loss: 1.8929 - val_TILI_loss: 1.7125 - val_ALV-KOODI_loss: 0.1804 - val_TILI_accuracy: 0.5081 - val_ALV-KOODI_accuracy: 0.9410\n",
      "Epoch 57/100\n",
      "244/244 [==============================] - 4s 11ms/step - loss: 1.8027 - TILI_loss: 1.6628 - ALV-KOODI_loss: 0.1399 - TILI_accuracy: 0.5153 - ALV-KOODI_accuracy: 0.9563 - val_loss: 1.8872 - val_TILI_loss: 1.7153 - val_ALV-KOODI_loss: 0.1719 - val_TILI_accuracy: 0.5086 - val_ALV-KOODI_accuracy: 0.9453\n",
      "Epoch 58/100\n",
      "244/244 [==============================] - 3s 7ms/step - loss: 2.0784 - TILI_loss: 1.8221 - ALV-KOODI_loss: 0.2564 - TILI_accuracy: 0.4865 - ALV-KOODI_accuracy: 0.9202 - val_loss: 2.2277 - val_TILI_loss: 1.8783 - val_ALV-KOODI_loss: 0.3495 - val_TILI_accuracy: 0.4681 - val_ALV-KOODI_accuracy: 0.8962\n",
      "Epoch 59/100\n",
      "244/244 [==============================] - 4s 13ms/step - loss: 1.8982 - TILI_loss: 1.7101 - ALV-KOODI_loss: 0.1881 - TILI_accuracy: 0.5083 - ALV-KOODI_accuracy: 0.9391 - val_loss: 1.9115 - val_TILI_loss: 1.7243 - val_ALV-KOODI_loss: 0.1872 - val_TILI_accuracy: 0.5033 - val_ALV-KOODI_accuracy: 0.9395\n",
      "Epoch 60/100\n",
      "243/244 [============================>.] - ETA: 0s - loss: 1.7953 - TILI_loss: 1.6477 - ALV-KOODI_loss: 0.1476 - TILI_accuracy: 0.5223 - ALV-KOODI_accuracy: 0.9533INFO:tensorflow:Assets written to: .\\best_model\\assets\n",
      "244/244 [==============================] - 5s 16ms/step - loss: 1.7951 - TILI_loss: 1.6475 - ALV-KOODI_loss: 0.1476 - TILI_accuracy: 0.5224 - ALV-KOODI_accuracy: 0.9533 - val_loss: 1.8185 - val_TILI_loss: 1.6678 - val_ALV-KOODI_loss: 0.1507 - val_TILI_accuracy: 0.5228 - val_ALV-KOODI_accuracy: 0.9531\n",
      "Epoch 61/100\n",
      "243/244 [============================>.] - ETA: 0s - loss: 1.7771 - TILI_loss: 1.6366 - ALV-KOODI_loss: 0.1405 - TILI_accuracy: 0.5250 - ALV-KOODI_accuracy: 0.9557INFO:tensorflow:Assets written to: .\\best_model\\assets\n",
      "244/244 [==============================] - 6s 19ms/step - loss: 1.7771 - TILI_loss: 1.6366 - ALV-KOODI_loss: 0.1405 - TILI_accuracy: 0.5249 - ALV-KOODI_accuracy: 0.9557 - val_loss: 1.7968 - val_TILI_loss: 1.6584 - val_ALV-KOODI_loss: 0.1384 - val_TILI_accuracy: 0.5206 - val_ALV-KOODI_accuracy: 0.9584\n",
      "Epoch 62/100\n"
     ]
    },
    {
     "name": "stdout",
     "output_type": "stream",
     "text": [
      "241/244 [============================>.] - ETA: 0s - loss: 1.7937 - TILI_loss: 1.6457 - ALV-KOODI_loss: 0.1480 - TILI_accuracy: 0.5235 - ALV-KOODI_accuracy: 0.9540INFO:tensorflow:Assets written to: .\\best_model\\assets\n",
      "244/244 [==============================] - 5s 15ms/step - loss: 1.7929 - TILI_loss: 1.6452 - ALV-KOODI_loss: 0.1477 - TILI_accuracy: 0.5236 - ALV-KOODI_accuracy: 0.9541 - val_loss: 1.7165 - val_TILI_loss: 1.6006 - val_ALV-KOODI_loss: 0.1159 - val_TILI_accuracy: 0.5377 - val_ALV-KOODI_accuracy: 0.9669\n",
      "Epoch 63/100\n",
      "244/244 [==============================] - 4s 10ms/step - loss: 1.7148 - TILI_loss: 1.5981 - ALV-KOODI_loss: 0.1167 - TILI_accuracy: 0.5341 - ALV-KOODI_accuracy: 0.9639 - val_loss: 1.7855 - val_TILI_loss: 1.6625 - val_ALV-KOODI_loss: 0.1230 - val_TILI_accuracy: 0.5303 - val_ALV-KOODI_accuracy: 0.9629\n",
      "Epoch 64/100\n",
      "244/244 [==============================] - 3s 7ms/step - loss: 1.7523 - TILI_loss: 1.6232 - ALV-KOODI_loss: 0.1291 - TILI_accuracy: 0.5269 - ALV-KOODI_accuracy: 0.9594 - val_loss: 1.7241 - val_TILI_loss: 1.6029 - val_ALV-KOODI_loss: 0.1212 - val_TILI_accuracy: 0.5372 - val_ALV-KOODI_accuracy: 0.9634\n",
      "Epoch 65/100\n",
      "244/244 [==============================] - 4s 13ms/step - loss: 1.7219 - TILI_loss: 1.6035 - ALV-KOODI_loss: 0.1184 - TILI_accuracy: 0.5326 - ALV-KOODI_accuracy: 0.9631 - val_loss: 1.8421 - val_TILI_loss: 1.7029 - val_ALV-KOODI_loss: 0.1393 - val_TILI_accuracy: 0.5189 - val_ALV-KOODI_accuracy: 0.9653\n",
      "Epoch 66/100\n",
      "244/244 [==============================] - 3s 7ms/step - loss: 1.7929 - TILI_loss: 1.6594 - ALV-KOODI_loss: 0.1335 - TILI_accuracy: 0.5206 - ALV-KOODI_accuracy: 0.9584 - val_loss: 1.8376 - val_TILI_loss: 1.6537 - val_ALV-KOODI_loss: 0.1839 - val_TILI_accuracy: 0.5272 - val_ALV-KOODI_accuracy: 0.9474\n",
      "Epoch 67/100\n",
      "244/244 [==============================] - 4s 12ms/step - loss: 2.6397 - TILI_loss: 2.2066 - ALV-KOODI_loss: 0.4331 - TILI_accuracy: 0.4683 - ALV-KOODI_accuracy: 0.9202 - val_loss: 3.5362 - val_TILI_loss: 2.8347 - val_ALV-KOODI_loss: 0.7015 - val_TILI_accuracy: 0.2711 - val_ALV-KOODI_accuracy: 0.7784\n",
      "Epoch 68/100\n",
      "244/244 [==============================] - 3s 7ms/step - loss: 2.4299 - TILI_loss: 2.1145 - ALV-KOODI_loss: 0.3154 - TILI_accuracy: 0.4225 - ALV-KOODI_accuracy: 0.8997 - val_loss: 2.3725 - val_TILI_loss: 2.0593 - val_ALV-KOODI_loss: 0.3132 - val_TILI_accuracy: 0.4440 - val_ALV-KOODI_accuracy: 0.9086\n",
      "Epoch 69/100\n",
      "244/244 [==============================] - 4s 11ms/step - loss: 2.1032 - TILI_loss: 1.8908 - ALV-KOODI_loss: 0.2123 - TILI_accuracy: 0.4824 - ALV-KOODI_accuracy: 0.9369 - val_loss: 1.9454 - val_TILI_loss: 1.7924 - val_ALV-KOODI_loss: 0.1530 - val_TILI_accuracy: 0.5063 - val_ALV-KOODI_accuracy: 0.9547\n",
      "Epoch 70/100\n",
      "244/244 [==============================] - 3s 7ms/step - loss: 2.2002 - TILI_loss: 1.9746 - ALV-KOODI_loss: 0.2256 - TILI_accuracy: 0.4662 - ALV-KOODI_accuracy: 0.9384 - val_loss: 2.1503 - val_TILI_loss: 1.9286 - val_ALV-KOODI_loss: 0.2217 - val_TILI_accuracy: 0.4662 - val_ALV-KOODI_accuracy: 0.9360\n",
      "Epoch 71/100\n",
      "244/244 [==============================] - 4s 13ms/step - loss: 1.9485 - TILI_loss: 1.7968 - ALV-KOODI_loss: 0.1517 - TILI_accuracy: 0.4925 - ALV-KOODI_accuracy: 0.9540 - val_loss: 1.9171 - val_TILI_loss: 1.7870 - val_ALV-KOODI_loss: 0.1301 - val_TILI_accuracy: 0.4944 - val_ALV-KOODI_accuracy: 0.9595\n",
      "Epoch 72/100\n",
      "244/244 [==============================] - 3s 7ms/step - loss: 2.1477 - TILI_loss: 1.8686 - ALV-KOODI_loss: 0.2791 - TILI_accuracy: 0.4848 - ALV-KOODI_accuracy: 0.9107 - val_loss: 1.9439 - val_TILI_loss: 1.7423 - val_ALV-KOODI_loss: 0.2016 - val_TILI_accuracy: 0.5158 - val_ALV-KOODI_accuracy: 0.9353\n",
      "Epoch 73/100\n",
      "244/244 [==============================] - 4s 12ms/step - loss: 1.9212 - TILI_loss: 1.7391 - ALV-KOODI_loss: 0.1821 - TILI_accuracy: 0.5108 - ALV-KOODI_accuracy: 0.9410 - val_loss: 1.8776 - val_TILI_loss: 1.7032 - val_ALV-KOODI_loss: 0.1744 - val_TILI_accuracy: 0.5172 - val_ALV-KOODI_accuracy: 0.9495\n",
      "Epoch 74/100\n",
      "244/244 [==============================] - 3s 8ms/step - loss: 1.8304 - TILI_loss: 1.6967 - ALV-KOODI_loss: 0.1337 - TILI_accuracy: 0.5146 - ALV-KOODI_accuracy: 0.9540 - val_loss: 1.8106 - val_TILI_loss: 1.7026 - val_ALV-KOODI_loss: 0.1080 - val_TILI_accuracy: 0.5128 - val_ALV-KOODI_accuracy: 0.9643\n",
      "Epoch 75/100\n",
      "244/244 [==============================] - 4s 12ms/step - loss: 2.1142 - TILI_loss: 1.8779 - ALV-KOODI_loss: 0.2363 - TILI_accuracy: 0.4779 - ALV-KOODI_accuracy: 0.9272 - val_loss: 2.4310 - val_TILI_loss: 2.1200 - val_ALV-KOODI_loss: 0.3110 - val_TILI_accuracy: 0.4214 - val_ALV-KOODI_accuracy: 0.9008\n",
      "Epoch 76/100\n",
      "244/244 [==============================] - 3s 8ms/step - loss: 2.0902 - TILI_loss: 1.8863 - ALV-KOODI_loss: 0.2039 - TILI_accuracy: 0.4718 - ALV-KOODI_accuracy: 0.9357 - val_loss: 2.0721 - val_TILI_loss: 1.8419 - val_ALV-KOODI_loss: 0.2302 - val_TILI_accuracy: 0.4861 - val_ALV-KOODI_accuracy: 0.9275\n",
      "Epoch 77/100\n",
      "244/244 [==============================] - 4s 11ms/step - loss: 1.8599 - TILI_loss: 1.7197 - ALV-KOODI_loss: 0.1402 - TILI_accuracy: 0.5094 - ALV-KOODI_accuracy: 0.9518 - val_loss: 1.8728 - val_TILI_loss: 1.7463 - val_ALV-KOODI_loss: 0.1265 - val_TILI_accuracy: 0.5025 - val_ALV-KOODI_accuracy: 0.9539\n",
      "Epoch 78/100\n",
      "244/244 [==============================] - 4s 10ms/step - loss: 2.1347 - TILI_loss: 1.8817 - ALV-KOODI_loss: 0.2530 - TILI_accuracy: 0.4759 - ALV-KOODI_accuracy: 0.9215 - val_loss: 2.1089 - val_TILI_loss: 1.8617 - val_ALV-KOODI_loss: 0.2473 - val_TILI_accuracy: 0.4824 - val_ALV-KOODI_accuracy: 0.9245\n",
      "Epoch 79/100\n",
      "244/244 [==============================] - 5s 15ms/step - loss: 1.9624 - TILI_loss: 1.7696 - ALV-KOODI_loss: 0.1928 - TILI_accuracy: 0.4990 - ALV-KOODI_accuracy: 0.9404 - val_loss: 2.1572 - val_TILI_loss: 1.8602 - val_ALV-KOODI_loss: 0.2969 - val_TILI_accuracy: 0.4782 - val_ALV-KOODI_accuracy: 0.8964\n",
      "Epoch 80/100\n",
      "244/244 [==============================] - 5s 14ms/step - loss: 1.9289 - TILI_loss: 1.7378 - ALV-KOODI_loss: 0.1911 - TILI_accuracy: 0.5081 - ALV-KOODI_accuracy: 0.9354 - val_loss: 1.8728 - val_TILI_loss: 1.7000 - val_ALV-KOODI_loss: 0.1728 - val_TILI_accuracy: 0.5238 - val_ALV-KOODI_accuracy: 0.9446\n",
      "Epoch 81/100\n",
      "244/244 [==============================] - 5s 16ms/step - loss: 2.0972 - TILI_loss: 1.8718 - ALV-KOODI_loss: 0.2254 - TILI_accuracy: 0.4850 - ALV-KOODI_accuracy: 0.9250 - val_loss: 1.8243 - val_TILI_loss: 1.6679 - val_ALV-KOODI_loss: 0.1564 - val_TILI_accuracy: 0.5280 - val_ALV-KOODI_accuracy: 0.9478\n",
      "Epoch 82/100\n",
      "244/244 [==============================] - 5s 16ms/step - loss: 2.1144 - TILI_loss: 1.8369 - ALV-KOODI_loss: 0.2776 - TILI_accuracy: 0.4938 - ALV-KOODI_accuracy: 0.9229 - val_loss: 1.9473 - val_TILI_loss: 1.7400 - val_ALV-KOODI_loss: 0.2073 - val_TILI_accuracy: 0.5128 - val_ALV-KOODI_accuracy: 0.9346\n"
     ]
    }
   ],
   "source": [
    "history = final_model.fit(train_data, \n",
    "                          validation_data=test_data,\n",
    "                          epochs = 100,\n",
    "                          callbacks = [best_model, es])"
   ]
  },
  {
   "cell_type": "code",
   "execution_count": 69,
   "id": "febf7488",
   "metadata": {},
   "outputs": [
    {
     "data": {
      "text/plain": [
       "<matplotlib.legend.Legend at 0x2170e396c70>"
      ]
     },
     "execution_count": 69,
     "metadata": {},
     "output_type": "execute_result"
    },
    {
     "data": {
      "image/png": "[encoded data removed]",
      "text/plain": [
       "<Figure size 1500x600 with 2 Axes>"
      ]
     },
     "metadata": {},
     "output_type": "display_data"
    }
   ],
   "source": [
    "import matplotlib.pyplot as plt\n",
    "\n",
    "# performance curve\n",
    "plt.figure(figsize=(15,6))\n",
    "epochs = history.epoch \n",
    "plt.subplot(1,2,1)\n",
    "plt.plot(epochs, history.history['TILI_loss'], label = \"train-TILI\")\n",
    "plt.plot(epochs, history.history['val_TILI_loss'], label = \"test-TILI\")\n",
    "plt.plot(epochs, history.history['ALV-KOODI_loss'], label = \"train-ALV\")\n",
    "plt.plot(epochs, history.history['val_ALV-KOODI_loss'], label = \"test-ALV\")\n",
    "plt.title('Loss')\n",
    "plt.legend()\n",
    "\n",
    "plt.subplot(1,2,2)\n",
    "plt.plot(epochs, history.history['TILI_accuracy'], label = \"train-TILI\")\n",
    "plt.plot(epochs, history.history['val_TILI_accuracy'], label = \"test-TILI\")\n",
    "plt.plot(epochs, history.history['ALV-KOODI_accuracy'], label = \"train-Age\")\n",
    "plt.plot(epochs, history.history['val_ALV-KOODI_accuracy'], label = \"test-ALV\")\n",
    "plt.title('Accuracy')\n",
    "plt.legend()"
   ]
  },
  {
   "cell_type": "code",
   "execution_count": 71,
   "id": "52f6c5a4",
   "metadata": {},
   "outputs": [
    {
     "name": "stdout",
     "output_type": "stream",
     "text": [
      "61/61 [==============================] - 0s 5ms/step - loss: 1.9473 - TILI_loss: 1.7400 - ALV-KOODI_loss: 0.2073 - TILI_accuracy: 0.5128 - ALV-KOODI_accuracy: 0.9346\n",
      "TILI - Loss: 1.9473037719726562\n",
      "TILI - Accuracy: 0.207270085811615\n",
      "\n",
      "ALV-KOODI - Loss: 1.7400331497192383\n",
      "ALV-KOODI - Accuracy: 0.5128406882286072\n"
     ]
    }
   ],
   "source": [
    "# evaluate the test data\n",
    "\n",
    "test_results = final_model.evaluate(test_data)\n",
    "\n",
    "print(f'TILI - Loss: {test_results[0]}')\n",
    "print(f'TILI - Accuracy: {test_results[2]}')\n",
    "print()\n",
    "print(f'ALV-KOODI - Loss: {test_results[1]}')\n",
    "print(f'ALV-KOODI - Accuracy: {test_results[3]}')"
   ]
  },
  {
   "cell_type": "code",
   "execution_count": null,
   "id": "613a1764",
   "metadata": {},
   "outputs": [],
   "source": []
  }
 ],
 "metadata": {
  "kernelspec": {
   "display_name": "Python 3 (ipykernel)",
   "language": "python",
   "name": "python3"
  },
  "language_info": {
   "codemirror_mode": {
    "name": "ipython",
    "version": 3
   },
   "file_extension": ".py",
   "mimetype": "text/x-python",
   "name": "python",
   "nbconvert_exporter": "python",
   "pygments_lexer": "ipython3",
   "version": "3.9.15"
  }
 },
 "nbformat": 4,
 "nbformat_minor": 5
}
