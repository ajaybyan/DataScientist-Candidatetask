{
 "cells": [
  {
   "cell_type": "markdown",
   "id": "f781abcc",
   "metadata": {},
   "source": [
    "# MODELING  \n",
    "- Modeling a multi-layer perceptron neural network with tensoflow-keras"
   ]
  },
  {
   "cell_type": "code",
   "execution_count": 1,
   "id": "ca9f088f",
   "metadata": {},
   "outputs": [],
   "source": [
    "import pandas as pd"
   ]
  },
  {
   "cell_type": "code",
   "execution_count": 2,
   "id": "1fac5087",
   "metadata": {},
   "outputs": [
    {
     "data": {
      "text/plain": [
       "(317369, 11)"
      ]
     },
     "execution_count": 2,
     "metadata": {},
     "output_type": "execute_result"
    }
   ],
   "source": [
    "## load the data\n",
    "\n",
    "df = pd.read_csv('data_modeling.csv')\n",
    "\n",
    "df.shape"
   ]
  },
  {
   "cell_type": "code",
   "execution_count": 3,
   "id": "a08550a9",
   "metadata": {},
   "outputs": [
    {
     "data": {
      "text/plain": [
       "KUNTA                         object\n",
       "Toimittajan nimi              object\n",
       "Toimittajan maakoodi          object\n",
       "Laskun summa ilman ALV:tä    float64\n",
       "TILI                           int64\n",
       "Kokonaissumma                float64\n",
       "ALV-KOODI                    float64\n",
       "RIVIN OSUUS VERO             float64\n",
       "Kustannuspaikka               object\n",
       "Tositepäivämäärä_month         int64\n",
       "Tositepäivämäärä_day           int64\n",
       "dtype: object"
      ]
     },
     "execution_count": 3,
     "metadata": {},
     "output_type": "execute_result"
    }
   ],
   "source": [
    "# check data types\n",
    "df.dtypes"
   ]
  },
  {
   "cell_type": "code",
   "execution_count": 4,
   "id": "25c1b1a7",
   "metadata": {},
   "outputs": [],
   "source": [
    "# convert data types for the target features into categorical\n",
    "df['TILI'] = df['TILI'].astype(object)\n",
    "df['ALV-KOODI'] = df['ALV-KOODI'].astype(object)"
   ]
  },
  {
   "cell_type": "code",
   "execution_count": null,
   "id": "6564612e",
   "metadata": {},
   "outputs": [],
   "source": []
  },
  {
   "cell_type": "markdown",
   "id": "c6647a57",
   "metadata": {},
   "source": [
    "## DATA PREPARATION  \n",
    "- drop missing values\n",
    "    - As we discovered in the data understanding, there were some features with missing values. So, here we will simply drop the records that have missing values.\n",
    "- convert categorical features to numeric\n",
    "    - For machine learning modeling we need to have categorical features as numeric. For the baseline modeling we can simply use ordinal encoding for encoding categorical features as numeric."
   ]
  },
  {
   "cell_type": "code",
   "execution_count": 5,
   "id": "421f7c8a",
   "metadata": {},
   "outputs": [],
   "source": [
    "from feature_engine.imputation import DropMissingData\n",
    "from feature_engine.encoding import OrdinalEncoder, RareLabelEncoder\n",
    "from feature_engine.wrappers import SklearnTransformerWrapper\n",
    "from sklearn.preprocessing import MinMaxScaler\n",
    "from sklearn.pipeline import Pipeline\n"
   ]
  },
  {
   "cell_type": "code",
   "execution_count": 6,
   "id": "b883611d",
   "metadata": {},
   "outputs": [
    {
     "name": "stdout",
     "output_type": "stream",
     "text": [
      "['KUNTA', 'Toimittajan nimi', 'Toimittajan maakoodi', 'Kustannuspaikka']\n"
     ]
    }
   ],
   "source": [
    "# list categorical input features\n",
    "cat_features = [feat for feat in df.columns if df[feat].dtype=='O' and feat not in ['TILI', 'ALV-KOODI']]\n",
    "\n",
    "print(cat_features)\n"
   ]
  },
  {
   "cell_type": "code",
   "execution_count": 7,
   "id": "0040960f",
   "metadata": {},
   "outputs": [],
   "source": [
    "# create pipeline for data pre-processing\n",
    "preprocessing_pipeline = Pipeline(steps=[\n",
    "    \n",
    "    # drop records with missing values\n",
    "    ('Missing', DropMissingData()),\n",
    "    \n",
    "    # ordinal encoding for categorical features\n",
    "    ('Ordinal_Encoding', OrdinalEncoder(encoding_method='arbitrary', variables = cat_features)),\n",
    "    \n",
    "    # recategorization of feature TILI\n",
    "    ('Rare_label_encoding_tili', RareLabelEncoder(tol = 0.003, replace_with=1000, variables=['TILI'])),\n",
    "    \n",
    "     # recategorization of feature ALV-KOODI\n",
    "    ('Rare_label_encoding_alv', RareLabelEncoder(tol = 0.0002, replace_with=1000, variables=['ALV-KOODI']))\n",
    "    \n",
    "    ] \n",
    ")\n",
    "\n",
    "# minmax scaling the features - excluding the targets\n",
    "#    ('MinMax_Scaling', SklearnTransformerWrapper(transformer=MinMaxScaler(),\n",
    "#                                                 variables = [var for var in df.columns if var not in ['TILI', 'ALV-KOODI']]))"
   ]
  },
  {
   "cell_type": "code",
   "execution_count": 8,
   "id": "a559f2e3",
   "metadata": {},
   "outputs": [],
   "source": [
    "# fit the pipeline and transform the data\n",
    "\n",
    "df_transformed = preprocessing_pipeline.fit_transform(df)"
   ]
  },
  {
   "cell_type": "code",
   "execution_count": 9,
   "id": "f8cb1f90",
   "metadata": {},
   "outputs": [
    {
     "data": {
      "text/plain": [
       "KUNTA                        0\n",
       "Toimittajan nimi             0\n",
       "Toimittajan maakoodi         0\n",
       "Laskun summa ilman ALV:tä    0\n",
       "TILI                         0\n",
       "Kokonaissumma                0\n",
       "ALV-KOODI                    0\n",
       "RIVIN OSUUS VERO             0\n",
       "Kustannuspaikka              0\n",
       "Tositepäivämäärä_month       0\n",
       "Tositepäivämäärä_day         0\n",
       "dtype: int64"
      ]
     },
     "execution_count": 9,
     "metadata": {},
     "output_type": "execute_result"
    }
   ],
   "source": [
    "# check if any missing values\n",
    "df_transformed.isnull().sum()"
   ]
  },
  {
   "cell_type": "code",
   "execution_count": 10,
   "id": "00f1d84b",
   "metadata": {},
   "outputs": [
    {
     "data": {
      "text/html": [
       "<div>\n",
       "<style scoped>\n",
       "    .dataframe tbody tr th:only-of-type {\n",
       "        vertical-align: middle;\n",
       "    }\n",
       "\n",
       "    .dataframe tbody tr th {\n",
       "        vertical-align: top;\n",
       "    }\n",
       "\n",
       "    .dataframe thead th {\n",
       "        text-align: right;\n",
       "    }\n",
       "</style>\n",
       "<table border=\"1\" class=\"dataframe\">\n",
       "  <thead>\n",
       "    <tr style=\"text-align: right;\">\n",
       "      <th></th>\n",
       "      <th>KUNTA</th>\n",
       "      <th>Toimittajan nimi</th>\n",
       "      <th>Toimittajan maakoodi</th>\n",
       "      <th>Kustannuspaikka</th>\n",
       "    </tr>\n",
       "  </thead>\n",
       "  <tbody>\n",
       "    <tr>\n",
       "      <th>0</th>\n",
       "      <td>0</td>\n",
       "      <td>0</td>\n",
       "      <td>0</td>\n",
       "      <td>0</td>\n",
       "    </tr>\n",
       "    <tr>\n",
       "      <th>1</th>\n",
       "      <td>0</td>\n",
       "      <td>0</td>\n",
       "      <td>0</td>\n",
       "      <td>1</td>\n",
       "    </tr>\n",
       "    <tr>\n",
       "      <th>2</th>\n",
       "      <td>0</td>\n",
       "      <td>0</td>\n",
       "      <td>0</td>\n",
       "      <td>2</td>\n",
       "    </tr>\n",
       "    <tr>\n",
       "      <th>3</th>\n",
       "      <td>0</td>\n",
       "      <td>0</td>\n",
       "      <td>0</td>\n",
       "      <td>3</td>\n",
       "    </tr>\n",
       "    <tr>\n",
       "      <th>4</th>\n",
       "      <td>0</td>\n",
       "      <td>0</td>\n",
       "      <td>0</td>\n",
       "      <td>4</td>\n",
       "    </tr>\n",
       "  </tbody>\n",
       "</table>\n",
       "</div>"
      ],
      "text/plain": [
       "   KUNTA  Toimittajan nimi  Toimittajan maakoodi  Kustannuspaikka\n",
       "0      0                 0                     0                0\n",
       "1      0                 0                     0                1\n",
       "2      0                 0                     0                2\n",
       "3      0                 0                     0                3\n",
       "4      0                 0                     0                4"
      ]
     },
     "execution_count": 10,
     "metadata": {},
     "output_type": "execute_result"
    }
   ],
   "source": [
    "# check data for categorical features\n",
    "df_transformed[cat_features].head()"
   ]
  },
  {
   "cell_type": "code",
   "execution_count": 11,
   "id": "9d89d8ba",
   "metadata": {},
   "outputs": [
    {
     "data": {
      "text/html": [
       "<div>\n",
       "<style scoped>\n",
       "    .dataframe tbody tr th:only-of-type {\n",
       "        vertical-align: middle;\n",
       "    }\n",
       "\n",
       "    .dataframe tbody tr th {\n",
       "        vertical-align: top;\n",
       "    }\n",
       "\n",
       "    .dataframe thead th {\n",
       "        text-align: right;\n",
       "    }\n",
       "</style>\n",
       "<table border=\"1\" class=\"dataframe\">\n",
       "  <thead>\n",
       "    <tr style=\"text-align: right;\">\n",
       "      <th></th>\n",
       "      <th>KUNTA</th>\n",
       "      <th>Toimittajan nimi</th>\n",
       "      <th>Toimittajan maakoodi</th>\n",
       "      <th>Laskun summa ilman ALV:tä</th>\n",
       "      <th>TILI</th>\n",
       "      <th>Kokonaissumma</th>\n",
       "      <th>ALV-KOODI</th>\n",
       "      <th>RIVIN OSUUS VERO</th>\n",
       "      <th>Kustannuspaikka</th>\n",
       "      <th>Tositepäivämäärä_month</th>\n",
       "      <th>Tositepäivämäärä_day</th>\n",
       "    </tr>\n",
       "  </thead>\n",
       "  <tbody>\n",
       "    <tr>\n",
       "      <th>0</th>\n",
       "      <td>0</td>\n",
       "      <td>0</td>\n",
       "      <td>0</td>\n",
       "      <td>116.23</td>\n",
       "      <td>4520</td>\n",
       "      <td>132.50</td>\n",
       "      <td>114.0</td>\n",
       "      <td>16.27</td>\n",
       "      <td>0</td>\n",
       "      <td>1</td>\n",
       "      <td>8</td>\n",
       "    </tr>\n",
       "    <tr>\n",
       "      <th>1</th>\n",
       "      <td>0</td>\n",
       "      <td>0</td>\n",
       "      <td>0</td>\n",
       "      <td>89.78</td>\n",
       "      <td>4300</td>\n",
       "      <td>94.50</td>\n",
       "      <td>105.0</td>\n",
       "      <td>4.72</td>\n",
       "      <td>1</td>\n",
       "      <td>1</td>\n",
       "      <td>11</td>\n",
       "    </tr>\n",
       "    <tr>\n",
       "      <th>2</th>\n",
       "      <td>0</td>\n",
       "      <td>0</td>\n",
       "      <td>0</td>\n",
       "      <td>135.00</td>\n",
       "      <td>4340</td>\n",
       "      <td>167.40</td>\n",
       "      <td>124.0</td>\n",
       "      <td>32.40</td>\n",
       "      <td>2</td>\n",
       "      <td>1</td>\n",
       "      <td>11</td>\n",
       "    </tr>\n",
       "    <tr>\n",
       "      <th>3</th>\n",
       "      <td>0</td>\n",
       "      <td>0</td>\n",
       "      <td>0</td>\n",
       "      <td>149.00</td>\n",
       "      <td>4510</td>\n",
       "      <td>184.76</td>\n",
       "      <td>124.0</td>\n",
       "      <td>35.76</td>\n",
       "      <td>3</td>\n",
       "      <td>1</td>\n",
       "      <td>11</td>\n",
       "    </tr>\n",
       "    <tr>\n",
       "      <th>4</th>\n",
       "      <td>0</td>\n",
       "      <td>0</td>\n",
       "      <td>0</td>\n",
       "      <td>189.11</td>\n",
       "      <td>4520</td>\n",
       "      <td>215.59</td>\n",
       "      <td>114.0</td>\n",
       "      <td>26.48</td>\n",
       "      <td>4</td>\n",
       "      <td>1</td>\n",
       "      <td>12</td>\n",
       "    </tr>\n",
       "  </tbody>\n",
       "</table>\n",
       "</div>"
      ],
      "text/plain": [
       "   KUNTA  Toimittajan nimi  Toimittajan maakoodi  Laskun summa ilman ALV:tä  \\\n",
       "0      0                 0                     0                     116.23   \n",
       "1      0                 0                     0                      89.78   \n",
       "2      0                 0                     0                     135.00   \n",
       "3      0                 0                     0                     149.00   \n",
       "4      0                 0                     0                     189.11   \n",
       "\n",
       "   TILI  Kokonaissumma ALV-KOODI  RIVIN OSUUS VERO  Kustannuspaikka  \\\n",
       "0  4520         132.50     114.0             16.27                0   \n",
       "1  4300          94.50     105.0              4.72                1   \n",
       "2  4340         167.40     124.0             32.40                2   \n",
       "3  4510         184.76     124.0             35.76                3   \n",
       "4  4520         215.59     114.0             26.48                4   \n",
       "\n",
       "   Tositepäivämäärä_month  Tositepäivämäärä_day  \n",
       "0                       1                     8  \n",
       "1                       1                    11  \n",
       "2                       1                    11  \n",
       "3                       1                    11  \n",
       "4                       1                    12  "
      ]
     },
     "execution_count": 11,
     "metadata": {},
     "output_type": "execute_result"
    }
   ],
   "source": [
    "df_transformed.head()"
   ]
  },
  {
   "cell_type": "code",
   "execution_count": null,
   "id": "253d8b4a",
   "metadata": {},
   "outputs": [],
   "source": []
  },
  {
   "cell_type": "code",
   "execution_count": 12,
   "id": "c0e7d013",
   "metadata": {},
   "outputs": [
    {
     "data": {
      "text/plain": [
       "39"
      ]
     },
     "execution_count": 12,
     "metadata": {},
     "output_type": "execute_result"
    }
   ],
   "source": [
    "# number of categories in the target feature 'TILI'\n",
    "df_transformed['TILI'].nunique()"
   ]
  },
  {
   "cell_type": "code",
   "execution_count": 13,
   "id": "79e75264",
   "metadata": {},
   "outputs": [
    {
     "data": {
      "text/plain": [
       "15"
      ]
     },
     "execution_count": 13,
     "metadata": {},
     "output_type": "execute_result"
    }
   ],
   "source": [
    "# number of categories in the target feature 'AlV-KOODI'\n",
    "df_transformed['ALV-KOODI'].nunique()"
   ]
  },
  {
   "cell_type": "code",
   "execution_count": null,
   "id": "d5ca3505",
   "metadata": {},
   "outputs": [],
   "source": []
  },
  {
   "cell_type": "markdown",
   "id": "74b275ea",
   "metadata": {},
   "source": [
    "### Tensorflow Dataset Preparation"
   ]
  },
  {
   "cell_type": "code",
   "execution_count": 14,
   "id": "7e3c7eb6",
   "metadata": {},
   "outputs": [],
   "source": [
    "from sklearn.model_selection import train_test_split\n",
    "from sklearn.preprocessing import LabelEncoder\n",
    "from tensorflow.keras.utils import to_categorical\n",
    "from tensorflow.data import Dataset, AUTOTUNE"
   ]
  },
  {
   "cell_type": "code",
   "execution_count": 15,
   "id": "cef875aa",
   "metadata": {},
   "outputs": [
    {
     "data": {
      "text/plain": [
       "((249052, 11), (62263, 11))"
      ]
     },
     "execution_count": 15,
     "metadata": {},
     "output_type": "execute_result"
    }
   ],
   "source": [
    "# create train and test split\n",
    "train, test = train_test_split(df_transformed, test_size=0.2, random_state = 123)\n",
    "\n",
    "train.shape, test.shape"
   ]
  },
  {
   "cell_type": "code",
   "execution_count": 16,
   "id": "50c951e1",
   "metadata": {},
   "outputs": [
    {
     "data": {
      "text/plain": [
       "((249052, 9), (249052,), (249052,))"
      ]
     },
     "execution_count": 16,
     "metadata": {},
     "output_type": "execute_result"
    }
   ],
   "source": [
    "# seprate input features and target for the train data\n",
    "\n",
    "train_features = train.drop(['TILI', 'ALV-KOODI'], axis = 1)\n",
    "train_target_tili = train['TILI']  # target feature TILI\n",
    "train_target_alvi = train['ALV-KOODI']  # target feature alvi-koodi\n",
    "\n",
    "train_features.shape,  train_target_tili.shape, train_target_alvi.shape\n"
   ]
  },
  {
   "cell_type": "code",
   "execution_count": 17,
   "id": "4e38db16",
   "metadata": {},
   "outputs": [
    {
     "data": {
      "text/plain": [
       "39"
      ]
     },
     "execution_count": 17,
     "metadata": {},
     "output_type": "execute_result"
    }
   ],
   "source": [
    "# number of unique labels in train_target_tili\n",
    "train_target_tili.nunique()"
   ]
  },
  {
   "cell_type": "code",
   "execution_count": 18,
   "id": "78bccf78",
   "metadata": {},
   "outputs": [
    {
     "data": {
      "text/plain": [
       "15"
      ]
     },
     "execution_count": 18,
     "metadata": {},
     "output_type": "execute_result"
    }
   ],
   "source": [
    "# number of unique labels in train_target_alvi\n",
    "train_target_alvi.nunique()"
   ]
  },
  {
   "cell_type": "code",
   "execution_count": null,
   "id": "e6780f2d",
   "metadata": {},
   "outputs": [],
   "source": []
  },
  {
   "cell_type": "code",
   "execution_count": 19,
   "id": "9e2d14ea",
   "metadata": {},
   "outputs": [
    {
     "data": {
      "text/plain": [
       "((62263, 9), (62263,), (62263,))"
      ]
     },
     "execution_count": 19,
     "metadata": {},
     "output_type": "execute_result"
    }
   ],
   "source": [
    "# seprate input features and target for the test data\n",
    "\n",
    "test_features = test.drop(['TILI', 'ALV-KOODI'], axis = 1)\n",
    "test_target_tili = test['TILI']  # target feature TILI\n",
    "test_target_alvi = test['ALV-KOODI']  # target feature alvi-koodi\n",
    "\n",
    "test_features.shape, test_target_tili.shape, test_target_alvi.shape"
   ]
  },
  {
   "cell_type": "code",
   "execution_count": 20,
   "id": "f59d5315",
   "metadata": {},
   "outputs": [],
   "source": [
    "## label endcoding the targets\n",
    "\n",
    "# label encode train and test targets for target feature tili\n",
    "le_tili = LabelEncoder()\n",
    "train_target_tili_le = le_tili.fit_transform(train_target_tili)\n",
    "test_target_tili_le = le_tili.transform(test_target_tili)\n",
    "\n",
    "# label encode train and test targets for target feature alv-koodi\n",
    "le_alvi = LabelEncoder()\n",
    "train_target_alvi_le = le_alvi.fit_transform(train_target_alvi)\n",
    "test_target_alvi_le = le_alvi.transform(test_target_alvi)\n"
   ]
  },
  {
   "cell_type": "code",
   "execution_count": 21,
   "id": "5fb3a4e9",
   "metadata": {},
   "outputs": [
    {
     "data": {
      "text/plain": [
       "array([ 0,  1,  2,  3,  4,  5,  6,  7,  8,  9, 10, 11, 12, 13, 14, 15, 16,\n",
       "       17, 18, 19, 20, 21, 22, 23, 24, 25, 26, 27, 28, 29, 30, 31, 32, 33,\n",
       "       34, 35, 36, 37, 38])"
      ]
     },
     "execution_count": 21,
     "metadata": {},
     "output_type": "execute_result"
    }
   ],
   "source": [
    "import numpy as np\n",
    "np.unique(train_target_tili_le)"
   ]
  },
  {
   "cell_type": "code",
   "execution_count": 22,
   "id": "bf3768c8",
   "metadata": {},
   "outputs": [],
   "source": [
    "# create tensorflow dataset - train data\n",
    "\n",
    "train_tf_dataset = Dataset.from_tensor_slices((train_features.values, (train_target_tili_le, train_target_alvi_le)))\n",
    "\n",
    "# create tensorflow dataset - test data\n",
    "test_tf_dataset = Dataset.from_tensor_slices((test_features.values, (test_target_tili_le, test_target_alvi_le)))"
   ]
  },
  {
   "cell_type": "code",
   "execution_count": 23,
   "id": "2f843fa6",
   "metadata": {},
   "outputs": [],
   "source": [
    "# mapping function to indicate the targets in the tensorflow datasets\n",
    "def map_target(features, targets):\n",
    "    return features, {\"TILI\":targets[0], \"ALV-KOODI\":targets[1]}"
   ]
  },
  {
   "cell_type": "code",
   "execution_count": 24,
   "id": "e43ef530",
   "metadata": {},
   "outputs": [],
   "source": [
    "# map the function to indicate the targets\n",
    "train_tf_dataset = train_tf_dataset.map(map_target)\n",
    "test_tf_dataset = test_tf_dataset.map(map_target)"
   ]
  },
  {
   "cell_type": "code",
   "execution_count": 25,
   "id": "e04b1619",
   "metadata": {},
   "outputs": [
    {
     "data": {
      "text/plain": [
       "<TakeDataset element_spec=(TensorSpec(shape=(9,), dtype=tf.float64, name=None), {'TILI': TensorSpec(shape=(), dtype=tf.int32, name=None), 'ALV-KOODI': TensorSpec(shape=(), dtype=tf.int32, name=None)})>"
      ]
     },
     "execution_count": 25,
     "metadata": {},
     "output_type": "execute_result"
    }
   ],
   "source": [
    "train_tf_dataset.take(1)"
   ]
  },
  {
   "cell_type": "code",
   "execution_count": 26,
   "id": "f56285f3",
   "metadata": {},
   "outputs": [],
   "source": [
    "# prepare the batches of data\n",
    "train_data = train_tf_dataset.shuffle(len(train)).batch(1024).prefetch(AUTOTUNE)\n",
    "\n",
    "test_data = test_tf_dataset.batch(1024).prefetch(AUTOTUNE)"
   ]
  },
  {
   "cell_type": "code",
   "execution_count": null,
   "id": "c21e9a5c",
   "metadata": {},
   "outputs": [],
   "source": []
  },
  {
   "cell_type": "code",
   "execution_count": null,
   "id": "f5a904d1",
   "metadata": {},
   "outputs": [],
   "source": []
  },
  {
   "cell_type": "markdown",
   "id": "32288897",
   "metadata": {},
   "source": [
    "## Tensorflow - Keras Modeling"
   ]
  },
  {
   "cell_type": "code",
   "execution_count": 27,
   "id": "7afb29e6",
   "metadata": {},
   "outputs": [],
   "source": [
    "import tensorflow as tf\n",
    "from tensorflow.keras.layers import Input, Dense, Normalization"
   ]
  },
  {
   "cell_type": "code",
   "execution_count": 42,
   "id": "c9b36869",
   "metadata": {},
   "outputs": [],
   "source": [
    "def base_model():\n",
    "    \n",
    "    model = tf.keras.Sequential()\n",
    "\n",
    "    input_layer = Input(shape=(9,))\n",
    "\n",
    "    model.add(input_layer)\n",
    "\n",
    "    model.add(Dense(32, activation = 'relu'))\n",
    "\n",
    "    model.add(Dense(64, activation = 'relu'))\n",
    "\n",
    "    model.add(Dense(128, activation = 'relu'))\n",
    "\n",
    "    return model \n"
   ]
  },
  {
   "cell_type": "code",
   "execution_count": 43,
   "id": "eb5710b4",
   "metadata": {},
   "outputs": [],
   "source": [
    "base_model = base_model()"
   ]
  },
  {
   "cell_type": "code",
   "execution_count": 44,
   "id": "3c88b196",
   "metadata": {},
   "outputs": [
    {
     "name": "stdout",
     "output_type": "stream",
     "text": [
      "Model: \"sequential_1\"\n",
      "_________________________________________________________________\n",
      " Layer (type)                Output Shape              Param #   \n",
      "=================================================================\n",
      " dense_3 (Dense)             (None, 32)                320       \n",
      "                                                                 \n",
      " dense_4 (Dense)             (None, 64)                2112      \n",
      "                                                                 \n",
      " dense_5 (Dense)             (None, 128)               8320      \n",
      "                                                                 \n",
      "=================================================================\n",
      "Total params: 10,752\n",
      "Trainable params: 10,752\n",
      "Non-trainable params: 0\n",
      "_________________________________________________________________\n"
     ]
    }
   ],
   "source": [
    "base_model.summary()"
   ]
  },
  {
   "cell_type": "code",
   "execution_count": null,
   "id": "793f185a",
   "metadata": {},
   "outputs": [],
   "source": []
  },
  {
   "cell_type": "code",
   "execution_count": 45,
   "id": "d89833eb",
   "metadata": {},
   "outputs": [],
   "source": [
    "## output layer for TILI\n",
    "TILI_output = Dense(39, activation='softmax', name = 'TILI')(base_model.output)"
   ]
  },
  {
   "cell_type": "code",
   "execution_count": 46,
   "id": "006c7d3d",
   "metadata": {},
   "outputs": [],
   "source": [
    "## output for ALV-KOODI\n",
    "ALV_output = Dense(15, activation='softmax', name = 'ALV-KOODI')(base_model.output)"
   ]
  },
  {
   "cell_type": "code",
   "execution_count": null,
   "id": "e33b7e80",
   "metadata": {},
   "outputs": [],
   "source": []
  },
  {
   "cell_type": "code",
   "execution_count": 47,
   "id": "329b19be",
   "metadata": {},
   "outputs": [],
   "source": [
    "final_model = tf.keras.Model(inputs = base_model.input,\n",
    "                             outputs = (TILI_output, ALV_output) )"
   ]
  },
  {
   "cell_type": "code",
   "execution_count": 48,
   "id": "2c40db79",
   "metadata": {},
   "outputs": [
    {
     "name": "stdout",
     "output_type": "stream",
     "text": [
      "Model: \"model_1\"\n",
      "__________________________________________________________________________________________________\n",
      " Layer (type)                   Output Shape         Param #     Connected to                     \n",
      "==================================================================================================\n",
      " input_2 (InputLayer)           [(None, 9)]          0           []                               \n",
      "                                                                                                  \n",
      " dense_3 (Dense)                (None, 32)           320         ['input_2[0][0]']                \n",
      "                                                                                                  \n",
      " dense_4 (Dense)                (None, 64)           2112        ['dense_3[0][0]']                \n",
      "                                                                                                  \n",
      " dense_5 (Dense)                (None, 128)          8320        ['dense_4[0][0]']                \n",
      "                                                                                                  \n",
      " TILI (Dense)                   (None, 39)           5031        ['dense_5[0][0]']                \n",
      "                                                                                                  \n",
      " ALV-KOODI (Dense)              (None, 15)           1935        ['dense_5[0][0]']                \n",
      "                                                                                                  \n",
      "==================================================================================================\n",
      "Total params: 17,718\n",
      "Trainable params: 17,718\n",
      "Non-trainable params: 0\n",
      "__________________________________________________________________________________________________\n"
     ]
    }
   ],
   "source": [
    "final_model.summary()"
   ]
  },
  {
   "cell_type": "code",
   "execution_count": 49,
   "id": "2dae0ccc",
   "metadata": {},
   "outputs": [],
   "source": [
    "# define the losses for each of the target outputs\n",
    "losses = {\n",
    "    \"TILI\": tf.keras.losses.SparseCategoricalCrossentropy(),\n",
    "    \"ALV-KOODI\": tf.keras.losses.SparseCategoricalCrossentropy(),\n",
    "}\n"
   ]
  },
  {
   "cell_type": "code",
   "execution_count": 50,
   "id": "06b25ca5",
   "metadata": {},
   "outputs": [],
   "source": [
    "# compile the model\n",
    "final_model.compile(loss=losses, optimizer = tf.keras.optimizers.Adam(learning_rate =  0.001), \n",
    "                    metrics = [tf.keras.metrics.sparse_categorical_accuracy])"
   ]
  },
  {
   "cell_type": "code",
   "execution_count": 51,
   "id": "6d883ac3",
   "metadata": {},
   "outputs": [],
   "source": [
    "# callbacks\n",
    "from tensorflow.keras.callbacks import ModelCheckpoint, EarlyStopping\n",
    "\n",
    "\n",
    "best_model = ModelCheckpoint(filepath='./best_model', save_best_only=True)\n",
    "\n",
    "es = EarlyStopping(patience=20, min_delta=0.001, monitor = \"val_loss\", mode = 'min')"
   ]
  },
  {
   "cell_type": "code",
   "execution_count": 52,
   "id": "1dc5adff",
   "metadata": {},
   "outputs": [
    {
     "name": "stdout",
     "output_type": "stream",
     "text": [
      "Epoch 1/200\n",
      "243/244 [============================>.] - ETA: 0s - loss: 92.4232 - TILI_loss: 51.2887 - ALV-KOODI_loss: 41.1345 - TILI_sparse_categorical_accuracy: 0.1046 - ALV-KOODI_sparse_categorical_accuracy: 0.5357INFO:tensorflow:Assets written to: .\\best_model\\assets\n",
      "244/244 [==============================] - 7s 23ms/step - loss: 92.3577 - TILI_loss: 51.2564 - ALV-KOODI_loss: 41.1013 - TILI_sparse_categorical_accuracy: 0.1046 - ALV-KOODI_sparse_categorical_accuracy: 0.5358 - val_loss: 13.9882 - val_TILI_loss: 11.0777 - val_ALV-KOODI_loss: 2.9105 - val_TILI_sparse_categorical_accuracy: 0.1566 - val_ALV-KOODI_sparse_categorical_accuracy: 0.6316\n",
      "Epoch 2/200\n",
      "244/244 [==============================] - 3s 8ms/step - loss: 31.5128 - TILI_loss: 19.0643 - ALV-KOODI_loss: 12.4486 - TILI_sparse_categorical_accuracy: 0.1523 - ALV-KOODI_sparse_categorical_accuracy: 0.6546 - val_loss: 99.7593 - val_TILI_loss: 37.8068 - val_ALV-KOODI_loss: 61.9525 - val_TILI_sparse_categorical_accuracy: 0.1046 - val_ALV-KOODI_sparse_categorical_accuracy: 0.6337\n",
      "Epoch 3/200\n",
      "237/244 [============================>.] - ETA: 0s - loss: 19.2301 - TILI_loss: 13.2409 - ALV-KOODI_loss: 5.9892 - TILI_sparse_categorical_accuracy: 0.1803 - ALV-KOODI_sparse_categorical_accuracy: 0.7167INFO:tensorflow:Assets written to: .\\best_model\\assets\n",
      "244/244 [==============================] - 6s 20ms/step - loss: 19.1232 - TILI_loss: 13.2434 - ALV-KOODI_loss: 5.8799 - TILI_sparse_categorical_accuracy: 0.1807 - ALV-KOODI_sparse_categorical_accuracy: 0.7173 - val_loss: 11.2002 - val_TILI_loss: 9.6203 - val_ALV-KOODI_loss: 1.5800 - val_TILI_sparse_categorical_accuracy: 0.1953 - val_ALV-KOODI_sparse_categorical_accuracy: 0.7435\n",
      "Epoch 4/200\n",
      "244/244 [==============================] - 3s 7ms/step - loss: 18.9260 - TILI_loss: 13.1182 - ALV-KOODI_loss: 5.8078 - TILI_sparse_categorical_accuracy: 0.1990 - ALV-KOODI_sparse_categorical_accuracy: 0.7154 - val_loss: 21.0364 - val_TILI_loss: 16.5788 - val_ALV-KOODI_loss: 4.4576 - val_TILI_sparse_categorical_accuracy: 0.1638 - val_ALV-KOODI_sparse_categorical_accuracy: 0.6773\n",
      "Epoch 5/200\n",
      "243/244 [============================>.] - ETA: 0s - loss: 10.1733 - TILI_loss: 7.1006 - ALV-KOODI_loss: 3.0727 - TILI_sparse_categorical_accuracy: 0.2223 - ALV-KOODI_sparse_categorical_accuracy: 0.7385INFO:tensorflow:Assets written to: .\\best_model\\assets\n",
      "244/244 [==============================] - 6s 18ms/step - loss: 10.1683 - TILI_loss: 7.0977 - ALV-KOODI_loss: 3.0706 - TILI_sparse_categorical_accuracy: 0.2223 - ALV-KOODI_sparse_categorical_accuracy: 0.7386 - val_loss: 6.4448 - val_TILI_loss: 4.8796 - val_ALV-KOODI_loss: 1.5652 - val_TILI_sparse_categorical_accuracy: 0.2446 - val_ALV-KOODI_sparse_categorical_accuracy: 0.7651\n",
      "Epoch 6/200\n",
      "233/244 [===========================>..] - ETA: 0s - loss: 5.5151 - TILI_loss: 4.3211 - ALV-KOODI_loss: 1.1940 - TILI_sparse_categorical_accuracy: 0.2794 - ALV-KOODI_sparse_categorical_accuracy: 0.7792INFO:tensorflow:Assets written to: .\\best_model\\assets\n",
      "244/244 [==============================] - 5s 16ms/step - loss: 5.4515 - TILI_loss: 4.2758 - ALV-KOODI_loss: 1.1757 - TILI_sparse_categorical_accuracy: 0.2804 - ALV-KOODI_sparse_categorical_accuracy: 0.7801 - val_loss: 4.1993 - val_TILI_loss: 3.3248 - val_ALV-KOODI_loss: 0.8746 - val_TILI_sparse_categorical_accuracy: 0.3053 - val_ALV-KOODI_sparse_categorical_accuracy: 0.7992\n",
      "Epoch 7/200\n",
      "244/244 [==============================] - 4s 11ms/step - loss: 5.9385 - TILI_loss: 4.4213 - ALV-KOODI_loss: 1.5172 - TILI_sparse_categorical_accuracy: 0.2848 - ALV-KOODI_sparse_categorical_accuracy: 0.7908 - val_loss: 4.8725 - val_TILI_loss: 3.9505 - val_ALV-KOODI_loss: 0.9220 - val_TILI_sparse_categorical_accuracy: 0.2939 - val_ALV-KOODI_sparse_categorical_accuracy: 0.7997\n",
      "Epoch 8/200\n",
      "244/244 [==============================] - 3s 8ms/step - loss: 6.6992 - TILI_loss: 5.3205 - ALV-KOODI_loss: 1.3787 - TILI_sparse_categorical_accuracy: 0.2836 - ALV-KOODI_sparse_categorical_accuracy: 0.7855 - val_loss: 9.1750 - val_TILI_loss: 8.0613 - val_ALV-KOODI_loss: 1.1137 - val_TILI_sparse_categorical_accuracy: 0.2876 - val_ALV-KOODI_sparse_categorical_accuracy: 0.7916\n",
      "Epoch 9/200\n",
      "244/244 [==============================] - 4s 11ms/step - loss: 4.4513 - TILI_loss: 3.4416 - ALV-KOODI_loss: 1.0096 - TILI_sparse_categorical_accuracy: 0.3134 - ALV-KOODI_sparse_categorical_accuracy: 0.7937 - val_loss: 4.3841 - val_TILI_loss: 3.3307 - val_ALV-KOODI_loss: 1.0535 - val_TILI_sparse_categorical_accuracy: 0.2740 - val_ALV-KOODI_sparse_categorical_accuracy: 0.7808\n",
      "Epoch 10/200\n",
      "236/244 [============================>.] - ETA: 0s - loss: 3.4868 - TILI_loss: 2.7625 - ALV-KOODI_loss: 0.7243 - TILI_sparse_categorical_accuracy: 0.3233 - ALV-KOODI_sparse_categorical_accuracy: 0.8140INFO:tensorflow:Assets written to: .\\best_model\\assets\n",
      "244/244 [==============================] - 5s 16ms/step - loss: 3.4825 - TILI_loss: 2.7592 - ALV-KOODI_loss: 0.7233 - TILI_sparse_categorical_accuracy: 0.3239 - ALV-KOODI_sparse_categorical_accuracy: 0.8141 - val_loss: 3.2110 - val_TILI_loss: 2.5960 - val_ALV-KOODI_loss: 0.6151 - val_TILI_sparse_categorical_accuracy: 0.3391 - val_ALV-KOODI_sparse_categorical_accuracy: 0.8246\n",
      "Epoch 11/200\n",
      "244/244 [==============================] - 4s 13ms/step - loss: 3.3259 - TILI_loss: 2.6340 - ALV-KOODI_loss: 0.6919 - TILI_sparse_categorical_accuracy: 0.3360 - ALV-KOODI_sparse_categorical_accuracy: 0.8227 - val_loss: 3.2112 - val_TILI_loss: 2.6112 - val_ALV-KOODI_loss: 0.6000 - val_TILI_sparse_categorical_accuracy: 0.3452 - val_ALV-KOODI_sparse_categorical_accuracy: 0.8340\n",
      "Epoch 12/200\n",
      "239/244 [============================>.] - ETA: 0s - loss: 3.3110 - TILI_loss: 2.6583 - ALV-KOODI_loss: 0.6528 - TILI_sparse_categorical_accuracy: 0.3317 - ALV-KOODI_sparse_categorical_accuracy: 0.8195INFO:tensorflow:Assets written to: .\\best_model\\assets\n",
      "244/244 [==============================] - 5s 16ms/step - loss: 3.3070 - TILI_loss: 2.6560 - ALV-KOODI_loss: 0.6509 - TILI_sparse_categorical_accuracy: 0.3316 - ALV-KOODI_sparse_categorical_accuracy: 0.8196 - val_loss: 3.1298 - val_TILI_loss: 2.5582 - val_ALV-KOODI_loss: 0.5716 - val_TILI_sparse_categorical_accuracy: 0.3394 - val_ALV-KOODI_sparse_categorical_accuracy: 0.8360\n",
      "Epoch 13/200\n",
      "242/244 [============================>.] - ETA: 0s - loss: 3.0613 - TILI_loss: 2.5024 - ALV-KOODI_loss: 0.5589 - TILI_sparse_categorical_accuracy: 0.3456 - ALV-KOODI_sparse_categorical_accuracy: 0.8307INFO:tensorflow:Assets written to: .\\best_model\\assets\n",
      "244/244 [==============================] - 6s 19ms/step - loss: 3.0603 - TILI_loss: 2.5017 - ALV-KOODI_loss: 0.5587 - TILI_sparse_categorical_accuracy: 0.3457 - ALV-KOODI_sparse_categorical_accuracy: 0.8307 - val_loss: 2.9701 - val_TILI_loss: 2.4395 - val_ALV-KOODI_loss: 0.5306 - val_TILI_sparse_categorical_accuracy: 0.3566 - val_ALV-KOODI_sparse_categorical_accuracy: 0.8383\n",
      "Epoch 14/200\n",
      "244/244 [==============================] - 3s 7ms/step - loss: 2.9492 - TILI_loss: 2.4305 - ALV-KOODI_loss: 0.5187 - TILI_sparse_categorical_accuracy: 0.3566 - ALV-KOODI_sparse_categorical_accuracy: 0.8399 - val_loss: 3.0895 - val_TILI_loss: 2.5340 - val_ALV-KOODI_loss: 0.5555 - val_TILI_sparse_categorical_accuracy: 0.3514 - val_ALV-KOODI_sparse_categorical_accuracy: 0.8372\n",
      "Epoch 15/200\n",
      "242/244 [============================>.] - ETA: 0s - loss: 2.9586 - TILI_loss: 2.4631 - ALV-KOODI_loss: 0.4954 - TILI_sparse_categorical_accuracy: 0.3601 - ALV-KOODI_sparse_categorical_accuracy: 0.8475INFO:tensorflow:Assets written to: .\\best_model\\assets\n",
      "244/244 [==============================] - 6s 19ms/step - loss: 2.9581 - TILI_loss: 2.4629 - ALV-KOODI_loss: 0.4952 - TILI_sparse_categorical_accuracy: 0.3602 - ALV-KOODI_sparse_categorical_accuracy: 0.8476 - val_loss: 2.8539 - val_TILI_loss: 2.3729 - val_ALV-KOODI_loss: 0.4809 - val_TILI_sparse_categorical_accuracy: 0.3667 - val_ALV-KOODI_sparse_categorical_accuracy: 0.8482\n",
      "Epoch 16/200\n",
      "244/244 [==============================] - 3s 7ms/step - loss: 2.9186 - TILI_loss: 2.4021 - ALV-KOODI_loss: 0.5165 - TILI_sparse_categorical_accuracy: 0.3658 - ALV-KOODI_sparse_categorical_accuracy: 0.8531 - val_loss: 2.9462 - val_TILI_loss: 2.3727 - val_ALV-KOODI_loss: 0.5735 - val_TILI_sparse_categorical_accuracy: 0.3787 - val_ALV-KOODI_sparse_categorical_accuracy: 0.8659\n"
     ]
    },
    {
     "name": "stdout",
     "output_type": "stream",
     "text": [
      "Epoch 17/200\n",
      "238/244 [============================>.] - ETA: 0s - loss: 2.8846 - TILI_loss: 2.4113 - ALV-KOODI_loss: 0.4733 - TILI_sparse_categorical_accuracy: 0.3766 - ALV-KOODI_sparse_categorical_accuracy: 0.8617INFO:tensorflow:Assets written to: .\\best_model\\assets\n",
      "244/244 [==============================] - 6s 19ms/step - loss: 2.8788 - TILI_loss: 2.4067 - ALV-KOODI_loss: 0.4721 - TILI_sparse_categorical_accuracy: 0.3769 - ALV-KOODI_sparse_categorical_accuracy: 0.8618 - val_loss: 2.7420 - val_TILI_loss: 2.2925 - val_ALV-KOODI_loss: 0.4495 - val_TILI_sparse_categorical_accuracy: 0.3873 - val_ALV-KOODI_sparse_categorical_accuracy: 0.8649\n",
      "Epoch 18/200\n",
      "241/244 [============================>.] - ETA: 0s - loss: 2.6835 - TILI_loss: 2.2720 - ALV-KOODI_loss: 0.4115 - TILI_sparse_categorical_accuracy: 0.3844 - ALV-KOODI_sparse_categorical_accuracy: 0.8726INFO:tensorflow:Assets written to: .\\best_model\\assets\n",
      "244/244 [==============================] - 5s 17ms/step - loss: 2.6833 - TILI_loss: 2.2718 - ALV-KOODI_loss: 0.4115 - TILI_sparse_categorical_accuracy: 0.3844 - ALV-KOODI_sparse_categorical_accuracy: 0.8726 - val_loss: 2.6546 - val_TILI_loss: 2.2640 - val_ALV-KOODI_loss: 0.3906 - val_TILI_sparse_categorical_accuracy: 0.3881 - val_ALV-KOODI_sparse_categorical_accuracy: 0.8836\n",
      "Epoch 19/200\n",
      "244/244 [==============================] - 4s 12ms/step - loss: 2.7133 - TILI_loss: 2.2839 - ALV-KOODI_loss: 0.4294 - TILI_sparse_categorical_accuracy: 0.3774 - ALV-KOODI_sparse_categorical_accuracy: 0.8639 - val_loss: 2.6616 - val_TILI_loss: 2.2533 - val_ALV-KOODI_loss: 0.4084 - val_TILI_sparse_categorical_accuracy: 0.3888 - val_ALV-KOODI_sparse_categorical_accuracy: 0.8716\n",
      "Epoch 20/200\n",
      "242/244 [============================>.] - ETA: 0s - loss: 2.6641 - TILI_loss: 2.2600 - ALV-KOODI_loss: 0.4040 - TILI_sparse_categorical_accuracy: 0.3894 - ALV-KOODI_sparse_categorical_accuracy: 0.8712INFO:tensorflow:Assets written to: .\\best_model\\assets\n",
      "244/244 [==============================] - 5s 18ms/step - loss: 2.6640 - TILI_loss: 2.2599 - ALV-KOODI_loss: 0.4042 - TILI_sparse_categorical_accuracy: 0.3894 - ALV-KOODI_sparse_categorical_accuracy: 0.8711 - val_loss: 2.6275 - val_TILI_loss: 2.2286 - val_ALV-KOODI_loss: 0.3989 - val_TILI_sparse_categorical_accuracy: 0.3905 - val_ALV-KOODI_sparse_categorical_accuracy: 0.8678\n",
      "Epoch 21/200\n",
      "244/244 [==============================] - 4s 12ms/step - loss: 2.6171 - TILI_loss: 2.2254 - ALV-KOODI_loss: 0.3917 - TILI_sparse_categorical_accuracy: 0.3931 - ALV-KOODI_sparse_categorical_accuracy: 0.8729 - val_loss: 2.6705 - val_TILI_loss: 2.2241 - val_ALV-KOODI_loss: 0.4464 - val_TILI_sparse_categorical_accuracy: 0.3933 - val_ALV-KOODI_sparse_categorical_accuracy: 0.8537\n",
      "Epoch 22/200\n",
      "242/244 [============================>.] - ETA: 0s - loss: 2.6081 - TILI_loss: 2.2205 - ALV-KOODI_loss: 0.3877 - TILI_sparse_categorical_accuracy: 0.3954 - ALV-KOODI_sparse_categorical_accuracy: 0.8746INFO:tensorflow:Assets written to: .\\best_model\\assets\n",
      "244/244 [==============================] - 5s 16ms/step - loss: 2.6080 - TILI_loss: 2.2204 - ALV-KOODI_loss: 0.3875 - TILI_sparse_categorical_accuracy: 0.3953 - ALV-KOODI_sparse_categorical_accuracy: 0.8746 - val_loss: 2.6196 - val_TILI_loss: 2.2295 - val_ALV-KOODI_loss: 0.3900 - val_TILI_sparse_categorical_accuracy: 0.3949 - val_ALV-KOODI_sparse_categorical_accuracy: 0.8785\n",
      "Epoch 23/200\n",
      "243/244 [============================>.] - ETA: 0s - loss: 2.5521 - TILI_loss: 2.1822 - ALV-KOODI_loss: 0.3700 - TILI_sparse_categorical_accuracy: 0.4009 - ALV-KOODI_sparse_categorical_accuracy: 0.8794INFO:tensorflow:Assets written to: .\\best_model\\assets\n",
      "244/244 [==============================] - 6s 21ms/step - loss: 2.5521 - TILI_loss: 2.1821 - ALV-KOODI_loss: 0.3700 - TILI_sparse_categorical_accuracy: 0.4009 - ALV-KOODI_sparse_categorical_accuracy: 0.8794 - val_loss: 2.5160 - val_TILI_loss: 2.1625 - val_ALV-KOODI_loss: 0.3536 - val_TILI_sparse_categorical_accuracy: 0.4041 - val_ALV-KOODI_sparse_categorical_accuracy: 0.8832\n",
      "Epoch 24/200\n",
      "241/244 [============================>.] - ETA: 0s - loss: 2.4931 - TILI_loss: 2.1460 - ALV-KOODI_loss: 0.3471 - TILI_sparse_categorical_accuracy: 0.4091 - ALV-KOODI_sparse_categorical_accuracy: 0.8869INFO:tensorflow:Assets written to: .\\best_model\\assets\n",
      "244/244 [==============================] - 6s 18ms/step - loss: 2.4925 - TILI_loss: 2.1457 - ALV-KOODI_loss: 0.3468 - TILI_sparse_categorical_accuracy: 0.4093 - ALV-KOODI_sparse_categorical_accuracy: 0.8869 - val_loss: 2.4463 - val_TILI_loss: 2.1202 - val_ALV-KOODI_loss: 0.3261 - val_TILI_sparse_categorical_accuracy: 0.4162 - val_ALV-KOODI_sparse_categorical_accuracy: 0.9000\n",
      "Epoch 25/200\n",
      "244/244 [==============================] - 4s 13ms/step - loss: 2.5162 - TILI_loss: 2.1552 - ALV-KOODI_loss: 0.3610 - TILI_sparse_categorical_accuracy: 0.4072 - ALV-KOODI_sparse_categorical_accuracy: 0.8841 - val_loss: 2.4977 - val_TILI_loss: 2.1524 - val_ALV-KOODI_loss: 0.3453 - val_TILI_sparse_categorical_accuracy: 0.4065 - val_ALV-KOODI_sparse_categorical_accuracy: 0.8897\n",
      "Epoch 26/200\n",
      "244/244 [==============================] - 3s 8ms/step - loss: 2.4429 - TILI_loss: 2.1144 - ALV-KOODI_loss: 0.3285 - TILI_sparse_categorical_accuracy: 0.4158 - ALV-KOODI_sparse_categorical_accuracy: 0.8947 - val_loss: 2.5057 - val_TILI_loss: 2.1934 - val_ALV-KOODI_loss: 0.3122 - val_TILI_sparse_categorical_accuracy: 0.4255 - val_ALV-KOODI_sparse_categorical_accuracy: 0.9006\n",
      "Epoch 27/200\n",
      "241/244 [============================>.] - ETA: 0s - loss: 2.4145 - TILI_loss: 2.0952 - ALV-KOODI_loss: 0.3194 - TILI_sparse_categorical_accuracy: 0.4197 - ALV-KOODI_sparse_categorical_accuracy: 0.8960INFO:tensorflow:Assets written to: .\\best_model\\assets\n",
      "244/244 [==============================] - 6s 20ms/step - loss: 2.4139 - TILI_loss: 2.0945 - ALV-KOODI_loss: 0.3195 - TILI_sparse_categorical_accuracy: 0.4198 - ALV-KOODI_sparse_categorical_accuracy: 0.8959 - val_loss: 2.4455 - val_TILI_loss: 2.1122 - val_ALV-KOODI_loss: 0.3333 - val_TILI_sparse_categorical_accuracy: 0.4231 - val_ALV-KOODI_sparse_categorical_accuracy: 0.8946\n",
      "Epoch 28/200\n",
      "243/244 [============================>.] - ETA: 0s - loss: 2.3995 - TILI_loss: 2.0826 - ALV-KOODI_loss: 0.3169 - TILI_sparse_categorical_accuracy: 0.4225 - ALV-KOODI_sparse_categorical_accuracy: 0.8974INFO:tensorflow:Assets written to: .\\best_model\\assets\n",
      "244/244 [==============================] - 5s 17ms/step - loss: 2.3993 - TILI_loss: 2.0825 - ALV-KOODI_loss: 0.3168 - TILI_sparse_categorical_accuracy: 0.4225 - ALV-KOODI_sparse_categorical_accuracy: 0.8975 - val_loss: 2.3318 - val_TILI_loss: 2.0477 - val_ALV-KOODI_loss: 0.2841 - val_TILI_sparse_categorical_accuracy: 0.4327 - val_ALV-KOODI_sparse_categorical_accuracy: 0.9098\n",
      "Epoch 29/200\n",
      "244/244 [==============================] - 4s 12ms/step - loss: 2.3781 - TILI_loss: 2.0720 - ALV-KOODI_loss: 0.3061 - TILI_sparse_categorical_accuracy: 0.4267 - ALV-KOODI_sparse_categorical_accuracy: 0.9035 - val_loss: 2.8600 - val_TILI_loss: 2.1853 - val_ALV-KOODI_loss: 0.6747 - val_TILI_sparse_categorical_accuracy: 0.4026 - val_ALV-KOODI_sparse_categorical_accuracy: 0.8480\n",
      "Epoch 30/200\n",
      "244/244 [==============================] - 3s 7ms/step - loss: 2.4163 - TILI_loss: 2.0875 - ALV-KOODI_loss: 0.3288 - TILI_sparse_categorical_accuracy: 0.4206 - ALV-KOODI_sparse_categorical_accuracy: 0.8957 - val_loss: 2.3525 - val_TILI_loss: 2.0676 - val_ALV-KOODI_loss: 0.2849 - val_TILI_sparse_categorical_accuracy: 0.4265 - val_ALV-KOODI_sparse_categorical_accuracy: 0.9118\n",
      "Epoch 31/200\n",
      "242/244 [============================>.] - ETA: 0s - loss: 2.3421 - TILI_loss: 2.0555 - ALV-KOODI_loss: 0.2867 - TILI_sparse_categorical_accuracy: 0.4274 - ALV-KOODI_sparse_categorical_accuracy: 0.9084INFO:tensorflow:Assets written to: .\\best_model\\assets\n",
      "244/244 [==============================] - 6s 21ms/step - loss: 2.3420 - TILI_loss: 2.0554 - ALV-KOODI_loss: 0.2866 - TILI_sparse_categorical_accuracy: 0.4274 - ALV-KOODI_sparse_categorical_accuracy: 0.9084 - val_loss: 2.3071 - val_TILI_loss: 2.0330 - val_ALV-KOODI_loss: 0.2741 - val_TILI_sparse_categorical_accuracy: 0.4346 - val_ALV-KOODI_sparse_categorical_accuracy: 0.9120\n",
      "Epoch 32/200\n"
     ]
    },
    {
     "name": "stdout",
     "output_type": "stream",
     "text": [
      "244/244 [==============================] - 3s 7ms/step - loss: 2.6973 - TILI_loss: 2.2471 - ALV-KOODI_loss: 0.4502 - TILI_sparse_categorical_accuracy: 0.4039 - ALV-KOODI_sparse_categorical_accuracy: 0.8781 - val_loss: 2.4745 - val_TILI_loss: 2.1196 - val_ALV-KOODI_loss: 0.3549 - val_TILI_sparse_categorical_accuracy: 0.4132 - val_ALV-KOODI_sparse_categorical_accuracy: 0.8851\n",
      "Epoch 33/200\n",
      "244/244 [==============================] - 4s 12ms/step - loss: 2.4371 - TILI_loss: 2.1069 - ALV-KOODI_loss: 0.3302 - TILI_sparse_categorical_accuracy: 0.4192 - ALV-KOODI_sparse_categorical_accuracy: 0.8909 - val_loss: 2.3326 - val_TILI_loss: 2.0572 - val_ALV-KOODI_loss: 0.2754 - val_TILI_sparse_categorical_accuracy: 0.4385 - val_ALV-KOODI_sparse_categorical_accuracy: 0.9147\n",
      "Epoch 34/200\n",
      "244/244 [==============================] - 3s 8ms/step - loss: 2.3839 - TILI_loss: 2.0774 - ALV-KOODI_loss: 0.3065 - TILI_sparse_categorical_accuracy: 0.4308 - ALV-KOODI_sparse_categorical_accuracy: 0.9045 - val_loss: 2.6172 - val_TILI_loss: 2.3236 - val_ALV-KOODI_loss: 0.2935 - val_TILI_sparse_categorical_accuracy: 0.4383 - val_ALV-KOODI_sparse_categorical_accuracy: 0.9172\n",
      "Epoch 35/200\n",
      "244/244 [==============================] - 4s 12ms/step - loss: 2.4937 - TILI_loss: 2.1239 - ALV-KOODI_loss: 0.3698 - TILI_sparse_categorical_accuracy: 0.4177 - ALV-KOODI_sparse_categorical_accuracy: 0.8840 - val_loss: 2.6475 - val_TILI_loss: 2.2101 - val_ALV-KOODI_loss: 0.4374 - val_TILI_sparse_categorical_accuracy: 0.3968 - val_ALV-KOODI_sparse_categorical_accuracy: 0.8556\n",
      "Epoch 36/200\n",
      "244/244 [==============================] - 3s 8ms/step - loss: 2.4624 - TILI_loss: 2.1084 - ALV-KOODI_loss: 0.3540 - TILI_sparse_categorical_accuracy: 0.4199 - ALV-KOODI_sparse_categorical_accuracy: 0.8803 - val_loss: 2.4830 - val_TILI_loss: 2.1122 - val_ALV-KOODI_loss: 0.3709 - val_TILI_sparse_categorical_accuracy: 0.4163 - val_ALV-KOODI_sparse_categorical_accuracy: 0.8752\n",
      "Epoch 37/200\n",
      "244/244 [==============================] - 4s 11ms/step - loss: 2.3675 - TILI_loss: 2.0514 - ALV-KOODI_loss: 0.3161 - TILI_sparse_categorical_accuracy: 0.4336 - ALV-KOODI_sparse_categorical_accuracy: 0.8944 - val_loss: 2.3422 - val_TILI_loss: 2.0348 - val_ALV-KOODI_loss: 0.3074 - val_TILI_sparse_categorical_accuracy: 0.4411 - val_ALV-KOODI_sparse_categorical_accuracy: 0.9016\n",
      "Epoch 38/200\n",
      "234/244 [===========================>..] - ETA: 0s - loss: 2.3438 - TILI_loss: 2.0344 - ALV-KOODI_loss: 0.3094 - TILI_sparse_categorical_accuracy: 0.4368 - ALV-KOODI_sparse_categorical_accuracy: 0.9013INFO:tensorflow:Assets written to: .\\best_model\\assets\n",
      "244/244 [==============================] - 5s 16ms/step - loss: 2.3417 - TILI_loss: 2.0332 - ALV-KOODI_loss: 0.3085 - TILI_sparse_categorical_accuracy: 0.4371 - ALV-KOODI_sparse_categorical_accuracy: 0.9017 - val_loss: 2.2661 - val_TILI_loss: 1.9932 - val_ALV-KOODI_loss: 0.2729 - val_TILI_sparse_categorical_accuracy: 0.4478 - val_ALV-KOODI_sparse_categorical_accuracy: 0.9072\n",
      "Epoch 39/200\n",
      "244/244 [==============================] - 4s 13ms/step - loss: 2.3102 - TILI_loss: 2.0174 - ALV-KOODI_loss: 0.2928 - TILI_sparse_categorical_accuracy: 0.4426 - ALV-KOODI_sparse_categorical_accuracy: 0.9030 - val_loss: 2.3288 - val_TILI_loss: 2.0095 - val_ALV-KOODI_loss: 0.3193 - val_TILI_sparse_categorical_accuracy: 0.4365 - val_ALV-KOODI_sparse_categorical_accuracy: 0.8963\n",
      "Epoch 40/200\n",
      "244/244 [==============================] - 3s 9ms/step - loss: 2.2368 - TILI_loss: 1.9701 - ALV-KOODI_loss: 0.2667 - TILI_sparse_categorical_accuracy: 0.4515 - ALV-KOODI_sparse_categorical_accuracy: 0.9119 - val_loss: 2.2689 - val_TILI_loss: 2.0106 - val_ALV-KOODI_loss: 0.2582 - val_TILI_sparse_categorical_accuracy: 0.4502 - val_ALV-KOODI_sparse_categorical_accuracy: 0.9140\n",
      "Epoch 41/200\n",
      "241/244 [============================>.] - ETA: 0s - loss: 2.2142 - TILI_loss: 1.9539 - ALV-KOODI_loss: 0.2603 - TILI_sparse_categorical_accuracy: 0.4551 - ALV-KOODI_sparse_categorical_accuracy: 0.9135INFO:tensorflow:Assets written to: .\\best_model\\assets\n",
      "244/244 [==============================] - 6s 20ms/step - loss: 2.2149 - TILI_loss: 1.9543 - ALV-KOODI_loss: 0.2606 - TILI_sparse_categorical_accuracy: 0.4551 - ALV-KOODI_sparse_categorical_accuracy: 0.9135 - val_loss: 2.2481 - val_TILI_loss: 1.9696 - val_ALV-KOODI_loss: 0.2786 - val_TILI_sparse_categorical_accuracy: 0.4497 - val_ALV-KOODI_sparse_categorical_accuracy: 0.9010\n",
      "Epoch 42/200\n",
      "240/244 [============================>.] - ETA: 0s - loss: 2.1646 - TILI_loss: 1.9235 - ALV-KOODI_loss: 0.2411 - TILI_sparse_categorical_accuracy: 0.4617 - ALV-KOODI_sparse_categorical_accuracy: 0.9200INFO:tensorflow:Assets written to: .\\best_model\\assets\n",
      "244/244 [==============================] - 5s 15ms/step - loss: 2.1644 - TILI_loss: 1.9233 - ALV-KOODI_loss: 0.2411 - TILI_sparse_categorical_accuracy: 0.4617 - ALV-KOODI_sparse_categorical_accuracy: 0.9200 - val_loss: 2.1592 - val_TILI_loss: 1.9301 - val_ALV-KOODI_loss: 0.2291 - val_TILI_sparse_categorical_accuracy: 0.4640 - val_ALV-KOODI_sparse_categorical_accuracy: 0.9276\n",
      "Epoch 43/200\n",
      "244/244 [==============================] - 4s 12ms/step - loss: 2.3017 - TILI_loss: 1.9979 - ALV-KOODI_loss: 0.3038 - TILI_sparse_categorical_accuracy: 0.4470 - ALV-KOODI_sparse_categorical_accuracy: 0.9042 - val_loss: 2.5338 - val_TILI_loss: 2.1563 - val_ALV-KOODI_loss: 0.3775 - val_TILI_sparse_categorical_accuracy: 0.4190 - val_ALV-KOODI_sparse_categorical_accuracy: 0.8765\n",
      "Epoch 44/200\n",
      "244/244 [==============================] - 3s 7ms/step - loss: 2.2582 - TILI_loss: 1.9897 - ALV-KOODI_loss: 0.2686 - TILI_sparse_categorical_accuracy: 0.4530 - ALV-KOODI_sparse_categorical_accuracy: 0.9126 - val_loss: 2.5084 - val_TILI_loss: 2.1504 - val_ALV-KOODI_loss: 0.3580 - val_TILI_sparse_categorical_accuracy: 0.4124 - val_ALV-KOODI_sparse_categorical_accuracy: 0.8910\n",
      "Epoch 45/200\n",
      "244/244 [==============================] - 4s 11ms/step - loss: 2.3463 - TILI_loss: 2.0374 - ALV-KOODI_loss: 0.3089 - TILI_sparse_categorical_accuracy: 0.4396 - ALV-KOODI_sparse_categorical_accuracy: 0.9036 - val_loss: 2.4421 - val_TILI_loss: 2.0664 - val_ALV-KOODI_loss: 0.3757 - val_TILI_sparse_categorical_accuracy: 0.4329 - val_ALV-KOODI_sparse_categorical_accuracy: 0.8777\n",
      "Epoch 46/200\n",
      "244/244 [==============================] - 3s 8ms/step - loss: 2.2381 - TILI_loss: 1.9630 - ALV-KOODI_loss: 0.2751 - TILI_sparse_categorical_accuracy: 0.4526 - ALV-KOODI_sparse_categorical_accuracy: 0.9061 - val_loss: 2.2578 - val_TILI_loss: 1.9903 - val_ALV-KOODI_loss: 0.2675 - val_TILI_sparse_categorical_accuracy: 0.4536 - val_ALV-KOODI_sparse_categorical_accuracy: 0.9113\n",
      "Epoch 47/200\n",
      "244/244 [==============================] - 4s 11ms/step - loss: 2.2503 - TILI_loss: 1.9638 - ALV-KOODI_loss: 0.2865 - TILI_sparse_categorical_accuracy: 0.4560 - ALV-KOODI_sparse_categorical_accuracy: 0.9106 - val_loss: 2.3818 - val_TILI_loss: 2.0330 - val_ALV-KOODI_loss: 0.3488 - val_TILI_sparse_categorical_accuracy: 0.4418 - val_ALV-KOODI_sparse_categorical_accuracy: 0.8847\n",
      "Epoch 48/200\n",
      "234/244 [===========================>..] - ETA: 0s - loss: 2.1614 - TILI_loss: 1.9188 - ALV-KOODI_loss: 0.2426 - TILI_sparse_categorical_accuracy: 0.4666 - ALV-KOODI_sparse_categorical_accuracy: 0.9209INFO:tensorflow:Assets written to: .\\best_model\\assets\n",
      "244/244 [==============================] - 5s 17ms/step - loss: 2.1589 - TILI_loss: 1.9176 - ALV-KOODI_loss: 0.2413 - TILI_sparse_categorical_accuracy: 0.4670 - ALV-KOODI_sparse_categorical_accuracy: 0.9213 - val_loss: 2.1082 - val_TILI_loss: 1.8919 - val_ALV-KOODI_loss: 0.2163 - val_TILI_sparse_categorical_accuracy: 0.4717 - val_ALV-KOODI_sparse_categorical_accuracy: 0.9344\n",
      "Epoch 49/200\n",
      "244/244 [==============================] - 4s 13ms/step - loss: 2.1452 - TILI_loss: 1.9116 - ALV-KOODI_loss: 0.2335 - TILI_sparse_categorical_accuracy: 0.4657 - ALV-KOODI_sparse_categorical_accuracy: 0.9239 - val_loss: 2.1772 - val_TILI_loss: 1.9351 - val_ALV-KOODI_loss: 0.2421 - val_TILI_sparse_categorical_accuracy: 0.4583 - val_ALV-KOODI_sparse_categorical_accuracy: 0.9194\n",
      "Epoch 50/200\n"
     ]
    },
    {
     "name": "stdout",
     "output_type": "stream",
     "text": [
      "244/244 [==============================] - ETA: 0s - loss: 2.1043 - TILI_loss: 1.8921 - ALV-KOODI_loss: 0.2122 - TILI_sparse_categorical_accuracy: 0.4698 - ALV-KOODI_sparse_categorical_accuracy: 0.9312INFO:tensorflow:Assets written to: .\\best_model\\assets\n",
      "244/244 [==============================] - 5s 15ms/step - loss: 2.1043 - TILI_loss: 1.8921 - ALV-KOODI_loss: 0.2122 - TILI_sparse_categorical_accuracy: 0.4698 - ALV-KOODI_sparse_categorical_accuracy: 0.9312 - val_loss: 2.0679 - val_TILI_loss: 1.8756 - val_ALV-KOODI_loss: 0.1923 - val_TILI_sparse_categorical_accuracy: 0.4742 - val_ALV-KOODI_sparse_categorical_accuracy: 0.9363\n",
      "Epoch 51/200\n",
      "244/244 [==============================] - 3s 10ms/step - loss: 2.0399 - TILI_loss: 1.8525 - ALV-KOODI_loss: 0.1874 - TILI_sparse_categorical_accuracy: 0.4774 - ALV-KOODI_sparse_categorical_accuracy: 0.9394 - val_loss: 2.0896 - val_TILI_loss: 1.8683 - val_ALV-KOODI_loss: 0.2214 - val_TILI_sparse_categorical_accuracy: 0.4768 - val_ALV-KOODI_sparse_categorical_accuracy: 0.9296\n",
      "Epoch 52/200\n",
      "239/244 [============================>.] - ETA: 0s - loss: 2.0374 - TILI_loss: 1.8465 - ALV-KOODI_loss: 0.1910 - TILI_sparse_categorical_accuracy: 0.4791 - ALV-KOODI_sparse_categorical_accuracy: 0.9376INFO:tensorflow:Assets written to: .\\best_model\\assets\n",
      "244/244 [==============================] - 5s 15ms/step - loss: 2.0375 - TILI_loss: 1.8462 - ALV-KOODI_loss: 0.1913 - TILI_sparse_categorical_accuracy: 0.4791 - ALV-KOODI_sparse_categorical_accuracy: 0.9375 - val_loss: 2.0553 - val_TILI_loss: 1.8590 - val_ALV-KOODI_loss: 0.1963 - val_TILI_sparse_categorical_accuracy: 0.4785 - val_ALV-KOODI_sparse_categorical_accuracy: 0.9347\n",
      "Epoch 53/200\n",
      "236/244 [============================>.] - ETA: 0s - loss: 1.9904 - TILI_loss: 1.8087 - ALV-KOODI_loss: 0.1817 - TILI_sparse_categorical_accuracy: 0.4883 - ALV-KOODI_sparse_categorical_accuracy: 0.9421INFO:tensorflow:Assets written to: .\\best_model\\assets\n",
      "244/244 [==============================] - 5s 18ms/step - loss: 1.9880 - TILI_loss: 1.8074 - ALV-KOODI_loss: 0.1806 - TILI_sparse_categorical_accuracy: 0.4885 - ALV-KOODI_sparse_categorical_accuracy: 0.9424 - val_loss: 2.0168 - val_TILI_loss: 1.8594 - val_ALV-KOODI_loss: 0.1573 - val_TILI_sparse_categorical_accuracy: 0.4933 - val_ALV-KOODI_sparse_categorical_accuracy: 0.9570\n",
      "Epoch 54/200\n",
      "235/244 [===========================>..] - ETA: 0s - loss: 2.0346 - TILI_loss: 1.8399 - ALV-KOODI_loss: 0.1947 - TILI_sparse_categorical_accuracy: 0.4833 - ALV-KOODI_sparse_categorical_accuracy: 0.9369INFO:tensorflow:Assets written to: .\\best_model\\assets\n",
      "244/244 [==============================] - 5s 16ms/step - loss: 2.0310 - TILI_loss: 1.8376 - ALV-KOODI_loss: 0.1934 - TILI_sparse_categorical_accuracy: 0.4836 - ALV-KOODI_sparse_categorical_accuracy: 0.9374 - val_loss: 1.9919 - val_TILI_loss: 1.8185 - val_ALV-KOODI_loss: 0.1735 - val_TILI_sparse_categorical_accuracy: 0.4917 - val_ALV-KOODI_sparse_categorical_accuracy: 0.9470\n",
      "Epoch 55/200\n",
      "244/244 [==============================] - 4s 12ms/step - loss: 2.0685 - TILI_loss: 1.8582 - ALV-KOODI_loss: 0.2103 - TILI_sparse_categorical_accuracy: 0.4759 - ALV-KOODI_sparse_categorical_accuracy: 0.9292 - val_loss: 2.4997 - val_TILI_loss: 1.9905 - val_ALV-KOODI_loss: 0.5092 - val_TILI_sparse_categorical_accuracy: 0.4515 - val_ALV-KOODI_sparse_categorical_accuracy: 0.8641\n",
      "Epoch 56/200\n",
      "238/244 [============================>.] - ETA: 0s - loss: 1.9998 - TILI_loss: 1.8074 - ALV-KOODI_loss: 0.1924 - TILI_sparse_categorical_accuracy: 0.4888 - ALV-KOODI_sparse_categorical_accuracy: 0.9341INFO:tensorflow:Assets written to: .\\best_model\\assets\n",
      "244/244 [==============================] - 5s 18ms/step - loss: 1.9988 - TILI_loss: 1.8068 - ALV-KOODI_loss: 0.1920 - TILI_sparse_categorical_accuracy: 0.4889 - ALV-KOODI_sparse_categorical_accuracy: 0.9342 - val_loss: 1.9811 - val_TILI_loss: 1.8040 - val_ALV-KOODI_loss: 0.1771 - val_TILI_sparse_categorical_accuracy: 0.4845 - val_ALV-KOODI_sparse_categorical_accuracy: 0.9412\n",
      "Epoch 57/200\n",
      "244/244 [==============================] - 4s 14ms/step - loss: 1.9558 - TILI_loss: 1.7825 - ALV-KOODI_loss: 0.1733 - TILI_sparse_categorical_accuracy: 0.4935 - ALV-KOODI_sparse_categorical_accuracy: 0.9428 - val_loss: 2.0414 - val_TILI_loss: 1.8171 - val_ALV-KOODI_loss: 0.2243 - val_TILI_sparse_categorical_accuracy: 0.4805 - val_ALV-KOODI_sparse_categorical_accuracy: 0.9231\n",
      "Epoch 58/200\n",
      "234/244 [===========================>..] - ETA: 0s - loss: 1.9280 - TILI_loss: 1.7593 - ALV-KOODI_loss: 0.1687 - TILI_sparse_categorical_accuracy: 0.4989 - ALV-KOODI_sparse_categorical_accuracy: 0.9459INFO:tensorflow:Assets written to: .\\best_model\\assets\n",
      "244/244 [==============================] - 5s 18ms/step - loss: 1.9278 - TILI_loss: 1.7600 - ALV-KOODI_loss: 0.1678 - TILI_sparse_categorical_accuracy: 0.4989 - ALV-KOODI_sparse_categorical_accuracy: 0.9462 - val_loss: 1.9227 - val_TILI_loss: 1.7768 - val_ALV-KOODI_loss: 0.1459 - val_TILI_sparse_categorical_accuracy: 0.4970 - val_ALV-KOODI_sparse_categorical_accuracy: 0.9547\n",
      "Epoch 59/200\n",
      "241/244 [============================>.] - ETA: 0s - loss: 1.8990 - TILI_loss: 1.7416 - ALV-KOODI_loss: 0.1574 - TILI_sparse_categorical_accuracy: 0.5027 - ALV-KOODI_sparse_categorical_accuracy: 0.9498INFO:tensorflow:Assets written to: .\\best_model\\assets\n",
      "244/244 [==============================] - 5s 18ms/step - loss: 1.8982 - TILI_loss: 1.7412 - ALV-KOODI_loss: 0.1570 - TILI_sparse_categorical_accuracy: 0.5028 - ALV-KOODI_sparse_categorical_accuracy: 0.9499 - val_loss: 1.8615 - val_TILI_loss: 1.7298 - val_ALV-KOODI_loss: 0.1317 - val_TILI_sparse_categorical_accuracy: 0.5062 - val_ALV-KOODI_sparse_categorical_accuracy: 0.9599\n",
      "Epoch 60/200\n",
      "244/244 [==============================] - 3s 8ms/step - loss: 1.9225 - TILI_loss: 1.7599 - ALV-KOODI_loss: 0.1626 - TILI_sparse_categorical_accuracy: 0.4988 - ALV-KOODI_sparse_categorical_accuracy: 0.9466 - val_loss: 1.9321 - val_TILI_loss: 1.7664 - val_ALV-KOODI_loss: 0.1657 - val_TILI_sparse_categorical_accuracy: 0.4980 - val_ALV-KOODI_sparse_categorical_accuracy: 0.9438\n",
      "Epoch 61/200\n",
      "244/244 [==============================] - 4s 12ms/step - loss: 1.8816 - TILI_loss: 1.7260 - ALV-KOODI_loss: 0.1557 - TILI_sparse_categorical_accuracy: 0.5064 - ALV-KOODI_sparse_categorical_accuracy: 0.9474 - val_loss: 1.9465 - val_TILI_loss: 1.7626 - val_ALV-KOODI_loss: 0.1839 - val_TILI_sparse_categorical_accuracy: 0.4997 - val_ALV-KOODI_sparse_categorical_accuracy: 0.9399\n",
      "Epoch 62/200\n",
      "244/244 [==============================] - 3s 7ms/step - loss: 1.8965 - TILI_loss: 1.7298 - ALV-KOODI_loss: 0.1667 - TILI_sparse_categorical_accuracy: 0.5055 - ALV-KOODI_sparse_categorical_accuracy: 0.9445 - val_loss: 1.8721 - val_TILI_loss: 1.7160 - val_ALV-KOODI_loss: 0.1561 - val_TILI_sparse_categorical_accuracy: 0.5107 - val_ALV-KOODI_sparse_categorical_accuracy: 0.9506\n",
      "Epoch 63/200\n",
      "244/244 [==============================] - 4s 13ms/step - loss: 1.8479 - TILI_loss: 1.6985 - ALV-KOODI_loss: 0.1494 - TILI_sparse_categorical_accuracy: 0.5143 - ALV-KOODI_sparse_categorical_accuracy: 0.9508 - val_loss: 1.9978 - val_TILI_loss: 1.7748 - val_ALV-KOODI_loss: 0.2230 - val_TILI_sparse_categorical_accuracy: 0.4961 - val_ALV-KOODI_sparse_categorical_accuracy: 0.9285\n",
      "Epoch 64/200\n",
      "244/244 [==============================] - 3s 7ms/step - loss: 1.8807 - TILI_loss: 1.7239 - ALV-KOODI_loss: 0.1568 - TILI_sparse_categorical_accuracy: 0.5058 - ALV-KOODI_sparse_categorical_accuracy: 0.9474 - val_loss: 1.8780 - val_TILI_loss: 1.7361 - val_ALV-KOODI_loss: 0.1419 - val_TILI_sparse_categorical_accuracy: 0.5117 - val_ALV-KOODI_sparse_categorical_accuracy: 0.9550\n",
      "Epoch 65/200\n",
      "244/244 [==============================] - 4s 11ms/step - loss: 2.0573 - TILI_loss: 1.8365 - ALV-KOODI_loss: 0.2208 - TILI_sparse_categorical_accuracy: 0.4852 - ALV-KOODI_sparse_categorical_accuracy: 0.9374 - val_loss: 1.9964 - val_TILI_loss: 1.8019 - val_ALV-KOODI_loss: 0.1945 - val_TILI_sparse_categorical_accuracy: 0.4900 - val_ALV-KOODI_sparse_categorical_accuracy: 0.9346\n",
      "Epoch 66/200\n"
     ]
    },
    {
     "name": "stdout",
     "output_type": "stream",
     "text": [
      "244/244 [==============================] - 3s 7ms/step - loss: 1.9116 - TILI_loss: 1.7445 - ALV-KOODI_loss: 0.1671 - TILI_sparse_categorical_accuracy: 0.5017 - ALV-KOODI_sparse_categorical_accuracy: 0.9448 - val_loss: 2.0579 - val_TILI_loss: 1.8096 - val_ALV-KOODI_loss: 0.2484 - val_TILI_sparse_categorical_accuracy: 0.4871 - val_ALV-KOODI_sparse_categorical_accuracy: 0.9239\n",
      "Epoch 67/200\n",
      "244/244 [==============================] - 5s 15ms/step - loss: 1.9217 - TILI_loss: 1.7464 - ALV-KOODI_loss: 0.1752 - TILI_sparse_categorical_accuracy: 0.5031 - ALV-KOODI_sparse_categorical_accuracy: 0.9442 - val_loss: 1.9665 - val_TILI_loss: 1.7591 - val_ALV-KOODI_loss: 0.2075 - val_TILI_sparse_categorical_accuracy: 0.5015 - val_ALV-KOODI_sparse_categorical_accuracy: 0.9356\n",
      "Epoch 68/200\n",
      "244/244 [==============================] - 4s 12ms/step - loss: 1.8886 - TILI_loss: 1.7244 - ALV-KOODI_loss: 0.1642 - TILI_sparse_categorical_accuracy: 0.5058 - ALV-KOODI_sparse_categorical_accuracy: 0.9451 - val_loss: 1.9089 - val_TILI_loss: 1.7383 - val_ALV-KOODI_loss: 0.1706 - val_TILI_sparse_categorical_accuracy: 0.5028 - val_ALV-KOODI_sparse_categorical_accuracy: 0.9445\n",
      "Epoch 69/200\n",
      "243/244 [============================>.] - ETA: 0s - loss: 1.8763 - TILI_loss: 1.7201 - ALV-KOODI_loss: 0.1562 - TILI_sparse_categorical_accuracy: 0.5071 - ALV-KOODI_sparse_categorical_accuracy: 0.9483INFO:tensorflow:Assets written to: .\\best_model\\assets\n",
      "244/244 [==============================] - 5s 17ms/step - loss: 1.8761 - TILI_loss: 1.7199 - ALV-KOODI_loss: 0.1563 - TILI_sparse_categorical_accuracy: 0.5071 - ALV-KOODI_sparse_categorical_accuracy: 0.9483 - val_loss: 1.8529 - val_TILI_loss: 1.7087 - val_ALV-KOODI_loss: 0.1442 - val_TILI_sparse_categorical_accuracy: 0.5107 - val_ALV-KOODI_sparse_categorical_accuracy: 0.9516\n",
      "Epoch 70/200\n",
      "237/244 [============================>.] - ETA: 0s - loss: 1.8463 - TILI_loss: 1.6936 - ALV-KOODI_loss: 0.1527 - TILI_sparse_categorical_accuracy: 0.5132 - ALV-KOODI_sparse_categorical_accuracy: 0.9496INFO:tensorflow:Assets written to: .\\best_model\\assets\n",
      "244/244 [==============================] - 6s 20ms/step - loss: 1.8448 - TILI_loss: 1.6922 - ALV-KOODI_loss: 0.1526 - TILI_sparse_categorical_accuracy: 0.5139 - ALV-KOODI_sparse_categorical_accuracy: 0.9496 - val_loss: 1.8508 - val_TILI_loss: 1.6883 - val_ALV-KOODI_loss: 0.1625 - val_TILI_sparse_categorical_accuracy: 0.5148 - val_ALV-KOODI_sparse_categorical_accuracy: 0.9469\n",
      "Epoch 71/200\n",
      "235/244 [===========================>..] - ETA: 0s - loss: 1.8491 - TILI_loss: 1.7059 - ALV-KOODI_loss: 0.1431 - TILI_sparse_categorical_accuracy: 0.5130 - ALV-KOODI_sparse_categorical_accuracy: 0.9535INFO:tensorflow:Assets written to: .\\best_model\\assets\n",
      "244/244 [==============================] - 5s 16ms/step - loss: 1.8483 - TILI_loss: 1.7057 - ALV-KOODI_loss: 0.1427 - TILI_sparse_categorical_accuracy: 0.5131 - ALV-KOODI_sparse_categorical_accuracy: 0.9537 - val_loss: 1.8362 - val_TILI_loss: 1.6940 - val_ALV-KOODI_loss: 0.1422 - val_TILI_sparse_categorical_accuracy: 0.5165 - val_ALV-KOODI_sparse_categorical_accuracy: 0.9541\n",
      "Epoch 72/200\n",
      "242/244 [============================>.] - ETA: 0s - loss: 1.8330 - TILI_loss: 1.6880 - ALV-KOODI_loss: 0.1450 - TILI_sparse_categorical_accuracy: 0.5172 - ALV-KOODI_sparse_categorical_accuracy: 0.9537INFO:tensorflow:Assets written to: .\\best_model\\assets\n",
      "244/244 [==============================] - 6s 20ms/step - loss: 1.8328 - TILI_loss: 1.6879 - ALV-KOODI_loss: 0.1448 - TILI_sparse_categorical_accuracy: 0.5172 - ALV-KOODI_sparse_categorical_accuracy: 0.9537 - val_loss: 1.7794 - val_TILI_loss: 1.6574 - val_ALV-KOODI_loss: 0.1220 - val_TILI_sparse_categorical_accuracy: 0.5229 - val_ALV-KOODI_sparse_categorical_accuracy: 0.9616\n",
      "Epoch 73/200\n",
      "244/244 [==============================] - 3s 7ms/step - loss: 1.9536 - TILI_loss: 1.7526 - ALV-KOODI_loss: 0.2010 - TILI_sparse_categorical_accuracy: 0.5046 - ALV-KOODI_sparse_categorical_accuracy: 0.9373 - val_loss: 1.9928 - val_TILI_loss: 1.7999 - val_ALV-KOODI_loss: 0.1928 - val_TILI_sparse_categorical_accuracy: 0.4948 - val_ALV-KOODI_sparse_categorical_accuracy: 0.9354\n",
      "Epoch 74/200\n",
      "244/244 [==============================] - 4s 11ms/step - loss: 1.9016 - TILI_loss: 1.7233 - ALV-KOODI_loss: 0.1783 - TILI_sparse_categorical_accuracy: 0.5094 - ALV-KOODI_sparse_categorical_accuracy: 0.9408 - val_loss: 1.8750 - val_TILI_loss: 1.7253 - val_ALV-KOODI_loss: 0.1496 - val_TILI_sparse_categorical_accuracy: 0.5096 - val_ALV-KOODI_sparse_categorical_accuracy: 0.9514\n",
      "Epoch 75/200\n",
      "244/244 [==============================] - 3s 7ms/step - loss: 1.8947 - TILI_loss: 1.7227 - ALV-KOODI_loss: 0.1720 - TILI_sparse_categorical_accuracy: 0.5045 - ALV-KOODI_sparse_categorical_accuracy: 0.9367 - val_loss: 1.8520 - val_TILI_loss: 1.6987 - val_ALV-KOODI_loss: 0.1533 - val_TILI_sparse_categorical_accuracy: 0.5089 - val_ALV-KOODI_sparse_categorical_accuracy: 0.9420\n",
      "Epoch 76/200\n",
      "244/244 [==============================] - 4s 12ms/step - loss: 1.8318 - TILI_loss: 1.6773 - ALV-KOODI_loss: 0.1545 - TILI_sparse_categorical_accuracy: 0.5138 - ALV-KOODI_sparse_categorical_accuracy: 0.9408 - val_loss: 1.8571 - val_TILI_loss: 1.7058 - val_ALV-KOODI_loss: 0.1513 - val_TILI_sparse_categorical_accuracy: 0.5090 - val_ALV-KOODI_sparse_categorical_accuracy: 0.9475\n",
      "Epoch 77/200\n",
      "244/244 [==============================] - 3s 7ms/step - loss: 1.7973 - TILI_loss: 1.6561 - ALV-KOODI_loss: 0.1411 - TILI_sparse_categorical_accuracy: 0.5192 - ALV-KOODI_sparse_categorical_accuracy: 0.9478 - val_loss: 1.8286 - val_TILI_loss: 1.6799 - val_ALV-KOODI_loss: 0.1487 - val_TILI_sparse_categorical_accuracy: 0.5134 - val_ALV-KOODI_sparse_categorical_accuracy: 0.9423\n",
      "Epoch 78/200\n",
      "238/244 [============================>.] - ETA: 0s - loss: 1.8245 - TILI_loss: 1.6765 - ALV-KOODI_loss: 0.1480 - TILI_sparse_categorical_accuracy: 0.5172 - ALV-KOODI_sparse_categorical_accuracy: 0.9466INFO:tensorflow:Assets written to: .\\best_model\\assets\n",
      "244/244 [==============================] - 6s 21ms/step - loss: 1.8237 - TILI_loss: 1.6762 - ALV-KOODI_loss: 0.1475 - TILI_sparse_categorical_accuracy: 0.5174 - ALV-KOODI_sparse_categorical_accuracy: 0.9467 - val_loss: 1.7694 - val_TILI_loss: 1.6436 - val_ALV-KOODI_loss: 0.1258 - val_TILI_sparse_categorical_accuracy: 0.5259 - val_ALV-KOODI_sparse_categorical_accuracy: 0.9559\n",
      "Epoch 79/200\n",
      "244/244 [==============================] - 3s 8ms/step - loss: 1.8089 - TILI_loss: 1.6596 - ALV-KOODI_loss: 0.1494 - TILI_sparse_categorical_accuracy: 0.5191 - ALV-KOODI_sparse_categorical_accuracy: 0.9497 - val_loss: 2.9139 - val_TILI_loss: 2.0233 - val_ALV-KOODI_loss: 0.8905 - val_TILI_sparse_categorical_accuracy: 0.4984 - val_ALV-KOODI_sparse_categorical_accuracy: 0.9133\n",
      "Epoch 80/200\n",
      "244/244 [==============================] - 4s 11ms/step - loss: 1.9340 - TILI_loss: 1.7354 - ALV-KOODI_loss: 0.1986 - TILI_sparse_categorical_accuracy: 0.5096 - ALV-KOODI_sparse_categorical_accuracy: 0.9384 - val_loss: 1.8014 - val_TILI_loss: 1.6605 - val_ALV-KOODI_loss: 0.1410 - val_TILI_sparse_categorical_accuracy: 0.5220 - val_ALV-KOODI_sparse_categorical_accuracy: 0.9501\n",
      "Epoch 81/200\n",
      "244/244 [==============================] - 4s 11ms/step - loss: 1.7912 - TILI_loss: 1.6450 - ALV-KOODI_loss: 0.1462 - TILI_sparse_categorical_accuracy: 0.5219 - ALV-KOODI_sparse_categorical_accuracy: 0.9458 - val_loss: 1.8051 - val_TILI_loss: 1.6554 - val_ALV-KOODI_loss: 0.1497 - val_TILI_sparse_categorical_accuracy: 0.5245 - val_ALV-KOODI_sparse_categorical_accuracy: 0.9487\n",
      "Epoch 82/200\n",
      "244/244 [==============================] - 4s 10ms/step - loss: 1.8422 - TILI_loss: 1.6951 - ALV-KOODI_loss: 0.1470 - TILI_sparse_categorical_accuracy: 0.5192 - ALV-KOODI_sparse_categorical_accuracy: 0.9485 - val_loss: 1.8613 - val_TILI_loss: 1.7172 - val_ALV-KOODI_loss: 0.1441 - val_TILI_sparse_categorical_accuracy: 0.5135 - val_ALV-KOODI_sparse_categorical_accuracy: 0.9521\n",
      "Epoch 83/200\n",
      "244/244 [==============================] - 3s 7ms/step - loss: 1.8887 - TILI_loss: 1.7345 - ALV-KOODI_loss: 0.1542 - TILI_sparse_categorical_accuracy: 0.5104 - ALV-KOODI_sparse_categorical_accuracy: 0.9511 - val_loss: 1.8340 - val_TILI_loss: 1.6751 - val_ALV-KOODI_loss: 0.1589 - val_TILI_sparse_categorical_accuracy: 0.5198 - val_ALV-KOODI_sparse_categorical_accuracy: 0.9482\n"
     ]
    },
    {
     "name": "stdout",
     "output_type": "stream",
     "text": [
      "Epoch 84/200\n",
      "241/244 [============================>.] - ETA: 0s - loss: 1.7508 - TILI_loss: 1.6246 - ALV-KOODI_loss: 0.1261 - TILI_sparse_categorical_accuracy: 0.5302 - ALV-KOODI_sparse_categorical_accuracy: 0.9582INFO:tensorflow:Assets written to: .\\best_model\\assets\n",
      "244/244 [==============================] - 6s 20ms/step - loss: 1.7509 - TILI_loss: 1.6247 - ALV-KOODI_loss: 0.1262 - TILI_sparse_categorical_accuracy: 0.5302 - ALV-KOODI_sparse_categorical_accuracy: 0.9581 - val_loss: 1.7582 - val_TILI_loss: 1.6360 - val_ALV-KOODI_loss: 0.1222 - val_TILI_sparse_categorical_accuracy: 0.5293 - val_ALV-KOODI_sparse_categorical_accuracy: 0.9554\n",
      "Epoch 85/200\n",
      "239/244 [============================>.] - ETA: 0s - loss: 1.7632 - TILI_loss: 1.6397 - ALV-KOODI_loss: 0.1235 - TILI_sparse_categorical_accuracy: 0.5266 - ALV-KOODI_sparse_categorical_accuracy: 0.9585INFO:tensorflow:Assets written to: .\\best_model\\assets\n",
      "244/244 [==============================] - 5s 15ms/step - loss: 1.7628 - TILI_loss: 1.6396 - ALV-KOODI_loss: 0.1232 - TILI_sparse_categorical_accuracy: 0.5267 - ALV-KOODI_sparse_categorical_accuracy: 0.9587 - val_loss: 1.7572 - val_TILI_loss: 1.6357 - val_ALV-KOODI_loss: 0.1215 - val_TILI_sparse_categorical_accuracy: 0.5272 - val_ALV-KOODI_sparse_categorical_accuracy: 0.9596\n",
      "Epoch 86/200\n",
      "244/244 [==============================] - 4s 11ms/step - loss: 1.7219 - TILI_loss: 1.5998 - ALV-KOODI_loss: 0.1220 - TILI_sparse_categorical_accuracy: 0.5345 - ALV-KOODI_sparse_categorical_accuracy: 0.9580 - val_loss: 2.0766 - val_TILI_loss: 1.8597 - val_ALV-KOODI_loss: 0.2169 - val_TILI_sparse_categorical_accuracy: 0.4813 - val_ALV-KOODI_sparse_categorical_accuracy: 0.9335\n",
      "Epoch 87/200\n",
      "244/244 [==============================] - 3s 7ms/step - loss: 1.9532 - TILI_loss: 1.7456 - ALV-KOODI_loss: 0.2076 - TILI_sparse_categorical_accuracy: 0.5067 - ALV-KOODI_sparse_categorical_accuracy: 0.9393 - val_loss: 1.8309 - val_TILI_loss: 1.6675 - val_ALV-KOODI_loss: 0.1634 - val_TILI_sparse_categorical_accuracy: 0.5242 - val_ALV-KOODI_sparse_categorical_accuracy: 0.9496\n",
      "Epoch 88/200\n",
      "244/244 [==============================] - 3s 7ms/step - loss: 1.8434 - TILI_loss: 1.6763 - ALV-KOODI_loss: 0.1671 - TILI_sparse_categorical_accuracy: 0.5197 - ALV-KOODI_sparse_categorical_accuracy: 0.9481 - val_loss: 1.8099 - val_TILI_loss: 1.6574 - val_ALV-KOODI_loss: 0.1524 - val_TILI_sparse_categorical_accuracy: 0.5272 - val_ALV-KOODI_sparse_categorical_accuracy: 0.9518\n",
      "Epoch 89/200\n",
      "244/244 [==============================] - 5s 14ms/step - loss: 1.8116 - TILI_loss: 1.6522 - ALV-KOODI_loss: 0.1593 - TILI_sparse_categorical_accuracy: 0.5262 - ALV-KOODI_sparse_categorical_accuracy: 0.9504 - val_loss: 1.8143 - val_TILI_loss: 1.6593 - val_ALV-KOODI_loss: 0.1550 - val_TILI_sparse_categorical_accuracy: 0.5236 - val_ALV-KOODI_sparse_categorical_accuracy: 0.9504\n",
      "Epoch 90/200\n",
      "239/244 [============================>.] - ETA: 0s - loss: 1.7611 - TILI_loss: 1.6207 - ALV-KOODI_loss: 0.1404 - TILI_sparse_categorical_accuracy: 0.5291 - ALV-KOODI_sparse_categorical_accuracy: 0.9549INFO:tensorflow:Assets written to: .\\best_model\\assets\n",
      "244/244 [==============================] - 5s 16ms/step - loss: 1.7600 - TILI_loss: 1.6202 - ALV-KOODI_loss: 0.1398 - TILI_sparse_categorical_accuracy: 0.5291 - ALV-KOODI_sparse_categorical_accuracy: 0.9551 - val_loss: 1.7269 - val_TILI_loss: 1.6086 - val_ALV-KOODI_loss: 0.1183 - val_TILI_sparse_categorical_accuracy: 0.5365 - val_ALV-KOODI_sparse_categorical_accuracy: 0.9635\n",
      "Epoch 91/200\n",
      "244/244 [==============================] - 3s 7ms/step - loss: 1.7748 - TILI_loss: 1.6299 - ALV-KOODI_loss: 0.1449 - TILI_sparse_categorical_accuracy: 0.5283 - ALV-KOODI_sparse_categorical_accuracy: 0.9577 - val_loss: 1.7432 - val_TILI_loss: 1.6197 - val_ALV-KOODI_loss: 0.1235 - val_TILI_sparse_categorical_accuracy: 0.5314 - val_ALV-KOODI_sparse_categorical_accuracy: 0.9617\n",
      "Epoch 92/200\n",
      "244/244 [==============================] - 4s 12ms/step - loss: 1.7791 - TILI_loss: 1.6292 - ALV-KOODI_loss: 0.1499 - TILI_sparse_categorical_accuracy: 0.5310 - ALV-KOODI_sparse_categorical_accuracy: 0.9516 - val_loss: 1.7746 - val_TILI_loss: 1.6195 - val_ALV-KOODI_loss: 0.1551 - val_TILI_sparse_categorical_accuracy: 0.5355 - val_ALV-KOODI_sparse_categorical_accuracy: 0.9510\n",
      "Epoch 93/200\n",
      "244/244 [==============================] - 3s 8ms/step - loss: 1.7580 - TILI_loss: 1.6059 - ALV-KOODI_loss: 0.1521 - TILI_sparse_categorical_accuracy: 0.5341 - ALV-KOODI_sparse_categorical_accuracy: 0.9490 - val_loss: 1.7471 - val_TILI_loss: 1.6035 - val_ALV-KOODI_loss: 0.1437 - val_TILI_sparse_categorical_accuracy: 0.5412 - val_ALV-KOODI_sparse_categorical_accuracy: 0.9534\n",
      "Epoch 94/200\n",
      "244/244 [==============================] - 4s 12ms/step - loss: 1.7563 - TILI_loss: 1.6040 - ALV-KOODI_loss: 0.1523 - TILI_sparse_categorical_accuracy: 0.5369 - ALV-KOODI_sparse_categorical_accuracy: 0.9501 - val_loss: 1.9281 - val_TILI_loss: 1.7607 - val_ALV-KOODI_loss: 0.1674 - val_TILI_sparse_categorical_accuracy: 0.5035 - val_ALV-KOODI_sparse_categorical_accuracy: 0.9440\n",
      "Epoch 95/200\n",
      "244/244 [==============================] - 3s 8ms/step - loss: 1.7359 - TILI_loss: 1.5994 - ALV-KOODI_loss: 0.1364 - TILI_sparse_categorical_accuracy: 0.5367 - ALV-KOODI_sparse_categorical_accuracy: 0.9555 - val_loss: 1.7328 - val_TILI_loss: 1.5866 - val_ALV-KOODI_loss: 0.1462 - val_TILI_sparse_categorical_accuracy: 0.5446 - val_ALV-KOODI_sparse_categorical_accuracy: 0.9513\n",
      "Epoch 96/200\n",
      "244/244 [==============================] - 4s 11ms/step - loss: 1.8024 - TILI_loss: 1.6397 - ALV-KOODI_loss: 0.1627 - TILI_sparse_categorical_accuracy: 0.5270 - ALV-KOODI_sparse_categorical_accuracy: 0.9471 - val_loss: 1.7525 - val_TILI_loss: 1.6094 - val_ALV-KOODI_loss: 0.1431 - val_TILI_sparse_categorical_accuracy: 0.5374 - val_ALV-KOODI_sparse_categorical_accuracy: 0.9514\n",
      "Epoch 97/200\n",
      "239/244 [============================>.] - ETA: 0s - loss: 1.7373 - TILI_loss: 1.5904 - ALV-KOODI_loss: 0.1469 - TILI_sparse_categorical_accuracy: 0.5376 - ALV-KOODI_sparse_categorical_accuracy: 0.9496INFO:tensorflow:Assets written to: .\\best_model\\assets\n",
      "244/244 [==============================] - 6s 18ms/step - loss: 1.7364 - TILI_loss: 1.5899 - ALV-KOODI_loss: 0.1464 - TILI_sparse_categorical_accuracy: 0.5377 - ALV-KOODI_sparse_categorical_accuracy: 0.9498 - val_loss: 1.7228 - val_TILI_loss: 1.5843 - val_ALV-KOODI_loss: 0.1385 - val_TILI_sparse_categorical_accuracy: 0.5455 - val_ALV-KOODI_sparse_categorical_accuracy: 0.9560\n",
      "Epoch 98/200\n",
      "237/244 [============================>.] - ETA: 0s - loss: 1.6939 - TILI_loss: 1.5589 - ALV-KOODI_loss: 0.1349 - TILI_sparse_categorical_accuracy: 0.5468 - ALV-KOODI_sparse_categorical_accuracy: 0.9549INFO:tensorflow:Assets written to: .\\best_model\\assets\n",
      "244/244 [==============================] - 5s 18ms/step - loss: 1.6940 - TILI_loss: 1.5591 - ALV-KOODI_loss: 0.1349 - TILI_sparse_categorical_accuracy: 0.5467 - ALV-KOODI_sparse_categorical_accuracy: 0.9549 - val_loss: 1.7060 - val_TILI_loss: 1.5804 - val_ALV-KOODI_loss: 0.1256 - val_TILI_sparse_categorical_accuracy: 0.5443 - val_ALV-KOODI_sparse_categorical_accuracy: 0.9592\n",
      "Epoch 99/200\n",
      "239/244 [============================>.] - ETA: 0s - loss: 1.6819 - TILI_loss: 1.5622 - ALV-KOODI_loss: 0.1197 - TILI_sparse_categorical_accuracy: 0.5445 - ALV-KOODI_sparse_categorical_accuracy: 0.9582INFO:tensorflow:Assets written to: .\\best_model\\assets\n",
      "244/244 [==============================] - 5s 16ms/step - loss: 1.6813 - TILI_loss: 1.5619 - ALV-KOODI_loss: 0.1194 - TILI_sparse_categorical_accuracy: 0.5447 - ALV-KOODI_sparse_categorical_accuracy: 0.9583 - val_loss: 1.6482 - val_TILI_loss: 1.5442 - val_ALV-KOODI_loss: 0.1040 - val_TILI_sparse_categorical_accuracy: 0.5488 - val_ALV-KOODI_sparse_categorical_accuracy: 0.9652\n",
      "Epoch 100/200\n",
      "244/244 [==============================] - 4s 13ms/step - loss: 1.7232 - TILI_loss: 1.5974 - ALV-KOODI_loss: 0.1257 - TILI_sparse_categorical_accuracy: 0.5402 - ALV-KOODI_sparse_categorical_accuracy: 0.9581 - val_loss: 1.8358 - val_TILI_loss: 1.6949 - val_ALV-KOODI_loss: 0.1408 - val_TILI_sparse_categorical_accuracy: 0.5129 - val_ALV-KOODI_sparse_categorical_accuracy: 0.9545\n",
      "Epoch 101/200\n"
     ]
    },
    {
     "name": "stdout",
     "output_type": "stream",
     "text": [
      "244/244 [==============================] - 3s 7ms/step - loss: 1.6899 - TILI_loss: 1.5814 - ALV-KOODI_loss: 0.1085 - TILI_sparse_categorical_accuracy: 0.5407 - ALV-KOODI_sparse_categorical_accuracy: 0.9631 - val_loss: 1.6878 - val_TILI_loss: 1.5736 - val_ALV-KOODI_loss: 0.1141 - val_TILI_sparse_categorical_accuracy: 0.5454 - val_ALV-KOODI_sparse_categorical_accuracy: 0.9609\n",
      "Epoch 102/200\n",
      "241/244 [============================>.] - ETA: 0s - loss: 1.6458 - TILI_loss: 1.5406 - ALV-KOODI_loss: 0.1052 - TILI_sparse_categorical_accuracy: 0.5488 - ALV-KOODI_sparse_categorical_accuracy: 0.9657INFO:tensorflow:Assets written to: .\\best_model\\assets\n",
      "244/244 [==============================] - 6s 20ms/step - loss: 1.6452 - TILI_loss: 1.5401 - ALV-KOODI_loss: 0.1051 - TILI_sparse_categorical_accuracy: 0.5489 - ALV-KOODI_sparse_categorical_accuracy: 0.9658 - val_loss: 1.6294 - val_TILI_loss: 1.5399 - val_ALV-KOODI_loss: 0.0895 - val_TILI_sparse_categorical_accuracy: 0.5532 - val_ALV-KOODI_sparse_categorical_accuracy: 0.9709\n",
      "Epoch 103/200\n",
      "244/244 [==============================] - 3s 7ms/step - loss: 1.5860 - TILI_loss: 1.4978 - ALV-KOODI_loss: 0.0882 - TILI_sparse_categorical_accuracy: 0.5607 - ALV-KOODI_sparse_categorical_accuracy: 0.9709 - val_loss: 1.6999 - val_TILI_loss: 1.5353 - val_ALV-KOODI_loss: 0.1647 - val_TILI_sparse_categorical_accuracy: 0.5549 - val_ALV-KOODI_sparse_categorical_accuracy: 0.9556\n",
      "Epoch 104/200\n",
      "244/244 [==============================] - 4s 12ms/step - loss: 1.6947 - TILI_loss: 1.5615 - ALV-KOODI_loss: 0.1332 - TILI_sparse_categorical_accuracy: 0.5480 - ALV-KOODI_sparse_categorical_accuracy: 0.9556 - val_loss: 1.8255 - val_TILI_loss: 1.6884 - val_ALV-KOODI_loss: 0.1371 - val_TILI_sparse_categorical_accuracy: 0.5172 - val_ALV-KOODI_sparse_categorical_accuracy: 0.9563\n",
      "Epoch 105/200\n",
      "244/244 [==============================] - 3s 7ms/step - loss: 1.7485 - TILI_loss: 1.6106 - ALV-KOODI_loss: 0.1379 - TILI_sparse_categorical_accuracy: 0.5353 - ALV-KOODI_sparse_categorical_accuracy: 0.9576 - val_loss: 1.7637 - val_TILI_loss: 1.6269 - val_ALV-KOODI_loss: 0.1368 - val_TILI_sparse_categorical_accuracy: 0.5337 - val_ALV-KOODI_sparse_categorical_accuracy: 0.9554\n",
      "Epoch 106/200\n",
      "244/244 [==============================] - 4s 12ms/step - loss: 1.7325 - TILI_loss: 1.6205 - ALV-KOODI_loss: 0.1121 - TILI_sparse_categorical_accuracy: 0.5381 - ALV-KOODI_sparse_categorical_accuracy: 0.9638 - val_loss: 1.6853 - val_TILI_loss: 1.5934 - val_ALV-KOODI_loss: 0.0919 - val_TILI_sparse_categorical_accuracy: 0.5398 - val_ALV-KOODI_sparse_categorical_accuracy: 0.9711\n",
      "Epoch 107/200\n",
      "244/244 [==============================] - 3s 7ms/step - loss: 1.6189 - TILI_loss: 1.5295 - ALV-KOODI_loss: 0.0894 - TILI_sparse_categorical_accuracy: 0.5527 - ALV-KOODI_sparse_categorical_accuracy: 0.9711 - val_loss: 1.6298 - val_TILI_loss: 1.5406 - val_ALV-KOODI_loss: 0.0892 - val_TILI_sparse_categorical_accuracy: 0.5517 - val_ALV-KOODI_sparse_categorical_accuracy: 0.9723\n",
      "Epoch 108/200\n",
      "244/244 [==============================] - 4s 11ms/step - loss: 1.5890 - TILI_loss: 1.5009 - ALV-KOODI_loss: 0.0880 - TILI_sparse_categorical_accuracy: 0.5607 - ALV-KOODI_sparse_categorical_accuracy: 0.9712 - val_loss: 1.6394 - val_TILI_loss: 1.5457 - val_ALV-KOODI_loss: 0.0937 - val_TILI_sparse_categorical_accuracy: 0.5522 - val_ALV-KOODI_sparse_categorical_accuracy: 0.9697\n",
      "Epoch 109/200\n",
      "244/244 [==============================] - 3s 8ms/step - loss: 1.5888 - TILI_loss: 1.4951 - ALV-KOODI_loss: 0.0936 - TILI_sparse_categorical_accuracy: 0.5632 - ALV-KOODI_sparse_categorical_accuracy: 0.9697 - val_loss: 1.6888 - val_TILI_loss: 1.5600 - val_ALV-KOODI_loss: 0.1289 - val_TILI_sparse_categorical_accuracy: 0.5509 - val_ALV-KOODI_sparse_categorical_accuracy: 0.9602\n",
      "Epoch 110/200\n",
      "244/244 [==============================] - 4s 11ms/step - loss: 1.6426 - TILI_loss: 1.5260 - ALV-KOODI_loss: 0.1166 - TILI_sparse_categorical_accuracy: 0.5573 - ALV-KOODI_sparse_categorical_accuracy: 0.9639 - val_loss: 1.9826 - val_TILI_loss: 1.7043 - val_ALV-KOODI_loss: 0.2783 - val_TILI_sparse_categorical_accuracy: 0.5289 - val_ALV-KOODI_sparse_categorical_accuracy: 0.9315\n",
      "Epoch 111/200\n",
      "238/244 [============================>.] - ETA: 0s - loss: 1.6771 - TILI_loss: 1.5463 - ALV-KOODI_loss: 0.1307 - TILI_sparse_categorical_accuracy: 0.5518 - ALV-KOODI_sparse_categorical_accuracy: 0.9570INFO:tensorflow:Assets written to: .\\best_model\\assets\n",
      "244/244 [==============================] - 5s 15ms/step - loss: 1.6739 - TILI_loss: 1.5441 - ALV-KOODI_loss: 0.1299 - TILI_sparse_categorical_accuracy: 0.5523 - ALV-KOODI_sparse_categorical_accuracy: 0.9573 - val_loss: 1.6255 - val_TILI_loss: 1.5181 - val_ALV-KOODI_loss: 0.1074 - val_TILI_sparse_categorical_accuracy: 0.5612 - val_ALV-KOODI_sparse_categorical_accuracy: 0.9654\n",
      "Epoch 112/200\n",
      "244/244 [==============================] - 3s 7ms/step - loss: 1.5896 - TILI_loss: 1.4927 - ALV-KOODI_loss: 0.0970 - TILI_sparse_categorical_accuracy: 0.5642 - ALV-KOODI_sparse_categorical_accuracy: 0.9681 - val_loss: 1.6316 - val_TILI_loss: 1.5348 - val_ALV-KOODI_loss: 0.0967 - val_TILI_sparse_categorical_accuracy: 0.5544 - val_ALV-KOODI_sparse_categorical_accuracy: 0.9689\n",
      "Epoch 113/200\n",
      "244/244 [==============================] - 3s 7ms/step - loss: 1.5857 - TILI_loss: 1.4869 - ALV-KOODI_loss: 0.0988 - TILI_sparse_categorical_accuracy: 0.5656 - ALV-KOODI_sparse_categorical_accuracy: 0.9685 - val_loss: 1.9408 - val_TILI_loss: 1.7079 - val_ALV-KOODI_loss: 0.2329 - val_TILI_sparse_categorical_accuracy: 0.5129 - val_ALV-KOODI_sparse_categorical_accuracy: 0.9332\n",
      "Epoch 114/200\n",
      "239/244 [============================>.] - ETA: 0s - loss: 1.6963 - TILI_loss: 1.5609 - ALV-KOODI_loss: 0.1354 - TILI_sparse_categorical_accuracy: 0.5488 - ALV-KOODI_sparse_categorical_accuracy: 0.9576INFO:tensorflow:Assets written to: .\\best_model\\assets\n",
      "244/244 [==============================] - 6s 18ms/step - loss: 1.6941 - TILI_loss: 1.5594 - ALV-KOODI_loss: 0.1347 - TILI_sparse_categorical_accuracy: 0.5491 - ALV-KOODI_sparse_categorical_accuracy: 0.9577 - val_loss: 1.5854 - val_TILI_loss: 1.4946 - val_ALV-KOODI_loss: 0.0908 - val_TILI_sparse_categorical_accuracy: 0.5687 - val_ALV-KOODI_sparse_categorical_accuracy: 0.9684\n",
      "Epoch 115/200\n",
      "244/244 [==============================] - ETA: 0s - loss: 1.5732 - TILI_loss: 1.4812 - ALV-KOODI_loss: 0.0920 - TILI_sparse_categorical_accuracy: 0.5687 - ALV-KOODI_sparse_categorical_accuracy: 0.9692INFO:tensorflow:Assets written to: .\\best_model\\assets\n",
      "244/244 [==============================] - 6s 20ms/step - loss: 1.5732 - TILI_loss: 1.4812 - ALV-KOODI_loss: 0.0920 - TILI_sparse_categorical_accuracy: 0.5687 - ALV-KOODI_sparse_categorical_accuracy: 0.9692 - val_loss: 1.5641 - val_TILI_loss: 1.4786 - val_ALV-KOODI_loss: 0.0855 - val_TILI_sparse_categorical_accuracy: 0.5729 - val_ALV-KOODI_sparse_categorical_accuracy: 0.9726\n",
      "Epoch 116/200\n",
      "244/244 [==============================] - 4s 13ms/step - loss: 1.5954 - TILI_loss: 1.4957 - ALV-KOODI_loss: 0.0997 - TILI_sparse_categorical_accuracy: 0.5644 - ALV-KOODI_sparse_categorical_accuracy: 0.9682 - val_loss: 1.6670 - val_TILI_loss: 1.5556 - val_ALV-KOODI_loss: 0.1114 - val_TILI_sparse_categorical_accuracy: 0.5522 - val_ALV-KOODI_sparse_categorical_accuracy: 0.9639\n",
      "Epoch 117/200\n",
      "244/244 [==============================] - 3s 8ms/step - loss: 1.5746 - TILI_loss: 1.4856 - ALV-KOODI_loss: 0.0891 - TILI_sparse_categorical_accuracy: 0.5646 - ALV-KOODI_sparse_categorical_accuracy: 0.9702 - val_loss: 1.6048 - val_TILI_loss: 1.5084 - val_ALV-KOODI_loss: 0.0964 - val_TILI_sparse_categorical_accuracy: 0.5632 - val_ALV-KOODI_sparse_categorical_accuracy: 0.9697\n",
      "Epoch 118/200\n",
      "244/244 [==============================] - 4s 12ms/step - loss: 1.5468 - TILI_loss: 1.4575 - ALV-KOODI_loss: 0.0893 - TILI_sparse_categorical_accuracy: 0.5721 - ALV-KOODI_sparse_categorical_accuracy: 0.9695 - val_loss: 1.6658 - val_TILI_loss: 1.5742 - val_ALV-KOODI_loss: 0.0916 - val_TILI_sparse_categorical_accuracy: 0.5456 - val_ALV-KOODI_sparse_categorical_accuracy: 0.9708\n",
      "Epoch 119/200\n"
     ]
    },
    {
     "name": "stdout",
     "output_type": "stream",
     "text": [
      "244/244 [==============================] - 3s 7ms/step - loss: 1.5443 - TILI_loss: 1.4567 - ALV-KOODI_loss: 0.0876 - TILI_sparse_categorical_accuracy: 0.5710 - ALV-KOODI_sparse_categorical_accuracy: 0.9701 - val_loss: 1.5979 - val_TILI_loss: 1.4929 - val_ALV-KOODI_loss: 0.1050 - val_TILI_sparse_categorical_accuracy: 0.5659 - val_ALV-KOODI_sparse_categorical_accuracy: 0.9658\n",
      "Epoch 120/200\n",
      "244/244 [==============================] - 4s 14ms/step - loss: 1.7639 - TILI_loss: 1.6133 - ALV-KOODI_loss: 0.1506 - TILI_sparse_categorical_accuracy: 0.5411 - ALV-KOODI_sparse_categorical_accuracy: 0.9568 - val_loss: 1.8067 - val_TILI_loss: 1.6618 - val_ALV-KOODI_loss: 0.1449 - val_TILI_sparse_categorical_accuracy: 0.5219 - val_ALV-KOODI_sparse_categorical_accuracy: 0.9544\n",
      "Epoch 121/200\n",
      "244/244 [==============================] - 3s 8ms/step - loss: 1.6711 - TILI_loss: 1.5503 - ALV-KOODI_loss: 0.1209 - TILI_sparse_categorical_accuracy: 0.5509 - ALV-KOODI_sparse_categorical_accuracy: 0.9595 - val_loss: 1.6595 - val_TILI_loss: 1.5401 - val_ALV-KOODI_loss: 0.1194 - val_TILI_sparse_categorical_accuracy: 0.5590 - val_ALV-KOODI_sparse_categorical_accuracy: 0.9586\n",
      "Epoch 122/200\n",
      "244/244 [==============================] - 4s 10ms/step - loss: 1.6180 - TILI_loss: 1.4976 - ALV-KOODI_loss: 0.1204 - TILI_sparse_categorical_accuracy: 0.5624 - ALV-KOODI_sparse_categorical_accuracy: 0.9579 - val_loss: 1.6598 - val_TILI_loss: 1.5289 - val_ALV-KOODI_loss: 0.1309 - val_TILI_sparse_categorical_accuracy: 0.5552 - val_ALV-KOODI_sparse_categorical_accuracy: 0.9570\n",
      "Epoch 123/200\n",
      "244/244 [==============================] - 3s 8ms/step - loss: 1.6031 - TILI_loss: 1.4895 - ALV-KOODI_loss: 0.1136 - TILI_sparse_categorical_accuracy: 0.5643 - ALV-KOODI_sparse_categorical_accuracy: 0.9623 - val_loss: 1.7870 - val_TILI_loss: 1.6331 - val_ALV-KOODI_loss: 0.1538 - val_TILI_sparse_categorical_accuracy: 0.5333 - val_ALV-KOODI_sparse_categorical_accuracy: 0.9496\n",
      "Epoch 124/200\n",
      "244/244 [==============================] - 4s 11ms/step - loss: 1.5966 - TILI_loss: 1.4972 - ALV-KOODI_loss: 0.0993 - TILI_sparse_categorical_accuracy: 0.5631 - ALV-KOODI_sparse_categorical_accuracy: 0.9652 - val_loss: 1.5927 - val_TILI_loss: 1.4855 - val_ALV-KOODI_loss: 0.1072 - val_TILI_sparse_categorical_accuracy: 0.5684 - val_ALV-KOODI_sparse_categorical_accuracy: 0.9619\n",
      "Epoch 125/200\n",
      "244/244 [==============================] - 3s 7ms/step - loss: 1.5342 - TILI_loss: 1.4504 - ALV-KOODI_loss: 0.0838 - TILI_sparse_categorical_accuracy: 0.5734 - ALV-KOODI_sparse_categorical_accuracy: 0.9705 - val_loss: 1.5737 - val_TILI_loss: 1.4910 - val_ALV-KOODI_loss: 0.0827 - val_TILI_sparse_categorical_accuracy: 0.5662 - val_ALV-KOODI_sparse_categorical_accuracy: 0.9721\n",
      "Epoch 126/200\n",
      "244/244 [==============================] - 4s 10ms/step - loss: 1.6494 - TILI_loss: 1.5278 - ALV-KOODI_loss: 0.1216 - TILI_sparse_categorical_accuracy: 0.5563 - ALV-KOODI_sparse_categorical_accuracy: 0.9595 - val_loss: 1.7267 - val_TILI_loss: 1.6007 - val_ALV-KOODI_loss: 0.1259 - val_TILI_sparse_categorical_accuracy: 0.5367 - val_ALV-KOODI_sparse_categorical_accuracy: 0.9593\n",
      "Epoch 127/200\n",
      "244/244 [==============================] - 3s 7ms/step - loss: 1.5387 - TILI_loss: 1.4536 - ALV-KOODI_loss: 0.0851 - TILI_sparse_categorical_accuracy: 0.5731 - ALV-KOODI_sparse_categorical_accuracy: 0.9694 - val_loss: 1.5751 - val_TILI_loss: 1.4763 - val_ALV-KOODI_loss: 0.0989 - val_TILI_sparse_categorical_accuracy: 0.5681 - val_ALV-KOODI_sparse_categorical_accuracy: 0.9643\n",
      "Epoch 128/200\n",
      "244/244 [==============================] - 4s 12ms/step - loss: 1.5210 - TILI_loss: 1.4359 - ALV-KOODI_loss: 0.0850 - TILI_sparse_categorical_accuracy: 0.5777 - ALV-KOODI_sparse_categorical_accuracy: 0.9699 - val_loss: 1.5725 - val_TILI_loss: 1.4855 - val_ALV-KOODI_loss: 0.0870 - val_TILI_sparse_categorical_accuracy: 0.5714 - val_ALV-KOODI_sparse_categorical_accuracy: 0.9704\n",
      "Epoch 129/200\n",
      "244/244 [==============================] - 3s 7ms/step - loss: 1.5144 - TILI_loss: 1.4340 - ALV-KOODI_loss: 0.0804 - TILI_sparse_categorical_accuracy: 0.5796 - ALV-KOODI_sparse_categorical_accuracy: 0.9718 - val_loss: 1.5895 - val_TILI_loss: 1.5021 - val_ALV-KOODI_loss: 0.0874 - val_TILI_sparse_categorical_accuracy: 0.5647 - val_ALV-KOODI_sparse_categorical_accuracy: 0.9689\n",
      "Epoch 130/200\n",
      "243/244 [============================>.] - ETA: 0s - loss: 1.5766 - TILI_loss: 1.4608 - ALV-KOODI_loss: 0.1158 - TILI_sparse_categorical_accuracy: 0.5730 - ALV-KOODI_sparse_categorical_accuracy: 0.9622INFO:tensorflow:Assets written to: .\\best_model\\assets\n",
      "244/244 [==============================] - 6s 19ms/step - loss: 1.5765 - TILI_loss: 1.4608 - ALV-KOODI_loss: 0.1157 - TILI_sparse_categorical_accuracy: 0.5730 - ALV-KOODI_sparse_categorical_accuracy: 0.9622 - val_loss: 1.5181 - val_TILI_loss: 1.4341 - val_ALV-KOODI_loss: 0.0840 - val_TILI_sparse_categorical_accuracy: 0.5836 - val_ALV-KOODI_sparse_categorical_accuracy: 0.9713\n",
      "Epoch 131/200\n",
      "244/244 [==============================] - 3s 9ms/step - loss: 1.5212 - TILI_loss: 1.4285 - ALV-KOODI_loss: 0.0926 - TILI_sparse_categorical_accuracy: 0.5807 - ALV-KOODI_sparse_categorical_accuracy: 0.9696 - val_loss: 1.5589 - val_TILI_loss: 1.4494 - val_ALV-KOODI_loss: 0.1095 - val_TILI_sparse_categorical_accuracy: 0.5798 - val_ALV-KOODI_sparse_categorical_accuracy: 0.9639\n",
      "Epoch 132/200\n",
      "244/244 [==============================] - 4s 13ms/step - loss: 1.6084 - TILI_loss: 1.4836 - ALV-KOODI_loss: 0.1248 - TILI_sparse_categorical_accuracy: 0.5711 - ALV-KOODI_sparse_categorical_accuracy: 0.9639 - val_loss: 1.8635 - val_TILI_loss: 1.6979 - val_ALV-KOODI_loss: 0.1656 - val_TILI_sparse_categorical_accuracy: 0.5213 - val_ALV-KOODI_sparse_categorical_accuracy: 0.9484\n",
      "Epoch 133/200\n",
      "236/244 [============================>.] - ETA: 0s - loss: 1.5436 - TILI_loss: 1.4495 - ALV-KOODI_loss: 0.0941 - TILI_sparse_categorical_accuracy: 0.5764 - ALV-KOODI_sparse_categorical_accuracy: 0.9683INFO:tensorflow:Assets written to: .\\best_model\\assets\n",
      "244/244 [==============================] - 5s 17ms/step - loss: 1.5428 - TILI_loss: 1.4488 - ALV-KOODI_loss: 0.0940 - TILI_sparse_categorical_accuracy: 0.5766 - ALV-KOODI_sparse_categorical_accuracy: 0.9683 - val_loss: 1.5159 - val_TILI_loss: 1.4364 - val_ALV-KOODI_loss: 0.0796 - val_TILI_sparse_categorical_accuracy: 0.5835 - val_ALV-KOODI_sparse_categorical_accuracy: 0.9736\n",
      "Epoch 134/200\n",
      "244/244 [==============================] - 9s 33ms/step - loss: 1.5007 - TILI_loss: 1.4153 - ALV-KOODI_loss: 0.0855 - TILI_sparse_categorical_accuracy: 0.5843 - ALV-KOODI_sparse_categorical_accuracy: 0.9716 - val_loss: 1.5241 - val_TILI_loss: 1.4366 - val_ALV-KOODI_loss: 0.0875 - val_TILI_sparse_categorical_accuracy: 0.5818 - val_ALV-KOODI_sparse_categorical_accuracy: 0.9710\n",
      "Epoch 135/200\n",
      "244/244 [==============================] - 9s 32ms/step - loss: 1.4793 - TILI_loss: 1.4016 - ALV-KOODI_loss: 0.0777 - TILI_sparse_categorical_accuracy: 0.5880 - ALV-KOODI_sparse_categorical_accuracy: 0.9738 - val_loss: 1.5551 - val_TILI_loss: 1.4697 - val_ALV-KOODI_loss: 0.0854 - val_TILI_sparse_categorical_accuracy: 0.5707 - val_ALV-KOODI_sparse_categorical_accuracy: 0.9719\n",
      "Epoch 136/200\n",
      "243/244 [============================>.] - ETA: 0s - loss: 1.4774 - TILI_loss: 1.3977 - ALV-KOODI_loss: 0.0797 - TILI_sparse_categorical_accuracy: 0.5893 - ALV-KOODI_sparse_categorical_accuracy: 0.9738INFO:tensorflow:Assets written to: .\\best_model\\assets\n",
      "244/244 [==============================] - 12s 44ms/step - loss: 1.4775 - TILI_loss: 1.3977 - ALV-KOODI_loss: 0.0797 - TILI_sparse_categorical_accuracy: 0.5893 - ALV-KOODI_sparse_categorical_accuracy: 0.9738 - val_loss: 1.4885 - val_TILI_loss: 1.4147 - val_ALV-KOODI_loss: 0.0738 - val_TILI_sparse_categorical_accuracy: 0.5894 - val_ALV-KOODI_sparse_categorical_accuracy: 0.9758\n",
      "Epoch 137/200\n",
      "244/244 [==============================] - 7s 23ms/step - loss: 1.4541 - TILI_loss: 1.3805 - ALV-KOODI_loss: 0.0736 - TILI_sparse_categorical_accuracy: 0.5927 - ALV-KOODI_sparse_categorical_accuracy: 0.9754 - val_loss: 1.5434 - val_TILI_loss: 1.4468 - val_ALV-KOODI_loss: 0.0966 - val_TILI_sparse_categorical_accuracy: 0.5757 - val_ALV-KOODI_sparse_categorical_accuracy: 0.9673\n"
     ]
    },
    {
     "name": "stdout",
     "output_type": "stream",
     "text": [
      "Epoch 138/200\n",
      "244/244 [==============================] - 10s 35ms/step - loss: 1.6508 - TILI_loss: 1.5331 - ALV-KOODI_loss: 0.1177 - TILI_sparse_categorical_accuracy: 0.5601 - ALV-KOODI_sparse_categorical_accuracy: 0.9650 - val_loss: 1.7702 - val_TILI_loss: 1.6325 - val_ALV-KOODI_loss: 0.1377 - val_TILI_sparse_categorical_accuracy: 0.5282 - val_ALV-KOODI_sparse_categorical_accuracy: 0.9523\n",
      "Epoch 139/200\n",
      "244/244 [==============================] - 8s 27ms/step - loss: 1.5910 - TILI_loss: 1.4922 - ALV-KOODI_loss: 0.0989 - TILI_sparse_categorical_accuracy: 0.5623 - ALV-KOODI_sparse_categorical_accuracy: 0.9648 - val_loss: 1.5457 - val_TILI_loss: 1.4546 - val_ALV-KOODI_loss: 0.0910 - val_TILI_sparse_categorical_accuracy: 0.5759 - val_ALV-KOODI_sparse_categorical_accuracy: 0.9671\n",
      "Epoch 140/200\n",
      "244/244 [==============================] - 4s 12ms/step - loss: 1.5341 - TILI_loss: 1.4406 - ALV-KOODI_loss: 0.0936 - TILI_sparse_categorical_accuracy: 0.5783 - ALV-KOODI_sparse_categorical_accuracy: 0.9683 - val_loss: 1.5572 - val_TILI_loss: 1.4671 - val_ALV-KOODI_loss: 0.0901 - val_TILI_sparse_categorical_accuracy: 0.5783 - val_ALV-KOODI_sparse_categorical_accuracy: 0.9721\n",
      "Epoch 141/200\n",
      "244/244 [==============================] - 3s 7ms/step - loss: 1.4896 - TILI_loss: 1.4103 - ALV-KOODI_loss: 0.0794 - TILI_sparse_categorical_accuracy: 0.5849 - ALV-KOODI_sparse_categorical_accuracy: 0.9729 - val_loss: 1.5575 - val_TILI_loss: 1.4796 - val_ALV-KOODI_loss: 0.0779 - val_TILI_sparse_categorical_accuracy: 0.5749 - val_ALV-KOODI_sparse_categorical_accuracy: 0.9747\n",
      "Epoch 142/200\n",
      "244/244 [==============================] - 4s 12ms/step - loss: 1.8996 - TILI_loss: 1.7474 - ALV-KOODI_loss: 0.1522 - TILI_sparse_categorical_accuracy: 0.5208 - ALV-KOODI_sparse_categorical_accuracy: 0.9558 - val_loss: 1.6881 - val_TILI_loss: 1.5548 - val_ALV-KOODI_loss: 0.1333 - val_TILI_sparse_categorical_accuracy: 0.5502 - val_ALV-KOODI_sparse_categorical_accuracy: 0.9538\n",
      "Epoch 143/200\n",
      "244/244 [==============================] - 3s 7ms/step - loss: 1.5792 - TILI_loss: 1.4808 - ALV-KOODI_loss: 0.0983 - TILI_sparse_categorical_accuracy: 0.5672 - ALV-KOODI_sparse_categorical_accuracy: 0.9679 - val_loss: 1.6026 - val_TILI_loss: 1.5066 - val_ALV-KOODI_loss: 0.0960 - val_TILI_sparse_categorical_accuracy: 0.5631 - val_ALV-KOODI_sparse_categorical_accuracy: 0.9667\n",
      "Epoch 144/200\n",
      "244/244 [==============================] - 3s 9ms/step - loss: 1.5273 - TILI_loss: 1.4425 - ALV-KOODI_loss: 0.0848 - TILI_sparse_categorical_accuracy: 0.5778 - ALV-KOODI_sparse_categorical_accuracy: 0.9712 - val_loss: 1.5233 - val_TILI_loss: 1.4438 - val_ALV-KOODI_loss: 0.0795 - val_TILI_sparse_categorical_accuracy: 0.5809 - val_ALV-KOODI_sparse_categorical_accuracy: 0.9735\n",
      "Epoch 145/200\n",
      "244/244 [==============================] - 3s 7ms/step - loss: 1.5122 - TILI_loss: 1.4245 - ALV-KOODI_loss: 0.0877 - TILI_sparse_categorical_accuracy: 0.5813 - ALV-KOODI_sparse_categorical_accuracy: 0.9713 - val_loss: 1.5645 - val_TILI_loss: 1.4602 - val_ALV-KOODI_loss: 0.1043 - val_TILI_sparse_categorical_accuracy: 0.5780 - val_ALV-KOODI_sparse_categorical_accuracy: 0.9661\n",
      "Epoch 146/200\n",
      "244/244 [==============================] - 4s 12ms/step - loss: 1.5258 - TILI_loss: 1.4407 - ALV-KOODI_loss: 0.0852 - TILI_sparse_categorical_accuracy: 0.5764 - ALV-KOODI_sparse_categorical_accuracy: 0.9722 - val_loss: 1.7546 - val_TILI_loss: 1.4554 - val_ALV-KOODI_loss: 0.2992 - val_TILI_sparse_categorical_accuracy: 0.5806 - val_ALV-KOODI_sparse_categorical_accuracy: 0.9531\n",
      "Epoch 147/200\n",
      "244/244 [==============================] - 3s 7ms/step - loss: 1.4867 - TILI_loss: 1.4058 - ALV-KOODI_loss: 0.0809 - TILI_sparse_categorical_accuracy: 0.5855 - ALV-KOODI_sparse_categorical_accuracy: 0.9732 - val_loss: 1.5300 - val_TILI_loss: 1.4408 - val_ALV-KOODI_loss: 0.0892 - val_TILI_sparse_categorical_accuracy: 0.5834 - val_ALV-KOODI_sparse_categorical_accuracy: 0.9727\n",
      "Epoch 148/200\n",
      "244/244 [==============================] - 3s 9ms/step - loss: 1.5495 - TILI_loss: 1.4489 - ALV-KOODI_loss: 0.1007 - TILI_sparse_categorical_accuracy: 0.5766 - ALV-KOODI_sparse_categorical_accuracy: 0.9683 - val_loss: 1.6154 - val_TILI_loss: 1.5182 - val_ALV-KOODI_loss: 0.0973 - val_TILI_sparse_categorical_accuracy: 0.5607 - val_ALV-KOODI_sparse_categorical_accuracy: 0.9642\n",
      "Epoch 149/200\n",
      "244/244 [==============================] - 3s 8ms/step - loss: 1.5058 - TILI_loss: 1.4211 - ALV-KOODI_loss: 0.0847 - TILI_sparse_categorical_accuracy: 0.5808 - ALV-KOODI_sparse_categorical_accuracy: 0.9687 - val_loss: 1.5167 - val_TILI_loss: 1.4347 - val_ALV-KOODI_loss: 0.0819 - val_TILI_sparse_categorical_accuracy: 0.5823 - val_ALV-KOODI_sparse_categorical_accuracy: 0.9710\n",
      "Epoch 150/200\n",
      "244/244 [==============================] - 4s 10ms/step - loss: 1.4691 - TILI_loss: 1.3913 - ALV-KOODI_loss: 0.0778 - TILI_sparse_categorical_accuracy: 0.5898 - ALV-KOODI_sparse_categorical_accuracy: 0.9738 - val_loss: 1.5433 - val_TILI_loss: 1.4508 - val_ALV-KOODI_loss: 0.0925 - val_TILI_sparse_categorical_accuracy: 0.5778 - val_ALV-KOODI_sparse_categorical_accuracy: 0.9704\n",
      "Epoch 151/200\n",
      "244/244 [==============================] - 3s 7ms/step - loss: 1.4846 - TILI_loss: 1.4065 - ALV-KOODI_loss: 0.0781 - TILI_sparse_categorical_accuracy: 0.5866 - ALV-KOODI_sparse_categorical_accuracy: 0.9739 - val_loss: 1.5381 - val_TILI_loss: 1.4415 - val_ALV-KOODI_loss: 0.0966 - val_TILI_sparse_categorical_accuracy: 0.5813 - val_ALV-KOODI_sparse_categorical_accuracy: 0.9686\n",
      "Epoch 152/200\n",
      "244/244 [==============================] - 4s 11ms/step - loss: 1.7083 - TILI_loss: 1.5875 - ALV-KOODI_loss: 0.1208 - TILI_sparse_categorical_accuracy: 0.5462 - ALV-KOODI_sparse_categorical_accuracy: 0.9624 - val_loss: 1.6849 - val_TILI_loss: 1.5776 - val_ALV-KOODI_loss: 0.1073 - val_TILI_sparse_categorical_accuracy: 0.5463 - val_ALV-KOODI_sparse_categorical_accuracy: 0.9639\n",
      "Epoch 153/200\n",
      "244/244 [==============================] - 3s 7ms/step - loss: 1.6013 - TILI_loss: 1.4955 - ALV-KOODI_loss: 0.1058 - TILI_sparse_categorical_accuracy: 0.5645 - ALV-KOODI_sparse_categorical_accuracy: 0.9658 - val_loss: 1.6923 - val_TILI_loss: 1.5722 - val_ALV-KOODI_loss: 0.1200 - val_TILI_sparse_categorical_accuracy: 0.5486 - val_ALV-KOODI_sparse_categorical_accuracy: 0.9627\n",
      "Epoch 154/200\n",
      "244/244 [==============================] - 4s 10ms/step - loss: 1.6933 - TILI_loss: 1.5404 - ALV-KOODI_loss: 0.1529 - TILI_sparse_categorical_accuracy: 0.5594 - ALV-KOODI_sparse_categorical_accuracy: 0.9587 - val_loss: 1.6477 - val_TILI_loss: 1.5275 - val_ALV-KOODI_loss: 0.1202 - val_TILI_sparse_categorical_accuracy: 0.5661 - val_ALV-KOODI_sparse_categorical_accuracy: 0.9662\n",
      "Epoch 155/200\n",
      "244/244 [==============================] - 3s 7ms/step - loss: 1.5101 - TILI_loss: 1.4193 - ALV-KOODI_loss: 0.0908 - TILI_sparse_categorical_accuracy: 0.5835 - ALV-KOODI_sparse_categorical_accuracy: 0.9684 - val_loss: 1.5250 - val_TILI_loss: 1.4306 - val_ALV-KOODI_loss: 0.0944 - val_TILI_sparse_categorical_accuracy: 0.5835 - val_ALV-KOODI_sparse_categorical_accuracy: 0.9640\n",
      "Epoch 156/200\n",
      "244/244 [==============================] - 4s 10ms/step - loss: 1.5266 - TILI_loss: 1.4241 - ALV-KOODI_loss: 0.1025 - TILI_sparse_categorical_accuracy: 0.5840 - ALV-KOODI_sparse_categorical_accuracy: 0.9690 - val_loss: 1.5071 - val_TILI_loss: 1.4187 - val_ALV-KOODI_loss: 0.0884 - val_TILI_sparse_categorical_accuracy: 0.5881 - val_ALV-KOODI_sparse_categorical_accuracy: 0.9711\n"
     ]
    }
   ],
   "source": [
    "history = final_model.fit(train_data, \n",
    "                          validation_data=test_data,\n",
    "                          epochs = 200,\n",
    "                          callbacks = [best_model, es])"
   ]
  },
  {
   "cell_type": "code",
   "execution_count": 53,
   "id": "febf7488",
   "metadata": {},
   "outputs": [
    {
     "data": {
      "text/plain": [
       "<matplotlib.legend.Legend at 0x2e98dc448b0>"
      ]
     },
     "execution_count": 53,
     "metadata": {},
     "output_type": "execute_result"
    },
    {
     "data": {
      "image/png": "[encoded data removed]",
      "text/plain": [
       "<Figure size 1500x600 with 2 Axes>"
      ]
     },
     "metadata": {},
     "output_type": "display_data"
    }
   ],
   "source": [
    "import matplotlib.pyplot as plt\n",
    "\n",
    "# performance curve\n",
    "plt.figure(figsize=(15,6))\n",
    "epochs = history.epoch \n",
    "plt.subplot(1,2,1)\n",
    "plt.plot(epochs, history.history['TILI_loss'], label = \"train-TILI\")\n",
    "plt.plot(epochs, history.history['val_TILI_loss'], label = \"test-TILI\")\n",
    "plt.plot(epochs, history.history['ALV-KOODI_loss'], label = \"train-ALV\")\n",
    "plt.plot(epochs, history.history['val_ALV-KOODI_loss'], label = \"test-ALV\")\n",
    "plt.title('Loss')\n",
    "plt.legend()\n",
    "\n",
    "plt.subplot(1,2,2)\n",
    "plt.plot(epochs, history.history['TILI_sparse_categorical_accuracy'], label = \"train-TILI\")\n",
    "plt.plot(epochs, history.history['val_TILI_sparse_categorical_accuracy'], label = \"test-TILI\")\n",
    "plt.plot(epochs, history.history['ALV-KOODI_sparse_categorical_accuracy'], label = \"train-Age\")\n",
    "plt.plot(epochs, history.history['val_ALV-KOODI_sparse_categorical_accuracy'], label = \"test-ALV\")\n",
    "plt.title('Accuracy')\n",
    "plt.legend()"
   ]
  },
  {
   "cell_type": "markdown",
   "id": "25d217ed",
   "metadata": {},
   "source": [
    "The performance curve of the model shows that we do not have any problem of over or under fitting and also we can see that the model has converged smoothly."
   ]
  },
  {
   "cell_type": "code",
   "execution_count": 54,
   "id": "52a372b9",
   "metadata": {},
   "outputs": [],
   "source": [
    "# loading the best model\n",
    "best_model = tf.keras.models.load_model('best_model')"
   ]
  },
  {
   "cell_type": "code",
   "execution_count": 55,
   "id": "52f6c5a4",
   "metadata": {},
   "outputs": [
    {
     "name": "stdout",
     "output_type": "stream",
     "text": [
      "61/61 [==============================] - 1s 5ms/step - loss: 1.4885 - TILI_loss: 1.4147 - ALV-KOODI_loss: 0.0738 - TILI_sparse_categorical_accuracy: 0.5894 - ALV-KOODI_sparse_categorical_accuracy: 0.9758\n",
      "TILI - Loss: 1.4146554470062256\n",
      "TILI - Accuracy: 0.5894351601600647\n",
      "\n",
      "ALV-KOODI - Loss: 0.07380691915750504\n",
      "ALV-KOODI - Accuracy: 0.9758122563362122\n"
     ]
    }
   ],
   "source": [
    "# evaluate the test data\n",
    "\n",
    "test_results = best_model.evaluate(test_data)\n",
    "\n",
    "print(f'TILI - Loss: {test_results[1]}')\n",
    "print(f'TILI - Accuracy: {test_results[3]}')\n",
    "print()\n",
    "print(f'ALV-KOODI - Loss: {test_results[2]}')\n",
    "print(f'ALV-KOODI - Accuracy: {test_results[4]}')"
   ]
  },
  {
   "cell_type": "markdown",
   "id": "ffd5bd54",
   "metadata": {},
   "source": [
    "The evaluation result shows clearly that the model was very good in predicting the target feature 'ALV-KOODI' but performed poorly in predicting the feature 'TILI'. The reason for the poor prediction could be its higly skewed distribution. Therefore we could either perform more feature transformation on it or collect more data for better representation."
   ]
  },
  {
   "cell_type": "code",
   "execution_count": null,
   "id": "d6edec9d",
   "metadata": {},
   "outputs": [],
   "source": []
  }
 ],
 "metadata": {
  "kernelspec": {
   "display_name": "Python 3 (ipykernel)",
   "language": "python",
   "name": "python3"
  },
  "language_info": {
   "codemirror_mode": {
    "name": "ipython",
    "version": 3
   },
   "file_extension": ".py",
   "mimetype": "text/x-python",
   "name": "python",
   "nbconvert_exporter": "python",
   "pygments_lexer": "ipython3",
   "version": "3.9.15"
  }
 },
 "nbformat": 4,
 "nbformat_minor": 5
}
